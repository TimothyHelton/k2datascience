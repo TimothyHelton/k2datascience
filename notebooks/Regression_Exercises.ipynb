{
 "cells": [
  {
   "cell_type": "markdown",
   "metadata": {},
   "source": [
    "# Regression\n",
    "---\n",
    "Timothy Helton"
   ]
  },
  {
   "cell_type": "markdown",
   "metadata": {},
   "source": [
    "<a id='toc'></a>\n",
    "\n",
    "---\n",
    "### Table of Contents\n",
    "\n",
    "- [Imports](#imports)\n",
    "\n",
    "- [Framework](#framework)\n",
    "    - [Correlation Grid Function](#correlation_grid)\n",
    "    - [Correlation Heatmap Function](#correlation_heatmap)\n",
    "    - [Plot Regression Function](#plot_regression)\n",
    "    - [Plot Residuals Function](#plot_residuals)\n",
    "    - [Predict Function](#predict)\n",
    "    \n",
    "- [Load Data](#load_data)\n",
    "    - [Load Auto Dataset](#load_auto)\n",
    "    - [Load Boston Dataset](#load_boston)\n",
    "    - [Load Carseats Dataset](#load_carseats)\n",
    "    \n",
    "- [Exercise 1](#exercise_1)\n",
    "- [Exercise 2](#exercise_2)\n",
    "- [Exercise 3](#exercise_3)\n",
    "- [Exercise 4](#exercise_4)\n",
    "- [Exercise 5](#exercise_5)\n",
    "- [Exercise 6](#exercise_6)\n",
    "- [Exercise 7](#exercise_7)\n",
    "- [Exercise 8](#exercise_8)"
   ]
  },
  {
   "cell_type": "markdown",
   "metadata": {},
   "source": [
    "<a id='imports'></a>\n",
    "\n",
    "---\n",
    "### Imports\n",
    "\n",
    "[Table of Contents](#toc)"
   ]
  },
  {
   "cell_type": "code",
   "execution_count": null,
   "metadata": {},
   "outputs": [],
   "source": [
    "from collections import OrderedDict\n",
    "import itertools\n",
    "import os\n",
    "import os.path as osp\n",
    "\n",
    "import matplotlib.pyplot as plt\n",
    "import numpy as np\n",
    "import pandas as pd\n",
    "import seaborn as sns\n",
    "import statsmodels.api as sm\n",
    "import statsmodels.formula.api as smf\n",
    "import statsmodels.graphics.regressionplots as smrp\n",
    "import statsmodels.sandbox.regression as smsr\n",
    "\n",
    "from k2datascience.utils import save_fig, size\n",
    "\n",
    "from IPython.core.interactiveshell import InteractiveShell\n",
    "InteractiveShell.ast_node_interactivity = \"all\"\n",
    "%matplotlib inline"
   ]
  },
  {
   "cell_type": "markdown",
   "metadata": {},
   "source": [
    "<a id='framework'></a>\n",
    "\n",
    "---\n",
    "### Framework"
   ]
  },
  {
   "cell_type": "markdown",
   "metadata": {},
   "source": [
    "<a id='correlation_grid'></a>\n",
    "[Table of Contents](#toc)"
   ]
  },
  {
   "cell_type": "code",
   "execution_count": null,
   "metadata": {},
   "outputs": [],
   "source": [
    "def correlation_grid(data, bins=30, title=None, save=False):\n",
    "    \"\"\"\n",
    "    Plot the correlation grid.\n",
    "\n",
    "    :param pd.DataFrame data: original data\n",
    "    :param int bins: number of bins for diagonal histogram plots\n",
    "    :param bool save: if True the figure will be saved\n",
    "    :param str title: dataset title\n",
    "    \"\"\"\n",
    "    plot_title = 'Dataset Correlation'\n",
    "    if title:\n",
    "        title = f'{title} {plot_title}'\n",
    "    else:\n",
    "        title = plot_title\n",
    "    \n",
    "    grid = sns.pairplot(data,\n",
    "                        diag_kws={'alpha': 0.5, 'bins': bins,\n",
    "                                  'edgecolor': 'black'},\n",
    "                        plot_kws={'alpha': 0.7})\n",
    "\n",
    "    grid.fig.suptitle(title,\n",
    "                      fontsize=size['super_title'], y=1.03)\n",
    "\n",
    "    cols = data.columns\n",
    "    for n, col in enumerate(cols):\n",
    "        grid.axes[cols.size - 1, n].set_xlabel(cols[n],\n",
    "                                               fontsize=size['label'])\n",
    "        grid.axes[n, 0].set_ylabel(cols[n], fontsize=size['label'])\n",
    "\n",
    "    save_fig(title, save)"
   ]
  },
  {
   "cell_type": "markdown",
   "metadata": {},
   "source": [
    "<a id='correlation_heatmap'></a>\n",
    "[Table of Contents](#toc)"
   ]
  },
  {
   "cell_type": "code",
   "execution_count": null,
   "metadata": {},
   "outputs": [],
   "source": [
    "def correlation_heatmap(data, title=None, save=False):\n",
    "    \"\"\"\n",
    "    Plot the correlation values as a heatmap.\n",
    "\n",
    "    :param pd.DataFrame data: data object\n",
    "    :param str title: dataset title\n",
    "    :param bool save: if True the figure will be saved\n",
    "    \"\"\"\n",
    "    plot_title = 'Dataset Correlation'\n",
    "    if title:\n",
    "        title = f'{title} {plot_title}'\n",
    "    else:\n",
    "        title = plot_title\n",
    "\n",
    "    fig = plt.figure('Correlation Heatmap', figsize=(10, 8),\n",
    "                     facecolor='white', edgecolor='black')\n",
    "    rows, cols = (1, 1)\n",
    "    ax0 = plt.subplot2grid((rows, cols), (0, 0))\n",
    "\n",
    "    sns.heatmap(data.corr(),\n",
    "                annot=True, cbar_kws={'orientation': 'vertical'},\n",
    "                fmt='.2f', linewidths=5, vmin=-1, vmax=1, ax=ax0)\n",
    "\n",
    "    ax0.set_title(title, fontsize=size['title'])\n",
    "    ax0.set_xticklabels(ax0.xaxis.get_majorticklabels(),\n",
    "                        fontsize=size['label'], rotation=80)\n",
    "    ax0.set_yticklabels(ax0.yaxis.get_majorticklabels(),\n",
    "                        fontsize=size['label'], rotation=0)\n",
    "\n",
    "    save_fig(title, save)"
   ]
  },
  {
   "cell_type": "markdown",
   "metadata": {},
   "source": [
    "<a id='plot_regression'></a>\n",
    "[Table of Contents](#toc)"
   ]
  },
  {
   "cell_type": "code",
   "execution_count": null,
   "metadata": {},
   "outputs": [],
   "source": [
    "def plot_regression(data, lin_reg, features, target,\n",
    "                    exact_reg=None, save=False, title=None):\n",
    "    \"\"\"\n",
    "    Plot the original data with linear regression line.\n",
    "\n",
    "    :param pd.DataFrame data: data object\n",
    "    :param lin_reg: linear regression model\n",
    "    :type: statsmodels.regression.linear_model.RegressionRes\n",
    "    :param list features: names of feature columns\n",
    "    :param str target: name of target column\n",
    "    :param pd.DataFrame exact_reg: x and y points defining /\n",
    "        exact linear regression\n",
    "    :param bool save: if True the figure will be saved\n",
    "    :param str title: data set title\n",
    "    \"\"\"\n",
    "    plot_title = 'Linear Regression'\n",
    "    if title:\n",
    "        title = f'{title} {plot_title}'\n",
    "    else:\n",
    "        title = plot_title\n",
    "\n",
    "    fig = plt.figure(title, figsize=(8, 6),\n",
    "                     facecolor='white', edgecolor='black')\n",
    "    rows, cols = (1, 1)\n",
    "    ax = plt.subplot2grid((rows, cols), (0, 0))\n",
    "\n",
    "    x = data.loc[:, features]\n",
    "    y = data[target].values\n",
    "\n",
    "    for n, feature in enumerate(x.columns):\n",
    "        x = np.squeeze(data.loc[:, feature].values)\n",
    "        ax.scatter(x, y, alpha=0.5, color=f'C{n}', label=feature)\n",
    "\n",
    "        # Regression Line\n",
    "        sort_idx = np.argsort(x)\n",
    "        ax.plot(x[sort_idx], predict(x, lin_reg.params)[sort_idx],\n",
    "                color='black', label='Linear Regression', linestyle='--')\n",
    "        \n",
    "        # Upper and Lower Confidence Intervals\n",
    "        std, upper, lower = smsr.predstd.wls_prediction_std(lin_reg)\n",
    "        ax.plot(x[sort_idx], lower[sort_idx], alpha=0.5, color='green',\n",
    "                label='Upper Confidence Interval', linestyle='-.')\n",
    "        ax.plot(x[sort_idx], upper[sort_idx], alpha=0.5, color='red',\n",
    "                label='Lower Confidence Interval', linestyle='-.')\n",
    "        \n",
    "        if not exact_reg.empty:\n",
    "            exact_reg.plot(x='x', y='y', color='magenta',\n",
    "                           label='Exact Linear Regression',\n",
    "                           linestyle=':', ax=ax)\n",
    "\n",
    "        \n",
    "    features_list = f'({\", \".join(features)})'\n",
    "    ax.set_title(f'{target} vs {features_list}',\n",
    "                 fontsize=size['title'])\n",
    "    ax.legend()\n",
    "    ax.set_xlabel(features_list, fontsize=size['label'])\n",
    "    ax.set_ylabel(target, fontsize=size['label'])\n",
    "\n",
    "    save_fig(title, save)"
   ]
  },
  {
   "cell_type": "markdown",
   "metadata": {},
   "source": [
    "<a id='plot_residuals'></a>\n",
    "[Table of Contents](#toc)"
   ]
  },
  {
   "cell_type": "code",
   "execution_count": null,
   "metadata": {},
   "outputs": [],
   "source": [
    "def plot_residuals(lin_reg, save=False, title=None):\n",
    "    \"\"\"\n",
    "    Plot resdual statistics\n",
    "    \n",
    "    :param lin_reg: linear regression model\n",
    "    :type: statsmodels.regression.linear_model.RegressionRes\n",
    "    :param bool save: if True the figure will be saved\n",
    "    :param str title: data set title\n",
    "    \"\"\"\n",
    "    plot_title = 'Dataset Residuals'\n",
    "    if title:\n",
    "        title = f'{title} {plot_title}'\n",
    "    else:\n",
    "        title = plot_title\n",
    "\n",
    "    fig = plt.figure(title, figsize=(14, 21),\n",
    "                     facecolor='white', edgecolor='black')\n",
    "    rows, cols = (3, 2)\n",
    "    ax0 = plt.subplot2grid((rows, cols), (0, 0))\n",
    "    ax1 = plt.subplot2grid((rows, cols), (0, 1))\n",
    "    ax2 = plt.subplot2grid((rows, cols), (1, 0), rowspan=2)\n",
    "    ax3 = plt.subplot2grid((rows, cols), (1, 1), rowspan=2)\n",
    "\n",
    "    # Normalized Residuals Histogram\n",
    "    ax0.hist(lin_reg.resid_pearson, alpha=0.5, edgecolor='black')\n",
    "\n",
    "    ax0.set_title('Normalized Residuals Histogram',\n",
    "                  fontsize=size['title'])\n",
    "    ax0.set_xlabel('Normalized Residuals', fontsize=size['label'])\n",
    "    ax0.set_ylabel('Counts', fontsize=size['label'])\n",
    "    \n",
    "    # Residuals vs Fitted Values\n",
    "    ax1.scatter(lin_reg.fittedvalues, lin_reg.resid)\n",
    "    \n",
    "    ax1.set_title('Raw Residuals vs Fitted Values',\n",
    "                  fontsize=size['title'])\n",
    "    ax1.set_xlabel('Fitted Values', fontsize=size['label'])\n",
    "    ax1.set_ylabel('Raw Residuals', fontsize=size['label'])\n",
    "    \n",
    "    # Leverage vs Normalized Residuals Squared\n",
    "    leverage = smrp.plot_leverage_resid2(lin_reg, ax=ax2)\n",
    "\n",
    "    ax2.set_title('Leverage vs Normalized $Residuals^2$',\n",
    "                  fontsize=size['title'])\n",
    "    ax2.set_xlabel('Normalized $Residuals^2$',\n",
    "                   fontsize=size['label'])\n",
    "    ax2.set_ylabel('Leverage', fontsize=size['label'])\n",
    "\n",
    "    # Influence Plot\n",
    "    influence = smrp.influence_plot(lin_reg, ax=ax3)\n",
    "\n",
    "    ax3.set_title('Influence Plot',\n",
    "                  fontsize=size['title'])\n",
    "    ax3.set_xlabel('H Leverage',\n",
    "                   fontsize=size['label'])\n",
    "    ax3.set_ylabel('Studentized Residuals',\n",
    "                   fontsize=size['label'])\n",
    "\n",
    "    plt.tight_layout\n",
    "    plt.suptitle(title, fontsize=size['super_title'], y=0.92)\n",
    "\n",
    "    save_fig(title, save)"
   ]
  },
  {
   "cell_type": "markdown",
   "metadata": {},
   "source": [
    "<a id='predict'></a>\n",
    "[Table of Contents](#toc)"
   ]
  },
  {
   "cell_type": "code",
   "execution_count": null,
   "metadata": {},
   "outputs": [],
   "source": [
    "def predict(x, parameters):\n",
    "    \"\"\"\n",
    "    Return predicted values provided regression parameters.\n",
    "    \n",
    "    .. note:: StatsModels provides regression coefficients in increasing\n",
    "        order, while NumPy would like to recive them in decreasing order.\n",
    "        This function is designed to recive the StatsModels format,\n",
    "        reverse the dimensionality, and then allow NumPy to perform the\n",
    "        calculation.\n",
    "    \n",
    "    :param np.array x: array of input values\n",
    "    :param pd.Series parameters: linear regression coefficients in\n",
    "        order of increasing dimension\n",
    "    :return: predicted target values\n",
    "    :rtype: np.array\n",
    "    \"\"\" \n",
    "    p = np.poly1d(parameters.values[::-1])\n",
    "    return p(x)"
   ]
  },
  {
   "cell_type": "markdown",
   "metadata": {},
   "source": [
    "<a id='load_data'></a>\n",
    "\n",
    "---\n",
    "### Load Data\n",
    "\n",
    "[Table of Contents](#toc)"
   ]
  },
  {
   "cell_type": "code",
   "execution_count": null,
   "metadata": {},
   "outputs": [],
   "source": [
    "data_dir = osp.realpath(osp.join(os.getcwd(), '..', 'data',\n",
    "                                 'linear_regression'))"
   ]
  },
  {
   "cell_type": "markdown",
   "metadata": {},
   "source": [
    "<a id='load_auto'></a>\n",
    "\n",
    "##### Auto Dataset\n",
    "[Table of Contents](#toc)"
   ]
  },
  {
   "cell_type": "code",
   "execution_count": null,
   "metadata": {},
   "outputs": [],
   "source": [
    "auto = pd.read_csv(osp.join(data_dir, 'auto.csv'))\n",
    "data = auto\n",
    "data.info()\n",
    "data.head()\n",
    "data.describe()"
   ]
  },
  {
   "cell_type": "markdown",
   "metadata": {},
   "source": [
    "<a id='load_boston'></a>\n",
    "\n",
    "##### Boston Dataset\n",
    "[Table of Contents](#toc)"
   ]
  },
  {
   "cell_type": "code",
   "execution_count": null,
   "metadata": {},
   "outputs": [],
   "source": [
    "boston = pd.read_csv(osp.join(data_dir, 'boston.csv'), index_col=0)\n",
    "data = boston\n",
    "data.info()\n",
    "data.head()\n",
    "data.describe()"
   ]
  },
  {
   "cell_type": "markdown",
   "metadata": {},
   "source": [
    "<a id='load_carseats'></a>\n",
    "\n",
    "##### Carseats Dataset\n",
    "[Table of Contents](#toc)"
   ]
  },
  {
   "cell_type": "code",
   "execution_count": null,
   "metadata": {},
   "outputs": [],
   "source": [
    "carseats = pd.read_csv(osp.join(data_dir, 'carseats.csv'))\n",
    "data = carseats\n",
    "data.info()\n",
    "data.head()\n",
    "data.describe()"
   ]
  },
  {
   "cell_type": "markdown",
   "metadata": {},
   "source": [
    "-----------------"
   ]
  },
  {
   "cell_type": "markdown",
   "metadata": {},
   "source": [
    "<a id='exercise_1'></a>\n",
    "\n",
    "## Exercise 1 - Use simple linear regression on the `Auto` data set.\n",
    "\n",
    "1. Use `statsmodels` or `scikit-learn` to perform a simple linear regression with\n",
    "`mpg` as the response and `horsepower` as the predictor. Print the results. Comment on the output.\n",
    "For example:\n",
    "    - Is there a relationship between the predictor and the response?\n",
    "    - How strong is the relationship between the predictor and the response?\n",
    "    - Is the relationship between the predictor and the response positive or negative?\n",
    "    - What is the predicted `mpg` associated with a `horsepower` of 98? *Optional: What are the associated 95% confidence and prediction intervals?*\n",
    "\n",
    "2. Plot the response and the predictor. Plot the least squares regression line.\n",
    "\n",
    "3. Produce [diagnostic plots](http://data.library.virginia.edu/diagnostic-plots/) of the least squares regression fit. Comment on any problems you see with the fit.\n",
    "\n",
    "[Table of Contents](#toc)"
   ]
  },
  {
   "cell_type": "markdown",
   "metadata": {},
   "source": [
    "1) Use statsmodels or scikit-learn to perform a simple linear regression with mpg as the response and horsepower as the predictor. Print the results. Comment on the output."
   ]
  },
  {
   "cell_type": "code",
   "execution_count": null,
   "metadata": {},
   "outputs": [],
   "source": [
    "lr = smf.ols(formula='mpg ~ horsepower', data=auto).fit()\n",
    "lr.summary()"
   ]
  },
  {
   "cell_type": "code",
   "execution_count": null,
   "metadata": {},
   "outputs": [],
   "source": [
    "print(f'Horsepower: 98\\tMPG:{predict(98, lr.params):.2f}')"
   ]
  },
  {
   "cell_type": "markdown",
   "metadata": {},
   "source": [
    "##### Findings\n",
    "- The F-statistic is not equal to zero, so a relationship exists between MPG and Horsepower.\n",
    "    - This is confirmed by the P-value of zero.\n",
    "- The model has an $R^2$ value of 0.6, which implies poor accuracy.\n",
    "    - In the next cell the relationship model appears to have the following form. $$y = 1/x$$\n",
    "- The T-statistic has a mixed response for this model.\n",
    "    - The intercept coefficient appears to be well suited, but the Horsepower coefficient is too imprecise to determine the effect on the response."
   ]
  },
  {
   "cell_type": "markdown",
   "metadata": {},
   "source": [
    "2) Plot the response and the predictor. Plot the least squares regression line."
   ]
  },
  {
   "cell_type": "code",
   "execution_count": null,
   "metadata": {},
   "outputs": [],
   "source": [
    "plot_regression(data=auto, lin_reg=lr, features=['horsepower'],\n",
    "                target='mpg')"
   ]
  },
  {
   "cell_type": "markdown",
   "metadata": {},
   "source": [
    "3) Produce diagnostic plots of the least squares regression fit. Comment on any problems you see with the fit."
   ]
  },
  {
   "cell_type": "code",
   "execution_count": null,
   "metadata": {},
   "outputs": [],
   "source": [
    "plot_residuals(lr)"
   ]
  },
  {
   "cell_type": "markdown",
   "metadata": {},
   "source": [
    "<a id='exercise_2'></a>\n",
    "\n",
    "## Exercise 2 - Use multiple linear regression on the `Auto` data set.\n",
    "\n",
    "1. Produce a scatterplot matrix which includes all of the variables\n",
    "in the data set.\n",
    "\n",
    "2. Compute the matrix of correlations between the variables using\n",
    "the function corr(). Plot a matrix correlation heatmap as well.\n",
    "\n",
    "3. Perform a multiple linear regression with `mpg` as the response and all other variables except `name` as the predictors. Print the results. Comment on the output. For instance:\n",
    "    - Is there a relationship between the predictors and the response?\n",
    "    - Which predictors appear to have a statistically significant relationship to the response?\n",
    "    - What does the coefficient for the year variable suggest?\n",
    "4. Produce diagnostic plots of the linear\n",
    "regression fit. Comment on any problems you see with the fit.\n",
    "Do the residual plots suggest any unusually large outliers? Does\n",
    "the leverage plot identify any observations with unusually high\n",
    "leverage?\n",
    "\n",
    "5. Use the - and + symbols to fit linear regression models with\n",
    "interaction effects. Do any interactions appear to be statistically\n",
    "significant?\n",
    "\n",
    "6. Try a few different transformations of the variables, such as\n",
    "$log(X)$, $\\sqrt{X}$, $X^2$. Comment on your findings.\n",
    "\n",
    "[Table of Contents](#toc)"
   ]
  },
  {
   "cell_type": "markdown",
   "metadata": {},
   "source": [
    "1) Produce a scatterplot matrix which includes all of the variables in the data set."
   ]
  },
  {
   "cell_type": "code",
   "execution_count": null,
   "metadata": {},
   "outputs": [],
   "source": [
    "numeric = auto.select_dtypes(include=[np.int, np.float])\n",
    "correlation_grid(numeric, bins=10)"
   ]
  },
  {
   "cell_type": "markdown",
   "metadata": {},
   "source": [
    "2) Compute the matrix of correlations between the variables using the function corr(). Plot a matrix correlation heatmap as well."
   ]
  },
  {
   "cell_type": "code",
   "execution_count": null,
   "metadata": {},
   "outputs": [],
   "source": [
    "auto.corr()"
   ]
  },
  {
   "cell_type": "code",
   "execution_count": null,
   "metadata": {},
   "outputs": [],
   "source": [
    "correlation_heatmap(auto)"
   ]
  },
  {
   "cell_type": "markdown",
   "metadata": {},
   "source": [
    "3) Perform a multiple linear regression with mpg as the response and all other variables except name as the predictors. Print the results. Comment on the output."
   ]
  },
  {
   "cell_type": "code",
   "execution_count": null,
   "metadata": {},
   "outputs": [],
   "source": [
    "features = numeric.drop('mpg', axis=1)\n",
    "features = ' + '.join(features.columns)"
   ]
  },
  {
   "cell_type": "code",
   "execution_count": null,
   "metadata": {},
   "outputs": [],
   "source": [
    "lr = smf.ols(formula=f'mpg ~ {features}', data=auto).fit()\n",
    "lr.summary()"
   ]
  },
  {
   "cell_type": "markdown",
   "metadata": {},
   "source": [
    "##### Findings\n",
    "- The F-statistic is not equal to zero, so a relationship exists between MPG and at least one of the features.\n",
    "    - This is confirmed by the P-values. Features with a relationship to MPG are the following:\n",
    "        - Displacement\n",
    "        - Weight\n",
    "        - Year\n",
    "        - Origin\n",
    "- The model has an $R^2$ value of 0.821\n",
    "    - This will have to be improved for the model to be used in a predictive manner.\n",
    "- The Year coefficient states the relationship to MPG is $$\\frac{0.75\\ MPG}{1 \\ Year}$$ "
   ]
  },
  {
   "cell_type": "markdown",
   "metadata": {},
   "source": [
    "4) Produce diagnostic plots of the linear regression fit. Comment on any problems you see with the fit. Do the residual plots suggest any unusually large outliers? Does the leverage plot identify any observations with unusually high leverage?"
   ]
  },
  {
   "cell_type": "code",
   "execution_count": null,
   "metadata": {},
   "outputs": [],
   "source": [
    "plot_residuals(lr)"
   ]
  },
  {
   "cell_type": "code",
   "execution_count": null,
   "metadata": {},
   "outputs": [],
   "source": [
    "auto.loc[10:15, :]"
   ]
  },
  {
   "cell_type": "code",
   "execution_count": null,
   "metadata": {},
   "outputs": [],
   "source": [
    "numeric.loc[13, :] / numeric.max()"
   ]
  },
  {
   "cell_type": "markdown",
   "metadata": {},
   "source": [
    "##### Findings\n",
    "- The residules are fair for this model, but not great.\n",
    "- Some outliers exist in this dataset.\n",
    "- Observation 13 has a large influence on the data.\n",
    "    - Displacement: 100 percentile\n",
    "    - Horsepower: 97.8 percentile\n",
    "    - Year: 85.3 percentile"
   ]
  },
  {
   "cell_type": "markdown",
   "metadata": {},
   "source": [
    "5) Use the - and + symbols to fit linear regression models with interaction effects. Do any interactions appear to be statistically significant?"
   ]
  },
  {
   "cell_type": "code",
   "execution_count": null,
   "metadata": {},
   "outputs": [],
   "source": [
    "features = numeric.drop('mpg', axis=1)\n",
    "interactions = [f'{x[0]} * {x[1]}' for x\n",
    "                in itertools.combinations(features.columns, 2)]\n",
    "interactions = ' + '.join(interactions)\n",
    "inter_formula = f'mpg ~ {\" + \".join(features)} + {interactions}'"
   ]
  },
  {
   "cell_type": "code",
   "execution_count": null,
   "metadata": {},
   "outputs": [],
   "source": [
    "new_lr = smf.ols(formula=inter_formula, data=auto).fit()\n",
    "new_lr.summary()"
   ]
  },
  {
   "cell_type": "markdown",
   "metadata": {},
   "source": [
    "##### Findings\n",
    "- The F-statistic is not equal to zero, so a relationship exists between MPG and at least one of the features.\n",
    "    - This is confirmed by the P-values. Features with a relationship to MPG are the following:\n",
    "        - Acceleration\n",
    "        - Displacement\n",
    "        - Origin\n",
    "        - Acceleration + Origin\n",
    "        - Acceleration + Year\n",
    "        - Displacement + Year\n",
    "- Acceleration appears multiple times and also masks the weight feature.\n",
    "- The model has an $R^2$ value of 0.881\n",
    "    - This will have to be improved for the model to be used in a predictive manner."
   ]
  },
  {
   "cell_type": "code",
   "execution_count": null,
   "metadata": {},
   "outputs": [],
   "source": [
    "plot_residuals(new_lr)"
   ]
  },
  {
   "cell_type": "markdown",
   "metadata": {},
   "source": [
    "6) Try a few different transformations of the variables, such as $log(X)$, $\\sqrt{X}$, $X^2$. Comment on your findings."
   ]
  },
  {
   "cell_type": "code",
   "execution_count": null,
   "metadata": {},
   "outputs": [],
   "source": [
    "transformations = OrderedDict()\n",
    "for trans in ('', 'np.log', 'np.sqrt', 'np.square'):\n",
    "    model = smf.ols(formula=f'mpg ~ {trans}(horsepower)',\n",
    "                    data=auto).fit()\n",
    "    transformations[trans] = model.rsquared\n",
    "    fig = sm.qqplot(model.resid)\n",
    "    \n",
    "    if not trans:\n",
    "        trans = 'Native'\n",
    "    plt.title(trans, fontsize=size['title']);\n",
    "    plt.show();\n",
    "    \n",
    "transformations"
   ]
  },
  {
   "cell_type": "markdown",
   "metadata": {},
   "source": [
    "##### Findings\n",
    "- The log(horsepower) has the most linear fit of the models tested."
   ]
  },
  {
   "cell_type": "code",
   "execution_count": null,
   "metadata": {},
   "outputs": [],
   "source": [
    "trans_lr = smf.ols(formula=(\n",
    "    'mpg ~ cylinders + np.log(displacement) + horsepower'\n",
    "    '+ weight + acceleration - year + origin - 1'), data=auto).fit()\n",
    "trans_lr.summary()"
   ]
  },
  {
   "cell_type": "markdown",
   "metadata": {},
   "source": [
    "##### Findings\n",
    "- From the correlation scatter plot I would like to transform displacement, horsepower and weight to be inverse relastionships, but it appears StatsModels patsy does not support this transformation.\n",
    "- Converting displacement to be a logrithmic relationship was the only positive effect on the residules I was able to identify."
   ]
  },
  {
   "cell_type": "code",
   "execution_count": null,
   "metadata": {},
   "outputs": [],
   "source": [
    "plot_residuals(trans_lr)"
   ]
  },
  {
   "cell_type": "markdown",
   "metadata": {},
   "source": [
    "<a id='exercise_3'></a>\n",
    "\n",
    "## Exercise 3 - Use multiple regression using the `Carseats` data set.\n",
    "\n",
    "1. Fit a multiple regression model to predict `Sales` using `Price`,\n",
    "`Urban`, and `US`.\n",
    "\n",
    "2. Provide an interpretation of each coefficient in the model. Be\n",
    "careful—some of the variables in the model are qualitative!\n",
    "\n",
    "3. Write out the model in equation form, being careful to handle\n",
    "the qualitative variables properly.\n",
    "\n",
    "4. For which of the predictors can you reject the null hypothesis\n",
    "H: β = 0?\n",
    "\n",
    "5. On the basis of your response to the previous question, fit a\n",
    "smaller model that only uses the predictors for which there is\n",
    "evidence of association with the outcome.\n",
    "\n",
    "6. How well do the models in (1) and (5) fit the data?\n",
    "\n",
    "7. Using the model from (5), obtain 95% confidence intervals for\n",
    "the coefficient(s).\n",
    "\n",
    "8. Is there evidence of outliers or high leverage observations in the\n",
    "model from (5)?\n",
    "\n",
    "[Table of Contents](#toc)"
   ]
  },
  {
   "cell_type": "markdown",
   "metadata": {},
   "source": [
    "1) Fit a multiple regression model to predict Sales using Price, Urban, and US."
   ]
  },
  {
   "cell_type": "code",
   "execution_count": null,
   "metadata": {},
   "outputs": [],
   "source": [
    "features = ' + '.join(['Price', 'Urban', 'US'])\n",
    "\n",
    "lr = smf.ols(formula=f'Sales ~ {features}', data=carseats).fit()\n",
    "lr.summary()"
   ]
  },
  {
   "cell_type": "markdown",
   "metadata": {},
   "source": [
    "2) Provide an interpretation of each coefficient in the model. Be careful—some of the variables in the model are qualitative!"
   ]
  },
  {
   "cell_type": "markdown",
   "metadata": {},
   "source": [
    "- Price $$\\frac{1\\ Price}{-5.45\\ Sales}$$\n",
    "- Urban $$\\frac{2.2\\ Rural}{1\\ Urban}$$\n",
    "- US $$\\frac{1.2\\ US}{1\\ Non-US}$$"
   ]
  },
  {
   "cell_type": "markdown",
   "metadata": {},
   "source": [
    "3) Write out the model in equation form, being careful to handle the qualitative variables properly."
   ]
  },
  {
   "cell_type": "markdown",
   "metadata": {},
   "source": [
    "$$Sales = 13.0435 - 0.0545\\ Price - 0.0219\\ Urban + 1.2006\\ US$$"
   ]
  },
  {
   "cell_type": "markdown",
   "metadata": {},
   "source": [
    "4) For which of the predictors can you reject the null hypothesis H: β = 0?"
   ]
  },
  {
   "cell_type": "markdown",
   "metadata": {},
   "source": [
    "- $H_0$: There is no relationship between X and Y.\n",
    "    - Features with high P-values:\n",
    "        - Price\n",
    "        - US"
   ]
  },
  {
   "cell_type": "markdown",
   "metadata": {},
   "source": [
    "5) On the basis of your response to the previous question, fit a smaller model that only uses the predictors for which there is evidence of association with the outcome."
   ]
  },
  {
   "cell_type": "code",
   "execution_count": null,
   "metadata": {},
   "outputs": [],
   "source": [
    "lr = smf.ols(formula='Sales ~ Price + US', data=carseats).fit()\n",
    "lr.summary()"
   ]
  },
  {
   "cell_type": "markdown",
   "metadata": {},
   "source": [
    "6) How well do the models in (1) and (5) fit the data ?"
   ]
  },
  {
   "cell_type": "markdown",
   "metadata": {},
   "source": [
    "Neither model is very good with $R^2$ values of 0.239."
   ]
  },
  {
   "cell_type": "markdown",
   "metadata": {},
   "source": [
    "7) Using the model from (5), obtain 95% confidence intervals for the coefficient(s)."
   ]
  },
  {
   "cell_type": "code",
   "execution_count": null,
   "metadata": {},
   "outputs": [],
   "source": [
    "(lr.conf_int(0.05)\n",
    " .rename(columns={0: 'Lower', 1: 'Upper'}))"
   ]
  },
  {
   "cell_type": "markdown",
   "metadata": {},
   "source": [
    "8) Is there evidence of outliers or high leverage observations in the model from (5) ?"
   ]
  },
  {
   "cell_type": "code",
   "execution_count": null,
   "metadata": {},
   "outputs": [],
   "source": [
    "plot_residuals(lr)"
   ]
  },
  {
   "cell_type": "markdown",
   "metadata": {},
   "source": [
    "##### Findings\n",
    "- There are Studentized Residuals outside the range {-2, 2} indicating the presents of outliers."
   ]
  },
  {
   "cell_type": "markdown",
   "metadata": {},
   "source": [
    "<a id='exercise_4'></a>\n",
    "\n",
    "## Exercise 4 - Investigate the t-statistic for the null hypothesis. \n",
    "\n",
    "In this problem we will investigate the t-statistic for the null hypothesis\n",
    "H: β = 0 in simple linear regression without an intercept. To\n",
    "begin, we generate a predictor x and a response y as follows.\n",
    "\n",
    "    import numpy as np\n",
    "    np.random.seed(1)\n",
    "    x = np.random.randn(100)\n",
    "    y = 2 * x + np.random.randn(100)\n",
    "\n",
    "1. Perform a simple linear regression of y onto x, without an intercept.\n",
    "Report the coefficient estimate β, the standard error of\n",
    "this coefficient estimate, and the t-statistic and p-value associated\n",
    "with the null hypothesis H: β = 0. Comment on these\n",
    "results. (You can perform regression without an intercept)\n",
    "\n",
    "2. Now perform a simple linear regression of x onto y without an\n",
    "intercept, and report the coefficient estimate, its standard error,\n",
    "and the corresponding t-statistic and p-values associated with\n",
    "the null hypothesis H: β = 0. Comment on these results.\n",
    "\n",
    "3. What is the relationship between the results obtained in (1) and\n",
    "(2)?\n",
    "\n",
    "4. For the regrssion of Y onto X without an intercept, the t-statistic for H0:β=0 takes the form β^/SE(β^), where β^ is given by (3.38), and where\n",
    "\n",
    "\n",
    "$$SE(\\hat{\\beta}) = \\sqrt{\\frac{\\sum_{i=1}^n(y_i - x_i\\hat{\\beta})^2}{(n - 1)\\sum_{i=1}^nx_i^2}}$$\n",
    "\n",
    "*Confirm numerically in Python, that the t-statistic can be written as*\n",
    "\n",
    "$$\\frac{\\sqrt{n - 1}\\sum_{i=1}^nx_iy_i}{\\sqrt{(\\sum_{i=1}^nx_i^2)(\\sum_{i=1}^ny_i^2) - (\\sum_{i=1}^nx_iy_i)}}$$\n",
    "\n",
    "5 . Using the results from (4), argue that the t-statistic for the regression of y onto x is the same t-statistic for the regression of x onto y.\n",
    "\n",
    "6 . In Python, show that when regression is performed with an intercept, the t-statistic for H0:β1=0 is the same for the regression of y onto x as it is the regression of x onto y.\n",
    "\n",
    "[Table of Contents](#toc)"
   ]
  },
  {
   "cell_type": "code",
   "execution_count": null,
   "metadata": {},
   "outputs": [],
   "source": [
    "np.random.seed(1)\n",
    "x = np.random.randn(100)\n",
    "y = 2 * x + np.random.randn(100)\n",
    "data = pd.DataFrame(np.c_[x, y], columns=['x', 'y'])\n",
    "\n",
    "data.info()\n",
    "data.head()"
   ]
  },
  {
   "cell_type": "code",
   "execution_count": null,
   "metadata": {},
   "outputs": [],
   "source": [
    "correlation_grid(data, title='Random')"
   ]
  },
  {
   "cell_type": "code",
   "execution_count": null,
   "metadata": {},
   "outputs": [],
   "source": [
    "correlation_heatmap(data, title='Random')"
   ]
  },
  {
   "cell_type": "markdown",
   "metadata": {},
   "source": [
    "1) Perform a simple linear regression of y onto x, without an intercept. Report the coefficient estimate β, the standard error of this coefficient estimate, and the t-statistic and p-value associated with the null hypothesis H0. Comment on these results."
   ]
  },
  {
   "cell_type": "code",
   "execution_count": null,
   "metadata": {},
   "outputs": [],
   "source": [
    "lr = smf.ols(formula='y ~ x - 1', data=data).fit()\n",
    "lr.summary()"
   ]
  },
  {
   "cell_type": "code",
   "execution_count": null,
   "metadata": {},
   "outputs": [],
   "source": [
    "lr = smf.OLS(y, x).fit()\n",
    "lr.summary()"
   ]
  },
  {
   "cell_type": "markdown",
   "metadata": {},
   "source": [
    "##### Findings\n",
    "- Coefficient estimate: 2.1067\n",
    "- Coefficient estimate standard error: 0.106\n",
    "- The F-statistic is not equal to zero, so a relationship exists between y and x.\n",
    "    - This is confirmed by the P-value of zero.\n",
    "- The model has an $R^2$ value of 0.798, which is fair.\n",
    "- The T-statistic is large indicating the x coefficient estimate is both large and precise."
   ]
  },
  {
   "cell_type": "markdown",
   "metadata": {},
   "source": [
    "2) Now perform a simple linear regression of x onto y, without an intercept. Report the coefficient estimate β, the standard error of this coefficient estimate, and the t-statistic and p-value associated with the null hypothesis H0. Comment on these results."
   ]
  },
  {
   "cell_type": "markdown",
   "metadata": {},
   "source": [
    "##### Findings\n",
    "- Coefficient estimate: 0.3789\n",
    "- Coefficient estimate standard error: 0.019\n",
    "- The F-statistic is not equal to zero, so a relationship exists between x and y.\n",
    "    - This is confirmed by the P-value of zero.\n",
    "- The model has an $R^2$ value of 0.798, which is fair.\n",
    "- The T-statistic is large indicating the y coefficient estimate is both large and precise."
   ]
  },
  {
   "cell_type": "markdown",
   "metadata": {},
   "source": [
    "3) What is the relationship between the results obtained in (1) and (2)?"
   ]
  },
  {
   "cell_type": "markdown",
   "metadata": {},
   "source": [
    "Both regresions are just rearragements of the same fit."
   ]
  },
  {
   "cell_type": "markdown",
   "metadata": {},
   "source": [
    "4) For the regrssion of Y onto X without an intercept, the t-statistic for H0:β=0 takes the form β^/SE(β^), where β^ is given by (3.38), and where\n",
    "\n",
    "$$SE(\\hat{\\beta}) = \\sqrt{\\frac{\\sum_{i=1}^n(y_i - x_i\\hat{\\beta})^2}{(n - 1)\\sum_{i=1}^nx_i^2}}$$\n",
    "\n",
    "Show algebraically, and confirm numerically in Python, that the t-statistic can be written as \n",
    "\n",
    "$$\\frac{\\sqrt{n - 1}\\sum_{i=1}^nx_iy_i}{\\sqrt{(\\sum_{i=1}^nx_i^2)(\\sum_{i=1}^ny_i^2) - (\\sum_{i=1}^nx_iy_i)}}$$"
   ]
  },
  {
   "cell_type": "markdown",
   "metadata": {},
   "source": [
    "We have\n",
    "\n",
    "$$t = \\frac{\\sum_ix_iy_y/\\sum_jx_j^2}{\\sqrt{\\sum_i(y_i - x_i\\hat{\\beta})^2/(n - 1)\\sum_jx_j^2}} = \\frac{\\sqrt{n - 1}\\sum_ix_iy_i}{\\sqrt{\\sum_jx_j^2\\sum_i(y_i - x_i\\sum_jx_jy_j/\\sum_jx_j^2)^2}} = \\frac{\\sqrt{n - 1}\\sum_ix_iy_i}{\\sqrt{(\\sum_jx_j^2)(\\sum_jy_j^2) - (\\sum_jx_jy_j)^2}}$$"
   ]
  },
  {
   "cell_type": "markdown",
   "metadata": {},
   "source": [
    "Now let’s verify this result numerically."
   ]
  },
  {
   "cell_type": "code",
   "execution_count": null,
   "metadata": {},
   "outputs": [],
   "source": [
    "n = x.size\n",
    "((np.sqrt(n - 1) * np.sum(x * y))\n",
    " / np.sqrt(np.sum(x**2) * np.sum(y**2) - np.sum(x * y)**2))"
   ]
  },
  {
   "cell_type": "markdown",
   "metadata": {},
   "source": [
    "This matches the calculated value above"
   ]
  },
  {
   "cell_type": "markdown",
   "metadata": {},
   "source": [
    "5) Using the results from (4), argue that the t-statistic for the regression of y onto x is the same t-statistic for the regression of x onto y."
   ]
  },
  {
   "cell_type": "markdown",
   "metadata": {},
   "source": [
    "- The commutative property of multiplication states that two numbers can be multiplied in either order.\n",
    "    - Inverting the response and feature will not alter the equations outcome."
   ]
  },
  {
   "cell_type": "markdown",
   "metadata": {},
   "source": [
    "6) In Python, show that when regression is performed with an intercept, the t-statistic for H0:β1=0 is the same for the regression of y onto x as it is the regression of x onto y."
   ]
  },
  {
   "cell_type": "code",
   "execution_count": null,
   "metadata": {},
   "outputs": [],
   "source": [
    "lr = smf.ols(formula='y ~ x', data=data).fit()\n",
    "lr.summary()"
   ]
  },
  {
   "cell_type": "code",
   "execution_count": null,
   "metadata": {},
   "outputs": [],
   "source": [
    "lr = smf.ols(formula='x ~ y', data=data).fit()\n",
    "lr.summary()"
   ]
  },
  {
   "cell_type": "markdown",
   "metadata": {},
   "source": [
    "- In both cases above the T-statistic is 19.783."
   ]
  },
  {
   "cell_type": "markdown",
   "metadata": {},
   "source": [
    "<a id='exercise_5'></a>\n",
    "\n",
    "## Exercise 5 - Explore linear regression without an intercept. \n",
    "\n",
    "1. Recall that the coefficient estimate β^ for the linear regression of Y onto X witout an intercept is given by (3.38). Under what circumstance is the coefficient estimate for the regression of X onto Y the same as the coefficient estimate for the regression of Y onto X ?\n",
    "\n",
    "1. Generate an example in Python with n = 100 observations in which\n",
    "the coefficient estimate for the regression of X onto Y is different\n",
    "from the coefficient estimate for the regression of Y onto X.\n",
    "\n",
    "1. Generate an example in Python with n = 100 observations in which\n",
    "the coefficient estimate for the regression of X onto Y is the\n",
    "same as the coefficient estimate for the regression of Y onto X.\n",
    "\n",
    "[Table of Contents](#toc)"
   ]
  },
  {
   "cell_type": "markdown",
   "metadata": {},
   "source": [
    "1) Recall that the coefficient estimate β^ for the linear regression of Y onto X witout an intercept is given by (3.38). Under what circumstance is the coefficient estimate for the regression of X onto Y the same as the coefficient estimate for the regression of Y onto X?\n",
    "\n",
    "The coefficient estimate for the regression of Y onto X is\n",
    "\n",
    "$$\\hat{\\beta} = \\frac{\\sum_ix_iy_i}{\\sum_jx_j^2}$$\n",
    "\n",
    "The coefficient estimate for the regression of X onto Y is\n",
    "\n",
    "$$\\hat{\\beta}' = \\frac{\\sum_ix_iy_i}{\\sum_jy_j^2}$$\n",
    "\n",
    "The coefficients are the same iff $\\sum_jx_j^2 = \\sum_jy_j^2$"
   ]
  },
  {
   "cell_type": "markdown",
   "metadata": {},
   "source": [
    "2) Generate an example in Python with n = 100 observations in which the coefficient estimate for the regression of X onto Y is different from the coefficient estimate for the regression of Y onto X."
   ]
  },
  {
   "cell_type": "code",
   "execution_count": null,
   "metadata": {},
   "outputs": [],
   "source": [
    "np.random.seed(1)\n",
    "x = np.random.randn(100)\n",
    "y = 2 * x + np.random.randn(100)\n",
    "\n",
    "assert np.sum(x**2) != np.sum(y**2)"
   ]
  },
  {
   "cell_type": "markdown",
   "metadata": {},
   "source": [
    "3) Generate an example in Python with n = 100 observations in which the coefficient estimate for the regression of X onto Y is the same as the coefficient estimate for the regression of Y onto X."
   ]
  },
  {
   "cell_type": "code",
   "execution_count": null,
   "metadata": {},
   "outputs": [],
   "source": [
    "np.random.seed(1)\n",
    "x = np.arange(100)\n",
    "y = x.copy()\n",
    "np.random.shuffle(x)\n",
    "np.random.shuffle(y)\n",
    "data = pd.DataFrame(np.c_[x, y], columns=['x', 'y'])\n",
    "\n",
    "x[:10]\n",
    "y[:10]\n",
    "if np.sum(np.square(x)) == np.sum(np.square(y)):\n",
    "    print('The sums of squares are equal.')"
   ]
  },
  {
   "cell_type": "code",
   "execution_count": null,
   "metadata": {},
   "outputs": [],
   "source": [
    "lr = smf.ols(formula='y ~ x', data=data).fit()\n",
    "lr.summary()"
   ]
  },
  {
   "cell_type": "code",
   "execution_count": null,
   "metadata": {},
   "outputs": [],
   "source": [
    "lr = smf.ols(formula='x ~ y', data=data).fit()\n",
    "lr.summary()"
   ]
  },
  {
   "cell_type": "markdown",
   "metadata": {},
   "source": [
    "<a id='exercise_6'></a>\n",
    "\n",
    "## Exercise 6 - Explore linear regression with simulated data.\n",
    "\n",
    "In this exercise you will create some simulated data and will fit simple\n",
    "linear regression models to it. Make sure to set the seed prior to\n",
    "starting part (1) to ensure consistent results.\n",
    "\n",
    "1. Create a vector, x, containing 100 observations drawn from a N(0, 1) distribution. This represents a feature, X. \n",
    "\n",
    "2. Create a vector, eps, containing 100 observations drawn from a N(0, 0.25) distribution i.e. a normal distribution with mean zero and variance 0.25.\n",
    "\n",
    "3. Using x and eps, generate a vector y according to the model \n",
    "\n",
    "> Y = −1 + 0.5X + e\n",
    "\n",
    "What is the length of the vector `y`? What are the values of β0 and β1 in this linear model?\n",
    "\n",
    "4. Create a scatterplot displaying the relationship between x and\n",
    "y. Comment on what you observe.\n",
    "\n",
    "5. Fit a least squares linear model to predict y using `x`. Comment\n",
    "on the model obtained. How do β0 and β1 compare to β0 and\n",
    "β1?\n",
    "\n",
    "6. Display the least squares line on the scatterplot obtained in (4).\n",
    "Draw the population regression line on the plot, in a different\n",
    "color. Create an appropriate legend.\n",
    "\n",
    "7. Now fit a polynomial regression model that predicts `y` using `x`\n",
    "and `x^2`. Is there evidence that the quadratic term improves the\n",
    "model fit? Explain your answer.\n",
    "\n",
    "8. Repeat (1)–(6) after modifying the data generation process in\n",
    "such a way that there is less noise in the data. The model (3.39)\n",
    "should remain the same. You can do this by decreasing the variance\n",
    "of the normal distribution used to generate the error term\n",
    "`e` in (2). Describe your results.\n",
    "\n",
    "9. Repeat (1)–(6) after modifying the data generation process in\n",
    "such a way that there is more noise in the data. The model\n",
    "(3.39) should remain the same. You can do this by increasing\n",
    "the variance of the normal distribution used to generate the\n",
    "error term \u0003 in (b). Describe your results.\n",
    "\n",
    "10. What are the confidence intervals for β0 and β1 based on the\n",
    "original data set, the noisier data set, and the less noisy data\n",
    "set? Comment on your results.\n",
    "\n",
    "[Table of Contents](#toc)"
   ]
  },
  {
   "cell_type": "markdown",
   "metadata": {},
   "source": [
    "1) Create a vector, x, containing 100 observations drawn from a N(0, 1) distribution. This represents a feature, X. "
   ]
  },
  {
   "cell_type": "code",
   "execution_count": null,
   "metadata": {},
   "outputs": [],
   "source": [
    "np.random.seed(1)\n",
    "x = 1 * np.random.randn(100) + 0"
   ]
  },
  {
   "cell_type": "markdown",
   "metadata": {},
   "source": [
    "2) Create a vector, eps, containing 100 observations drawn from a N(0, 0.25) distribution i.e. a normal distribution with mean zero and variance 0.25."
   ]
  },
  {
   "cell_type": "code",
   "execution_count": null,
   "metadata": {},
   "outputs": [],
   "source": [
    "eps = 0.25 * np.random.randn(100) + 0"
   ]
  },
  {
   "cell_type": "markdown",
   "metadata": {},
   "source": [
    "3) Using x and eps, generate a vector y according to the model\n",
    "\n",
    "    Y = −1 + 0.5X + eps\n",
    "\n",
    "What is the length of the vector y? What are the values of β0 and β1 in this linear model?"
   ]
  },
  {
   "cell_type": "code",
   "execution_count": null,
   "metadata": {},
   "outputs": [],
   "source": [
    "y = -1 + 0.5 * x + eps\n",
    "data = pd.DataFrame(np.c_[x, y], columns=['x', 'y'])"
   ]
  },
  {
   "cell_type": "code",
   "execution_count": null,
   "metadata": {},
   "outputs": [],
   "source": [
    "f'Length of Vector y: {y.shape[0]}'"
   ]
  },
  {
   "cell_type": "markdown",
   "metadata": {},
   "source": [
    "- β0: y-intercept (-1)\n",
    "- β1: slope of regression line (0.5)"
   ]
  },
  {
   "cell_type": "markdown",
   "metadata": {},
   "source": [
    "4) Create a scatterplot displaying the relationship between x and y. Comment on what you observe."
   ]
  },
  {
   "cell_type": "code",
   "execution_count": null,
   "metadata": {},
   "outputs": [],
   "source": [
    "ax = data.plot(kind='scatter', x='x', y='y')\n",
    "\n",
    "ax.set_title('y vs x', fontsize=size['title'])\n",
    "ax.set_xlabel('x', fontsize=size['label'])\n",
    "ax.set_ylabel('y', fontsize=size['label'])\n",
    "\n",
    "plt.show();"
   ]
  },
  {
   "cell_type": "markdown",
   "metadata": {},
   "source": [
    "##### Findings\n",
    "- The relationship has a linear distribution."
   ]
  },
  {
   "cell_type": "markdown",
   "metadata": {},
   "source": [
    "5) Fit a least squares linear model to predict `y` using `x`. Comment on the model obtained. How do β^0 and β^1 compare to β0 and β1?"
   ]
  },
  {
   "cell_type": "code",
   "execution_count": null,
   "metadata": {},
   "outputs": [],
   "source": [
    "lr = smf.ols(formula='y ~ x', data=data).fit()\n",
    "lr.summary()"
   ]
  },
  {
   "cell_type": "markdown",
   "metadata": {},
   "source": [
    "##### Findings\n",
    "- predicted intercept is -0.9969 (actual = -1)\n",
    "- predicted x-coefficient is 0.4897 (actual = 0.5)\n",
    "- The F-statistic is not equal to zero, so a relationship exists between x and y.\n",
    "    - This is confirmed by the P-value of zero.\n",
    "- The model has an $R^2$ value of 0.749, which is fair.\n",
    "- The T-statistic is large indicating the y coefficient estimate is both large and precise."
   ]
  },
  {
   "cell_type": "markdown",
   "metadata": {},
   "source": [
    "6) Display the least squares line on the scatterplot obtained in (4). Draw the population regression line on the plot, in a different color. Use the legend() function to create an appropriate legend."
   ]
  },
  {
   "cell_type": "code",
   "execution_count": null,
   "metadata": {},
   "outputs": [],
   "source": [
    "exact_x = np.linspace(-2, 2, 100)\n",
    "exact_y = -1 + 0.5 * exact_x\n",
    "exact_data = pd.DataFrame(np.c_[exact_x, exact_y],\n",
    "                          columns=['x', 'y'])\n",
    "\n",
    "plot_regression(data, lr, ['x'], 'y', exact_reg=exact_data)"
   ]
  },
  {
   "cell_type": "code",
   "execution_count": null,
   "metadata": {},
   "outputs": [],
   "source": [
    "original_confidence = (lr.conf_int(0.05)\n",
    "                       .rename(columns={0: 'Lower', 1: 'Upper'}))"
   ]
  },
  {
   "cell_type": "markdown",
   "metadata": {},
   "source": [
    "7) Now fit a polynomial regression model that predicts y using x and $x^2$. Is there evidence that the quadratic term improves the model fit ? Explain your answer."
   ]
  },
  {
   "cell_type": "code",
   "execution_count": null,
   "metadata": {},
   "outputs": [],
   "source": [
    "lr = smf.ols(formula='y ~ x + np.square(x)', data=data).fit()\n",
    "lr.summary()"
   ]
  },
  {
   "cell_type": "markdown",
   "metadata": {},
   "source": [
    "##### Findings\n",
    "- The model's $R^2$ value only showed negligent improvement.\n",
    "- Going to a quadradic model is not justified here."
   ]
  },
  {
   "cell_type": "markdown",
   "metadata": {},
   "source": [
    "8) Repeat (1)-(6) after modifying the data generation process in such a way that there is less noise in the data. The initial model should remain the same. Describe your results."
   ]
  },
  {
   "cell_type": "code",
   "execution_count": null,
   "metadata": {},
   "outputs": [],
   "source": [
    "np.random.seed(1)\n",
    "x = 1 * np.random.randn(100) + 0\n",
    "eps = 0.05 * np.random.randn(100) + 0\n",
    "y = -1 + 0.5 * x + eps\n",
    "data = pd.DataFrame(np.c_[x, y], columns=['x', 'y'])\n",
    "lr = smf.ols(formula='y ~ x', data=data).fit()\n",
    "lr.summary()"
   ]
  },
  {
   "cell_type": "code",
   "execution_count": null,
   "metadata": {},
   "outputs": [],
   "source": [
    "plot_regression(data, lr, ['x'], 'y', exact_reg=exact_data)"
   ]
  },
  {
   "cell_type": "code",
   "execution_count": null,
   "metadata": {},
   "outputs": [],
   "source": [
    "low_error_confidence = (lr.conf_int(0.05)\n",
    "                        .rename(columns={0: 'Lower', 1: 'Upper'}))"
   ]
  },
  {
   "cell_type": "markdown",
   "metadata": {},
   "source": [
    "##### Findings\n",
    "- predicted intercept is -0.9926 (actual = -1)\n",
    "- predicted x-coefficient is 0.5048 (actual = 0.5)\n",
    "- The F-statistic is not equal to zero, so a relationship exists between x and y.\n",
    "    - This is confirmed by the P-value of zero.\n",
    "- The model has an $R^2$ value of 0.989, which is very good.\n",
    "    - Acurate predictions could be made with this model.\n",
    "- The T-statistic is large indicating the y coefficient estimate is both large and precise."
   ]
  },
  {
   "cell_type": "code",
   "execution_count": null,
   "metadata": {},
   "outputs": [],
   "source": [
    "lr = smf.ols(formula='y ~ x + np.square(x)', data=data).fit()\n",
    "lr.summary()"
   ]
  },
  {
   "cell_type": "markdown",
   "metadata": {},
   "source": [
    "##### Findings\n",
    "- The model's $R^2$ value did not imporove.\n",
    "- The P-value for the $x^2$ coefficient is large implying this coefficient is not a good estimate.\n",
    "- Going to a quadradic model is not justified here."
   ]
  },
  {
   "cell_type": "markdown",
   "metadata": {},
   "source": [
    "9) Repeat (1)-(6) after modifying the data generation process in such a way that there is more noise in the data. The initial model should remain the same. Describe your results."
   ]
  },
  {
   "cell_type": "code",
   "execution_count": null,
   "metadata": {},
   "outputs": [],
   "source": [
    "np.random.seed(1)\n",
    "x = 1 * np.random.randn(100) + 0\n",
    "eps = 1 * np.random.randn(100) + 0\n",
    "y = -1 + 0.5 * x + eps\n",
    "data = pd.DataFrame(np.c_[x, y], columns=['x', 'y'])\n",
    "lr = smf.ols(formula='y ~ x', data=data).fit()\n",
    "lr.summary()"
   ]
  },
  {
   "cell_type": "markdown",
   "metadata": {},
   "source": [
    "##### Findings\n",
    "- The F-statistic is not equal to zero, so a relationship exists between x and y.\n",
    "    - This is confirmed by the P-value of zero.\n",
    "- The model has an $R^2$ value of 0.244, which is poor.\n",
    "    - This model does not represent the data.\n",
    "- The T-statistics are not large indicating the x coefficient estimate is imprecise."
   ]
  },
  {
   "cell_type": "code",
   "execution_count": null,
   "metadata": {},
   "outputs": [],
   "source": [
    "plot_regression(data, lr, ['x'], 'y', exact_reg=exact_data)"
   ]
  },
  {
   "cell_type": "code",
   "execution_count": null,
   "metadata": {},
   "outputs": [],
   "source": [
    "high_error_confidence = (lr.conf_int(0.05)\n",
    "                         .rename(columns={0: 'Lower', 1: 'Upper'}))"
   ]
  },
  {
   "cell_type": "code",
   "execution_count": null,
   "metadata": {},
   "outputs": [],
   "source": [
    "lr = smf.ols(formula='y ~ x + np.square(x)', data=data).fit()\n",
    "lr.summary()"
   ]
  },
  {
   "cell_type": "markdown",
   "metadata": {},
   "source": [
    "##### Findings\n",
    "- The model's $R^2$ value did not imporove.\n",
    "    - This model does not represent the data.\n",
    "- The P-value for the $x^2$ coefficient is large implying this coefficient is not a good estimate.\n",
    "- Going to a quadradic model is not justified here."
   ]
  },
  {
   "cell_type": "markdown",
   "metadata": {},
   "source": [
    "10) What are the confidence intervals for β0 and β1 based on the original data set, the noisier data set, and the less noisy data set ? Comment on your results."
   ]
  },
  {
   "cell_type": "code",
   "execution_count": null,
   "metadata": {},
   "outputs": [],
   "source": [
    "print('Original Confidence Intervals')\n",
    "original_confidence\n",
    "\n",
    "print('Low Error Confidence Intervals')\n",
    "low_error_confidence\n",
    "\n",
    "print('High Error Confidence Intervals')\n",
    "high_error_confidence"
   ]
  },
  {
   "cell_type": "markdown",
   "metadata": {},
   "source": [
    "##### Findings\n",
    "- As expected the confidence interval is directory proportional to the amount of error present in the data."
   ]
  },
  {
   "cell_type": "markdown",
   "metadata": {},
   "source": [
    "<a id='exercise_7'></a>\n",
    "\n",
    "## Exercise 7 - Explore the problem of collinearity.\n",
    "\n",
    "Perform the following commands:\n",
    "\n",
    "> np.random.seed(8)\n",
    "\n",
    "> x1 = np.random.rand(100)\n",
    "\n",
    "> x2 = .5 * x1 + np.random.rand(100) / 10\n",
    "\n",
    "> y = 2 + 2 * x1 + .3 * x2 + np.random.randn(100)\n",
    "\n",
    "1. The last line corresponds to creating a linear model in which y is\n",
    "a function of x1 and x2. Write out the form of the linear model.\n",
    "What are the regression coefficients?\n",
    "\n",
    "2. What is the correlation between x1 and x2? Create a scatterplot\n",
    "displaying the relationship between the variables.\n",
    "\n",
    "3. Using this data, fit a least squares regression to predict y using\n",
    "x1 and x2. Describe the results obtained. What are β0, β1, and β2? How do these relate to the true β0, β1, and β2? Can you reject the null hypothesis Ho:β1 = 0? How about the null\n",
    "hypothesis Ho:β2 = 0?\n",
    "\n",
    "4. Now fit a least squares regression to predict y using only x1.\n",
    "Comment on your results. Can you reject the null hypothesis\n",
    "Ho: β1 = 0?\n",
    "\n",
    "5. Now fit a least squares regression to predict y using only x2.\n",
    "Comment on your results. Can you reject the null hypothesis\n",
    "Ho: β1 = 0?\n",
    "\n",
    "6. Do the results obtained in (3)–(5) contradict each other? Explain\n",
    "your answer.\n",
    "\n",
    "7. Now suppose we obtain one additional observation, which was unfortunately mismeasured.\n",
    "\n",
    "> x1=c(x1 , 0.1)\n",
    "\n",
    "> x2=c(x2 , 0.8)\n",
    "\n",
    "> y=c(y,6)\n",
    "\n",
    "Re-fit the linear models from (3) to (5) using this new data. What\n",
    "effect does this new observation have on the each of the models?\n",
    "In each model, is this observation an outlier? A high-leverage\n",
    "point? Both? Explain your answers.\n",
    "\n",
    "[Table of Contents](#toc)"
   ]
  },
  {
   "cell_type": "code",
   "execution_count": null,
   "metadata": {},
   "outputs": [],
   "source": [
    "np.random.seed(8)\n",
    "x1 = np.random.rand(100)\n",
    "x2 = 0.5 * x1 + np.random.rand(100) / 10\n",
    "y = 2 + 2 * x1 + 0.3 * x2 + np.random.randn(100)\n",
    "data = pd.DataFrame(np.c_[x1, x2, y], columns=['x1', 'x2', 'y'])"
   ]
  },
  {
   "cell_type": "markdown",
   "metadata": {},
   "source": [
    "1) The last line corresponds to creating a linear model in which y is a function of x1 and x2. Write out the form of the linear model. What are the regression coefficients?"
   ]
  },
  {
   "cell_type": "markdown",
   "metadata": {},
   "source": [
    "y =  β0 + 2β1 + 0.3β2 + error"
   ]
  },
  {
   "cell_type": "markdown",
   "metadata": {},
   "source": [
    "2) What is the correlation between x1 and x2? Create a scatterplot displaying the relationship between the variables."
   ]
  },
  {
   "cell_type": "code",
   "execution_count": null,
   "metadata": {},
   "outputs": [],
   "source": [
    "data.corr()\n",
    "correlation_grid(data)"
   ]
  },
  {
   "cell_type": "markdown",
   "metadata": {},
   "source": [
    "##### Findings\n",
    "- The variables x1 and x2 are highly correlated."
   ]
  },
  {
   "cell_type": "markdown",
   "metadata": {},
   "source": [
    "3) Using this data, fit a least squares regression to predict y using x1 and x2. Describe the results obtained. What are β0, β1, and β2? How do these relate to the true β0, β1, and β2? Can you reject the null hypothesis Ho:β1 = 0? How about the null hypothesis Ho:β2 = 0?"
   ]
  },
  {
   "cell_type": "code",
   "execution_count": null,
   "metadata": {},
   "outputs": [],
   "source": [
    "lr = smf.ols(formula='y ~ x1 + x2', data=data).fit()\n",
    "lr.summary()"
   ]
  },
  {
   "cell_type": "markdown",
   "metadata": {},
   "source": [
    "##### Findings\n",
    "- The model does not acurately represent the data.\n",
    "- Coefficients:\n",
    "    - β0: 1.9615 (actual: 1)\n",
    "    - β1: 5.9895 (actual: 2)\n",
    "    - β2: -6.3538 (actual: 0.3)\n",
    "- The x1 variable has a P-value of 0 and is statistically significant.\n",
    "    - The null hypothesis my be rejected.\n",
    "- The x2 variable has a P-value greater than 0.05 implying it is not statistically significant.\n",
    "    - The null hypothesis may be not rejected."
   ]
  },
  {
   "cell_type": "markdown",
   "metadata": {},
   "source": [
    "4) Now fit a least squares regression to predict `y` using only `x1`. Comment on your results. Can you reject the null hypothesis H0:β1=0 ?"
   ]
  },
  {
   "cell_type": "code",
   "execution_count": null,
   "metadata": {},
   "outputs": [],
   "source": [
    "lr = smf.ols(formula='y ~ x1', data=data).fit()\n",
    "lr.summary()"
   ]
  },
  {
   "cell_type": "markdown",
   "metadata": {},
   "source": [
    "##### Findings\n",
    "- The model improved, but is still poor.\n",
    "- Based on the F-statistic there is a relationship between x and y.\n",
    "- The null hypothesis may be rejected for x1."
   ]
  },
  {
   "cell_type": "markdown",
   "metadata": {},
   "source": [
    "5) Now fit a least squares regression to predict y using only x2. Comment on your results. Can you reject the null hypothesis Ho: β1 = 0?"
   ]
  },
  {
   "cell_type": "code",
   "execution_count": null,
   "metadata": {},
   "outputs": [],
   "source": [
    "lr = smf.ols(formula='y ~ x2', data=data).fit()\n",
    "lr.summary()"
   ]
  },
  {
   "cell_type": "markdown",
   "metadata": {},
   "source": [
    "##### Findings\n",
    "- The model is better than the x1 + x2 combined model, not as good as the y = x1 model.\n",
    "    - All three of them are poor predictors of the data.\n",
    "- Based on the F-statistic there is a relationship between x and y.\n",
    "- The null hypothesis may be rejected for x2."
   ]
  },
  {
   "cell_type": "markdown",
   "metadata": {},
   "source": [
    "6) Do the results obtained in (3)–(5) contradict each other? Explain your answer."
   ]
  },
  {
   "cell_type": "markdown",
   "metadata": {},
   "source": [
    "The answers do not contradict each other, but display the interdependence of x1 and x2.  Only one of these features should be used in the model and x1 produced better results."
   ]
  },
  {
   "cell_type": "markdown",
   "metadata": {},
   "source": [
    "7) Now suppose we obtain one additional observation, which was unfortunately mismeasured.\n",
    "\n",
    "> x1=c(x1, 0.1)\n",
    "\n",
    "> x2=c(x2, 0.8)\n",
    "\n",
    "> y=c(y, 6)\n",
    "\n",
    "Re-fit the linear models from (3) to (5) using this new data. What\n",
    "effect does this new observation have on the each of the models?\n",
    "In each model, is this observation an outlier? A high-leverage\n",
    "point? Both? Explain your answers."
   ]
  },
  {
   "cell_type": "code",
   "execution_count": null,
   "metadata": {},
   "outputs": [],
   "source": [
    "data.loc[100] = [0.1, 0.8, 6]\n",
    "lr = smf.ols(formula='y ~ x1 + x2', data=data).fit()\n",
    "lr.summary()\n",
    "plot_residuals(lr)"
   ]
  },
  {
   "cell_type": "markdown",
   "metadata": {},
   "source": [
    "##### Findings\n",
    "- $R^2$ value decresed\n",
    "- F-statisic value decresed\n",
    "- x1 may no longer reject the null hypothesis\n",
    "- Observation 100 is an outlier\n",
    "- Observastion 100 has high leverage"
   ]
  },
  {
   "cell_type": "code",
   "execution_count": null,
   "metadata": {},
   "outputs": [],
   "source": [
    "lr = smf.ols(formula='y ~ x1', data=data).fit()\n",
    "lr.summary()\n",
    "plot_residuals(lr)"
   ]
  },
  {
   "cell_type": "markdown",
   "metadata": {},
   "source": [
    "##### Findings\n",
    "- $R^2$ value increased\n",
    "- F-statisic value decresed\n",
    "- x1 may still reject the null hypothesis\n",
    "- Observation 100 is an outlier\n",
    "- Observastion 100 has low leverage"
   ]
  },
  {
   "cell_type": "code",
   "execution_count": null,
   "metadata": {},
   "outputs": [],
   "source": [
    "lr = smf.ols(formula='y ~ x2', data=data).fit()\n",
    "lr.summary()\n",
    "plot_residuals(lr)"
   ]
  },
  {
   "cell_type": "markdown",
   "metadata": {},
   "source": [
    "##### Findings\n",
    "- $R^2$ value increased\n",
    "- F-statisic value increased\n",
    "- x2 may still reject the null hypothesis\n",
    "- Observation 100 is not an outlier\n",
    "- Observastion 100 has high leverage\n",
    "- With the erroneous data entry now the feature x2 is preferred over x1."
   ]
  },
  {
   "cell_type": "markdown",
   "metadata": {},
   "source": [
    "<a id='exercise_8'></a>\n",
    "\n",
    "## Exercise 8 - Predict per capita crime rate. \n",
    "\n",
    "This problem involves the `Boston` data set. We will now try to predict per capita crime rate\n",
    "using the other variables in this data set. In other words, per capita\n",
    "crime rate is the response, and the other variables are the predictors.\n",
    "\n",
    "1. For each predictor, fit a simple linear regression model to predict\n",
    "the response. Describe your results. In which of the models is\n",
    "there a statistically significant association between the predictor\n",
    "and the response? Create some plots to back up your assertions.\n",
    "\n",
    "2. Fit a multiple regression model to predict the response using\n",
    "all of the predictors. Describe your results. For which predictors\n",
    "can we reject the null hypothesis H: β = 0?\n",
    "\n",
    "2. How do your results from (1) compare to your results from (2)?\n",
    "Create a plot displaying the univariate regression coefficients\n",
    "from (1) on the x-axis, and the multiple regression coefficients\n",
    "from (2) on the y-axis. That is, each predictor is displayed as a\n",
    "single point in the plot. Its coefficient in a simple linear regression\n",
    "model is shown on the x-axis, and its coefficient estimate\n",
    "in the multiple linear regression model is shown on the y-axis.\n",
    "\n",
    "3. Is there evidence of non-linear association between any of the\n",
    "predictors and the response? To answer this question, for each\n",
    "predictor X, fit a model of the form\n",
    "Y = β0 + β1X + β2X^2 + β3X^3 + E.\n",
    "\n",
    "[Table of Contents](#toc)"
   ]
  },
  {
   "cell_type": "markdown",
   "metadata": {},
   "source": [
    "1) For each predictor, fit a simple linear regression model to predict the response. Describe your results. In which of the models is there a statistically significant association between the predictor and the response? Create some plots to back up your assertions."
   ]
  },
  {
   "cell_type": "code",
   "execution_count": null,
   "metadata": {},
   "outputs": [],
   "source": [
    "correlation_heatmap(boston, 'Boston')"
   ]
  },
  {
   "cell_type": "code",
   "execution_count": null,
   "metadata": {},
   "outputs": [],
   "source": [
    "correlation_grid(boston, title='Boston')"
   ]
  },
  {
   "cell_type": "code",
   "execution_count": null,
   "metadata": {},
   "outputs": [],
   "source": [
    "single_params = pd.Series()\n",
    "features = [x for x in boston.columns\n",
    "            if x not in ('crim')]\n",
    "for feature in features:\n",
    "    print('{}{}\\n{}'.format('\\n' * 2, '*' * 80, feature))\n",
    "    lr = smf.ols(formula=f'crim ~ {feature}', data=boston).fit()\n",
    "    lr.summary()\n",
    "    single_params.loc[feature] = lr.params.loc[feature]\n",
    "    boston.plot(kind='scatter', x='crim', y=feature)"
   ]
  },
  {
   "cell_type": "markdown",
   "metadata": {},
   "source": [
    "##### Findings \n",
    "- All features except for chas have P-values below 0.05 and have a relationship to crim."
   ]
  },
  {
   "cell_type": "markdown",
   "metadata": {},
   "source": [
    "2) Fit a multiple regression model to predict the response using all of the predictors. Describe your results. For which predictors can we reject the null hypothesis H: β = 0?"
   ]
  },
  {
   "cell_type": "code",
   "execution_count": null,
   "metadata": {},
   "outputs": [],
   "source": [
    "features = ' + '.join([x for x in boston.columns\n",
    "                       if x not in ('crim')])\n",
    "lr = smf.ols(formula=f'crim ~ {features}', data=boston).fit()\n",
    "lr.summary()"
   ]
  },
  {
   "cell_type": "markdown",
   "metadata": {},
   "source": [
    "##### Findings\n",
    "- The following features were able to reject the null hypothesis and have a relationship to crim.\n",
    "    - zn\n",
    "    - nox\n",
    "    - dis\n",
    "    - rad\n",
    "    - black\n",
    "    - medv\n",
    "- $R^2$ value of 0.454 implys the model is a poor predictor of the data"
   ]
  },
  {
   "cell_type": "markdown",
   "metadata": {},
   "source": [
    "3) How do your results from (1) compare to your results from (2)? Create a plot displaying the univariate regression coefficients from (1) on the x-axis, and the multiple regression coefficients from (2) on the y-axis. That is, each predictor is displayed as a single point in the plot. Its coefficient in a simple linear regression model is shown on the x-axis, and its coefficient estimate in the multiple linear regression model is shown on the y-axis."
   ]
  },
  {
   "cell_type": "code",
   "execution_count": null,
   "metadata": {},
   "outputs": [],
   "source": [
    "mult_params = lr.params.iloc[1:]\n",
    "models = pd.DataFrame({'multiple': mult_params, 'single': single_params})\n",
    "models"
   ]
  },
  {
   "cell_type": "code",
   "execution_count": null,
   "metadata": {},
   "outputs": [],
   "source": [
    "ax = models.plot(kind='scatter', x='multiple', y='single')\n",
    "\n",
    "ax.set_title('Multiple Regression vs Single Regression',\n",
    "             fontsize=size['title'])\n",
    "ax.set_xlabel('Multiple', fontsize=size['label'])\n",
    "ax.set_ylabel('Single', fontsize=size['label'])\n",
    "\n",
    "plt.show();"
   ]
  },
  {
   "cell_type": "markdown",
   "metadata": {},
   "source": [
    "3) Is there evidence of non-linear association between any of the predictors and the response? To answer this question, for each predictor X, fit a model of the form $Y = β0 + β1X + β2X^2 + β3X^3 + E$."
   ]
  },
  {
   "cell_type": "code",
   "execution_count": null,
   "metadata": {},
   "outputs": [],
   "source": [
    "features = [x for x in boston.columns\n",
    "            if x not in ('crim')]\n",
    "for feature in features:\n",
    "    print('{}{}\\n{}'.format('\\n' * 2, '*' * 80, feature))\n",
    "    model = f'{feature} + np.square({feature}) + np.power({feature}, 3)'\n",
    "    lr = smf.ols(formula=f'crim ~ {model}', data=boston).fit()\n",
    "    lr.summary()"
   ]
  },
  {
   "cell_type": "markdown",
   "metadata": {},
   "source": [
    "##### Findings\n",
    "- The following features show a cubic relationship to crim:\n",
    "    - indus\n",
    "    - nox\n",
    "    - age\n",
    "    - dis\n",
    "    - ptratio\n",
    "    - medv"
   ]
  }
 ],
 "metadata": {
  "anaconda-cloud": {},
  "kernelspec": {
   "display_name": "Python 3",
   "language": "python",
   "name": "python3"
  },
  "language_info": {
   "codemirror_mode": {
    "name": "ipython",
    "version": 3
   },
   "file_extension": ".py",
   "mimetype": "text/x-python",
   "name": "python",
   "nbconvert_exporter": "python",
   "pygments_lexer": "ipython3",
   "version": "3.6.1"
  }
 },
 "nbformat": 4,
 "nbformat_minor": 1
}
