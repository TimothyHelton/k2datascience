{
 "cells": [
  {
   "cell_type": "markdown",
   "metadata": {},
   "source": [
    "# Exploratory Data Analysis with Python\n",
    "\n",
    "We will explore the NYC MTA turnstile data set. These data files are from the New York Subway. It tracks the hourly entries and exits to turnstiles (UNIT) by day in the subway system.\n",
    "\n",
    "Here is an [example of what you could do with the data](https://jameskao.me/analyzing-the-nyc-subway-dataset/). James Kao investigates how subway ridership is affected by incidence of rain.\n",
    "\n",
    "<br>\n",
    "<font color=\"red\">\n",
    "    NOTE:\n",
    "    <br>\n",
    "    This notebook uses code found in the\n",
    "    <a href=\"https://github.com/TimothyHelton/k2datascience/blob/master/k2datascience/nyc_mta.py\">\n",
    "    <strong>k2datascience.nyc_mta</strong></a> package.\n",
    "    To execute all the cells do one of the following items:\n",
    "    <ul>\n",
    "        <li>Install the k2datascience package to the active Python interpreter.</li>\n",
    "        <li>Add k2datascience/k2datascience to the PYTHON_PATH system variable.</li>\n",
    "        <li>Create a link to the nyc_mta.py file in the same directory as this notebook.</li>\n",
    "</font>"
   ]
  },
  {
   "cell_type": "markdown",
   "metadata": {},
   "source": [
    "---\n",
    "### Imports"
   ]
  },
  {
   "cell_type": "code",
   "execution_count": 1,
   "metadata": {},
   "outputs": [],
   "source": [
    "from collections import defaultdict\n",
    "import csv\n",
    "import os\n",
    "import os.path as osp\n",
    "\n",
    "from dateutil.parser import parse\n",
    "import matplotlib.dates as mdates\n",
    "import matplotlib.pyplot as plt\n",
    "import pandas as pd\n",
    "import seaborn as sns\n",
    "\n",
    "from k2datascience import nyc_mta\n",
    "\n",
    "from IPython.core.interactiveshell import InteractiveShell\n",
    "InteractiveShell.ast_node_interactivity = \"all\"\n",
    "%matplotlib inline"
   ]
  },
  {
   "cell_type": "markdown",
   "metadata": {
    "collapsed": true
   },
   "source": [
    "---\n",
    "### Download Data"
   ]
  },
  {
   "cell_type": "markdown",
   "metadata": {},
   "source": [
    "#### Would you like to download New York City MTA Turnstile data?\n",
    "- Each file is for a week of data and is approximately 24 Megabytes in size."
   ]
  },
  {
   "cell_type": "code",
   "execution_count": 2,
   "metadata": {
    "collapsed": true
   },
   "outputs": [],
   "source": [
    "download = False\n",
    "file_quantity = 2"
   ]
  },
  {
   "cell_type": "markdown",
   "metadata": {},
   "source": [
    "Scrape [MTA Turnstile Web Page](http://web.mta.info/developers/turnstile.html) to extract all available data files."
   ]
  },
  {
   "cell_type": "code",
   "execution_count": 3,
   "metadata": {
    "collapsed": true
   },
   "outputs": [],
   "source": [
    "d = nyc_mta.TurnstileData()\n",
    "if download:\n",
    "    d.write_data_files(qty=file_quantity)\n",
    "    print(f'\\n\\nThe raw data files were written out to:\\n\\n{d.data_dir}')"
   ]
  },
  {
   "cell_type": "markdown",
   "metadata": {},
   "source": [
    "---\n",
    "## Exercise 1\n",
    "\n",
    "- Download at least 2 weeks worth of [MTA turnstile data](http://web.mta.info/developers/turnstile.html) (You can do this manually or via Python)\n",
    "- Open up a file, use csv reader to read it, make a python dict where there is a key for each (C/A, UNIT, SCP, STATION). These are the first four columns. The value for this key should be a list of lists. Each list in the list is the rest of the columns in a row. For example, one key-value pair should look like\n",
    "\n",
    "\n",
    "        {    ('A002','R051','02-00-00','LEXINGTON AVE'):    \n",
    "             [\n",
    "               ['NQR456', 'BMT', '01/03/2015', '03:00:00', 'REGULAR', '0004945474', '0001675324'],          \n",
    "                 ['NQR456', 'BMT', '01/03/2015', '07:00:00', 'REGULAR', '0004945478', '0001675333'],  \n",
    "                ['NQR456', 'BMT', '01/03/2015', '11:00:00', 'REGULAR', '0004945515', '0001675364'],\n",
    "              ...   \n",
    "         ] \n",
    "        }\n",
    "\n",
    "*Store all the weeks in a data structure of your choosing*"
   ]
  },
  {
   "cell_type": "markdown",
   "metadata": {},
   "source": [
    "### Data File Path"
   ]
  },
  {
   "cell_type": "code",
   "execution_count": 4,
   "metadata": {
    "collapsed": true
   },
   "outputs": [],
   "source": [
    "data_file = '170401.txt'\n",
    "data_dir = osp.join('..', 'data', 'nyc_mta_turnstile')\n",
    "data_file_path = osp.join(data_dir, data_file)"
   ]
  },
  {
   "cell_type": "markdown",
   "metadata": {},
   "source": [
    "### Create Excersize 1 Dictionary"
   ]
  },
  {
   "cell_type": "code",
   "execution_count": 5,
   "metadata": {},
   "outputs": [],
   "source": [
    "turnstile = defaultdict(list)\n",
    "with open(data_file_path, 'r') as f:\n",
    "    reader = csv.reader(f)\n",
    "    initial_row = True\n",
    "    for row in reader:\n",
    "        if not initial_row:\n",
    "            turnstile[tuple(row[:4])].append([x.strip() for x in row[4:]])\n",
    "        else:\n",
    "            header = [x.strip() for x in row]\n",
    "            initial_row = False"
   ]
  },
  {
   "cell_type": "markdown",
   "metadata": {},
   "source": [
    "#### Header\n",
    "\n",
    "- **C/A**: Control Area (A002)\n",
    "- **UNIT**: Remote Unit for a station (R051)\n",
    "- **SCP**: Subunit Channel Position represents an specific address for a device (02-00-00)\n",
    "- **STATION**: Represents the station name the device is located at\n",
    "- **LINENAME**: Represents all train lines that can be boarded at this station\n",
    "    - Normally lines are represented by one character.\n",
    "    - LINENAME 456NQR represents train server for 4, 5, 6, N, Q, and R trains.\n",
    "\n",
    "\n",
    "- **DIVISION**: Represents the Line originally the station belonged to BMT, IRT, or IND   \n",
    "- **DATE**: Represents the date (MM-DD-YY)\n",
    "- **TIME**: Represents the time (hh:mm:ss) for a scheduled audit event\n",
    "- **DESc**: Represent the \"REGULAR\" scheduled audit event (Normally occurs every 4 hours)\n",
    "    - Audits may occur more that 4 hours due to planning, or troubleshooting activities. \n",
    "    - Additionally, there may be a \"RECOVR AUD\" entry: This refers to a missed audit that was recovered. \n",
    "    \n",
    "    \n",
    "- **ENTRIES**: The comulative entry register value for a device\n",
    "- **EXIST**: The cumulative exit register value for a device"
   ]
  },
  {
   "cell_type": "code",
   "execution_count": 6,
   "metadata": {},
   "outputs": [
    {
     "data": {
      "text/plain": [
       "['C/A',\n",
       " 'UNIT',\n",
       " 'SCP',\n",
       " 'STATION',\n",
       " 'LINENAME',\n",
       " 'DIVISION',\n",
       " 'DATE',\n",
       " 'TIME',\n",
       " 'DESC',\n",
       " 'ENTRIES',\n",
       " 'EXITS']"
      ]
     },
     "execution_count": 6,
     "metadata": {},
     "output_type": "execute_result"
    }
   ],
   "source": [
    "header"
   ]
  },
  {
   "cell_type": "markdown",
   "metadata": {},
   "source": [
    "#### Example Entry in Turnstile Dictionary"
   ]
  },
  {
   "cell_type": "code",
   "execution_count": 7,
   "metadata": {},
   "outputs": [
    {
     "data": {
      "text/plain": [
       "[['NQR456W',\n",
       "  'BMT',\n",
       "  '03/25/2017',\n",
       "  '00:00:00',\n",
       "  'REGULAR',\n",
       "  '0006108321',\n",
       "  '0002069313'],\n",
       " ['NQR456W',\n",
       "  'BMT',\n",
       "  '03/25/2017',\n",
       "  '04:00:00',\n",
       "  'REGULAR',\n",
       "  '0006108343',\n",
       "  '0002069319'],\n",
       " ['NQR456W',\n",
       "  'BMT',\n",
       "  '03/25/2017',\n",
       "  '08:00:00',\n",
       "  'REGULAR',\n",
       "  '0006108360',\n",
       "  '0002069347']]"
      ]
     },
     "execution_count": 7,
     "metadata": {},
     "output_type": "execute_result"
    }
   ],
   "source": [
    "turnstile[('A002', 'R051', '02-00-00', '59 ST')][:3]"
   ]
  },
  {
   "cell_type": "markdown",
   "metadata": {},
   "source": [
    "### Create Pandas DataFrame"
   ]
  },
  {
   "cell_type": "code",
   "execution_count": 8,
   "metadata": {},
   "outputs": [
    {
     "data": {
      "text/plain": [
       "(396013, 11)"
      ]
     },
     "execution_count": 8,
     "metadata": {},
     "output_type": "execute_result"
    },
    {
     "data": {
      "text/html": [
       "<div>\n",
       "<table border=\"1\" class=\"dataframe\">\n",
       "  <thead>\n",
       "    <tr style=\"text-align: right;\">\n",
       "      <th></th>\n",
       "      <th>c/a</th>\n",
       "      <th>unit</th>\n",
       "      <th>scp</th>\n",
       "      <th>station</th>\n",
       "      <th>linename</th>\n",
       "      <th>division</th>\n",
       "      <th>date</th>\n",
       "      <th>time</th>\n",
       "      <th>desc</th>\n",
       "      <th>entries</th>\n",
       "      <th>exits</th>\n",
       "    </tr>\n",
       "  </thead>\n",
       "  <tbody>\n",
       "    <tr>\n",
       "      <th>0</th>\n",
       "      <td>A002</td>\n",
       "      <td>R051</td>\n",
       "      <td>02-00-00</td>\n",
       "      <td>59 ST</td>\n",
       "      <td>NQR456W</td>\n",
       "      <td>BMT</td>\n",
       "      <td>03/25/2017</td>\n",
       "      <td>00:00:00</td>\n",
       "      <td>REGULAR</td>\n",
       "      <td>6108321</td>\n",
       "      <td>2069313</td>\n",
       "    </tr>\n",
       "    <tr>\n",
       "      <th>1</th>\n",
       "      <td>A002</td>\n",
       "      <td>R051</td>\n",
       "      <td>02-00-00</td>\n",
       "      <td>59 ST</td>\n",
       "      <td>NQR456W</td>\n",
       "      <td>BMT</td>\n",
       "      <td>03/25/2017</td>\n",
       "      <td>04:00:00</td>\n",
       "      <td>REGULAR</td>\n",
       "      <td>6108343</td>\n",
       "      <td>2069319</td>\n",
       "    </tr>\n",
       "    <tr>\n",
       "      <th>2</th>\n",
       "      <td>A002</td>\n",
       "      <td>R051</td>\n",
       "      <td>02-00-00</td>\n",
       "      <td>59 ST</td>\n",
       "      <td>NQR456W</td>\n",
       "      <td>BMT</td>\n",
       "      <td>03/25/2017</td>\n",
       "      <td>08:00:00</td>\n",
       "      <td>REGULAR</td>\n",
       "      <td>6108360</td>\n",
       "      <td>2069347</td>\n",
       "    </tr>\n",
       "    <tr>\n",
       "      <th>3</th>\n",
       "      <td>A002</td>\n",
       "      <td>R051</td>\n",
       "      <td>02-00-00</td>\n",
       "      <td>59 ST</td>\n",
       "      <td>NQR456W</td>\n",
       "      <td>BMT</td>\n",
       "      <td>03/25/2017</td>\n",
       "      <td>12:00:00</td>\n",
       "      <td>REGULAR</td>\n",
       "      <td>6108462</td>\n",
       "      <td>2069456</td>\n",
       "    </tr>\n",
       "    <tr>\n",
       "      <th>4</th>\n",
       "      <td>A002</td>\n",
       "      <td>R051</td>\n",
       "      <td>02-00-00</td>\n",
       "      <td>59 ST</td>\n",
       "      <td>NQR456W</td>\n",
       "      <td>BMT</td>\n",
       "      <td>03/25/2017</td>\n",
       "      <td>16:00:00</td>\n",
       "      <td>REGULAR</td>\n",
       "      <td>6108689</td>\n",
       "      <td>2069525</td>\n",
       "    </tr>\n",
       "  </tbody>\n",
       "</table>\n",
       "</div>"
      ],
      "text/plain": [
       "    c/a  unit       scp station linename division        date      time  \\\n",
       "0  A002  R051  02-00-00   59 ST  NQR456W      BMT  03/25/2017  00:00:00   \n",
       "1  A002  R051  02-00-00   59 ST  NQR456W      BMT  03/25/2017  04:00:00   \n",
       "2  A002  R051  02-00-00   59 ST  NQR456W      BMT  03/25/2017  08:00:00   \n",
       "3  A002  R051  02-00-00   59 ST  NQR456W      BMT  03/25/2017  12:00:00   \n",
       "4  A002  R051  02-00-00   59 ST  NQR456W      BMT  03/25/2017  16:00:00   \n",
       "\n",
       "      desc  entries    exits  \n",
       "0  REGULAR  6108321  2069313  \n",
       "1  REGULAR  6108343  2069319  \n",
       "2  REGULAR  6108360  2069347  \n",
       "3  REGULAR  6108462  2069456  \n",
       "4  REGULAR  6108689  2069525  "
      ]
     },
     "execution_count": 8,
     "metadata": {},
     "output_type": "execute_result"
    }
   ],
   "source": [
    "d.get_data()\n",
    "d.data.shape\n",
    "d.data.head()"
   ]
  },
  {
   "cell_type": "markdown",
   "metadata": {},
   "source": [
    "---\n",
    "## Exercise 2\n",
    "- Let's turn this into a time series.\n",
    "\n",
    " For each key (basically the control area, unit, device address and station of a specific turnstile), have a list again, but let the list be comprised of just the point in time and the cumulative count of entries.\n",
    "\n",
    "This basically means keeping only the date, time, and entries fields in each list. You can convert the date and time into datetime objects -- That is a python class that represents a point in time. You can combine the date and time fields into a string and use the [dateutil](https://dateutil.readthedocs.io/en/stable/) package to convert it into a datetime object.\n",
    "\n",
    "Your new dict should look something like\n",
    " \n",
    "    {    ('A002','R051','02-00-00','LEXINGTON AVE'):    \n",
    "             [\n",
    "                [datetime.datetime(2013, 3, 2, 3, 0), 3788],\n",
    "                [datetime.datetime(2013, 3, 2, 7, 0), 2585],\n",
    "                [datetime.datetime(2013, 3, 2, 12, 0), 10653],\n",
    "                [datetime.datetime(2013, 3, 2, 17, 0), 11016],\n",
    "                [datetime.datetime(2013, 3, 2, 23, 0), 10666],\n",
    "                [datetime.datetime(2013, 3, 3, 3, 0), 10814],\n",
    "                [datetime.datetime(2013, 3, 3, 7, 0), 10229],\n",
    "                ...\n",
    "              ],\n",
    "     ....\n",
    "     }\n",
    "\n"
   ]
  },
  {
   "cell_type": "markdown",
   "metadata": {},
   "source": [
    "### Create Exersize 2 Time Series Dictionary\n",
    "\n",
    "Note: The extended computational time is due to the dateutil operation."
   ]
  },
  {
   "cell_type": "code",
   "execution_count": 9,
   "metadata": {},
   "outputs": [],
   "source": [
    "turnstile_ts = {}\n",
    "for k, v in turnstile.items():\n",
    "    turnstile_ts[k] = [[parse(f'{x[2]} {x[3]}'), int(x[-2])] for x in v]"
   ]
  },
  {
   "cell_type": "markdown",
   "metadata": {},
   "source": [
    "#### Example Entry in Turnstile Time Series Dictionary"
   ]
  },
  {
   "cell_type": "code",
   "execution_count": 10,
   "metadata": {},
   "outputs": [
    {
     "data": {
      "text/plain": [
       "[[datetime.datetime(2017, 3, 25, 0, 0), 6108321],\n",
       " [datetime.datetime(2017, 3, 25, 4, 0), 6108343],\n",
       " [datetime.datetime(2017, 3, 25, 8, 0), 6108360],\n",
       " [datetime.datetime(2017, 3, 25, 12, 0), 6108462],\n",
       " [datetime.datetime(2017, 3, 25, 16, 0), 6108689],\n",
       " [datetime.datetime(2017, 3, 25, 20, 0), 6108983],\n",
       " [datetime.datetime(2017, 3, 26, 0, 0), 6109170],\n",
       " [datetime.datetime(2017, 3, 26, 4, 0), 6109213],\n",
       " [datetime.datetime(2017, 3, 26, 8, 0), 6109224],\n",
       " [datetime.datetime(2017, 3, 26, 12, 0), 6109284]]"
      ]
     },
     "execution_count": 10,
     "metadata": {},
     "output_type": "execute_result"
    }
   ],
   "source": [
    "turnstile_ts[('A002', 'R051', '02-00-00', '59 ST')][:10]"
   ]
  },
  {
   "cell_type": "markdown",
   "metadata": {},
   "source": [
    "### Add Time Stamp Series to Pandas DataFrame"
   ]
  },
  {
   "cell_type": "code",
   "execution_count": 11,
   "metadata": {},
   "outputs": [
    {
     "data": {
      "text/plain": [
       "(396013, 12)"
      ]
     },
     "execution_count": 11,
     "metadata": {},
     "output_type": "execute_result"
    },
    {
     "data": {
      "text/html": [
       "<div>\n",
       "<table border=\"1\" class=\"dataframe\">\n",
       "  <thead>\n",
       "    <tr style=\"text-align: right;\">\n",
       "      <th></th>\n",
       "      <th>c/a</th>\n",
       "      <th>unit</th>\n",
       "      <th>scp</th>\n",
       "      <th>station</th>\n",
       "      <th>linename</th>\n",
       "      <th>division</th>\n",
       "      <th>date</th>\n",
       "      <th>time</th>\n",
       "      <th>desc</th>\n",
       "      <th>entries</th>\n",
       "      <th>exits</th>\n",
       "      <th>time_stamp</th>\n",
       "    </tr>\n",
       "  </thead>\n",
       "  <tbody>\n",
       "    <tr>\n",
       "      <th>0</th>\n",
       "      <td>A002</td>\n",
       "      <td>R051</td>\n",
       "      <td>02-00-00</td>\n",
       "      <td>59 ST</td>\n",
       "      <td>NQR456W</td>\n",
       "      <td>BMT</td>\n",
       "      <td>03/25/2017</td>\n",
       "      <td>00:00:00</td>\n",
       "      <td>REGULAR</td>\n",
       "      <td>6108321</td>\n",
       "      <td>2069313</td>\n",
       "      <td>2017-03-25 00:00:00</td>\n",
       "    </tr>\n",
       "    <tr>\n",
       "      <th>1</th>\n",
       "      <td>A002</td>\n",
       "      <td>R051</td>\n",
       "      <td>02-00-00</td>\n",
       "      <td>59 ST</td>\n",
       "      <td>NQR456W</td>\n",
       "      <td>BMT</td>\n",
       "      <td>03/25/2017</td>\n",
       "      <td>04:00:00</td>\n",
       "      <td>REGULAR</td>\n",
       "      <td>6108343</td>\n",
       "      <td>2069319</td>\n",
       "      <td>2017-03-25 04:00:00</td>\n",
       "    </tr>\n",
       "    <tr>\n",
       "      <th>2</th>\n",
       "      <td>A002</td>\n",
       "      <td>R051</td>\n",
       "      <td>02-00-00</td>\n",
       "      <td>59 ST</td>\n",
       "      <td>NQR456W</td>\n",
       "      <td>BMT</td>\n",
       "      <td>03/25/2017</td>\n",
       "      <td>08:00:00</td>\n",
       "      <td>REGULAR</td>\n",
       "      <td>6108360</td>\n",
       "      <td>2069347</td>\n",
       "      <td>2017-03-25 08:00:00</td>\n",
       "    </tr>\n",
       "    <tr>\n",
       "      <th>3</th>\n",
       "      <td>A002</td>\n",
       "      <td>R051</td>\n",
       "      <td>02-00-00</td>\n",
       "      <td>59 ST</td>\n",
       "      <td>NQR456W</td>\n",
       "      <td>BMT</td>\n",
       "      <td>03/25/2017</td>\n",
       "      <td>12:00:00</td>\n",
       "      <td>REGULAR</td>\n",
       "      <td>6108462</td>\n",
       "      <td>2069456</td>\n",
       "      <td>2017-03-25 12:00:00</td>\n",
       "    </tr>\n",
       "    <tr>\n",
       "      <th>4</th>\n",
       "      <td>A002</td>\n",
       "      <td>R051</td>\n",
       "      <td>02-00-00</td>\n",
       "      <td>59 ST</td>\n",
       "      <td>NQR456W</td>\n",
       "      <td>BMT</td>\n",
       "      <td>03/25/2017</td>\n",
       "      <td>16:00:00</td>\n",
       "      <td>REGULAR</td>\n",
       "      <td>6108689</td>\n",
       "      <td>2069525</td>\n",
       "      <td>2017-03-25 16:00:00</td>\n",
       "    </tr>\n",
       "  </tbody>\n",
       "</table>\n",
       "</div>"
      ],
      "text/plain": [
       "    c/a  unit       scp station linename division        date      time  \\\n",
       "0  A002  R051  02-00-00   59 ST  NQR456W      BMT  03/25/2017  00:00:00   \n",
       "1  A002  R051  02-00-00   59 ST  NQR456W      BMT  03/25/2017  04:00:00   \n",
       "2  A002  R051  02-00-00   59 ST  NQR456W      BMT  03/25/2017  08:00:00   \n",
       "3  A002  R051  02-00-00   59 ST  NQR456W      BMT  03/25/2017  12:00:00   \n",
       "4  A002  R051  02-00-00   59 ST  NQR456W      BMT  03/25/2017  16:00:00   \n",
       "\n",
       "      desc  entries    exits          time_stamp  \n",
       "0  REGULAR  6108321  2069313 2017-03-25 00:00:00  \n",
       "1  REGULAR  6108343  2069319 2017-03-25 04:00:00  \n",
       "2  REGULAR  6108360  2069347 2017-03-25 08:00:00  \n",
       "3  REGULAR  6108462  2069456 2017-03-25 12:00:00  \n",
       "4  REGULAR  6108689  2069525 2017-03-25 16:00:00  "
      ]
     },
     "execution_count": 11,
     "metadata": {},
     "output_type": "execute_result"
    }
   ],
   "source": [
    "d.get_time_stamp()\n",
    "d.data.shape\n",
    "d.data.head()"
   ]
  },
  {
   "cell_type": "markdown",
   "metadata": {},
   "source": [
    "---\n",
    "## Exercise 3\n",
    "- These counts are cumulative every n hours. We want total daily entries. \n",
    "\n",
    "Now make it that we again have the same keys, but now we have a single value for a single day, which is not cumulative counts but the total number of passengers that entered through this turnstile on this day.\n"
   ]
  },
  {
   "cell_type": "code",
   "execution_count": 12,
   "metadata": {},
   "outputs": [],
   "source": [
    "daily_total = defaultdict(list)\n",
    "for k, v in turnstile_ts.items():\n",
    "    days = set([x[0].date() for x in v])\n",
    "    for day in sorted(days):\n",
    "        daily_total[k].append([day, sum([x[1] for x in v if x[0].date() == day])])"
   ]
  },
  {
   "cell_type": "markdown",
   "metadata": {},
   "source": [
    "#### Example Entry in Turnstile Time Series Dictionary"
   ]
  },
  {
   "cell_type": "code",
   "execution_count": 13,
   "metadata": {},
   "outputs": [
    {
     "data": {
      "text/plain": [
       "[[datetime.date(2017, 3, 25), 36651158],\n",
       " [datetime.date(2017, 3, 26), 36656063],\n",
       " [datetime.date(2017, 3, 27), 36660942],\n",
       " [datetime.date(2017, 3, 28), 36670134],\n",
       " [datetime.date(2017, 3, 29), 36679266],\n",
       " [datetime.date(2017, 3, 30), 36689181],\n",
       " [datetime.date(2017, 3, 31), 36698829]]"
      ]
     },
     "execution_count": 13,
     "metadata": {},
     "output_type": "execute_result"
    }
   ],
   "source": [
    "daily_total[('A002', 'R051', '02-00-00', '59 ST')]"
   ]
  },
  {
   "cell_type": "markdown",
   "metadata": {},
   "source": [
    "### Return Daily Entry Totals Using Pandas"
   ]
  },
  {
   "cell_type": "code",
   "execution_count": 14,
   "metadata": {},
   "outputs": [
    {
     "data": {
      "text/html": [
       "<div>\n",
       "<table border=\"1\" class=\"dataframe\">\n",
       "  <thead>\n",
       "    <tr style=\"text-align: right;\">\n",
       "      <th></th>\n",
       "      <th>c/a</th>\n",
       "      <th>unit</th>\n",
       "      <th>scp</th>\n",
       "      <th>station</th>\n",
       "      <th>date</th>\n",
       "      <th>entries</th>\n",
       "    </tr>\n",
       "  </thead>\n",
       "  <tbody>\n",
       "    <tr>\n",
       "      <th>0</th>\n",
       "      <td>A002</td>\n",
       "      <td>R051</td>\n",
       "      <td>02-00-00</td>\n",
       "      <td>59 ST</td>\n",
       "      <td>2017-03-25</td>\n",
       "      <td>36651158</td>\n",
       "    </tr>\n",
       "    <tr>\n",
       "      <th>1</th>\n",
       "      <td>A002</td>\n",
       "      <td>R051</td>\n",
       "      <td>02-00-00</td>\n",
       "      <td>59 ST</td>\n",
       "      <td>2017-03-26</td>\n",
       "      <td>36656063</td>\n",
       "    </tr>\n",
       "    <tr>\n",
       "      <th>2</th>\n",
       "      <td>A002</td>\n",
       "      <td>R051</td>\n",
       "      <td>02-00-00</td>\n",
       "      <td>59 ST</td>\n",
       "      <td>2017-03-27</td>\n",
       "      <td>36660942</td>\n",
       "    </tr>\n",
       "    <tr>\n",
       "      <th>3</th>\n",
       "      <td>A002</td>\n",
       "      <td>R051</td>\n",
       "      <td>02-00-00</td>\n",
       "      <td>59 ST</td>\n",
       "      <td>2017-03-28</td>\n",
       "      <td>36670134</td>\n",
       "    </tr>\n",
       "    <tr>\n",
       "      <th>4</th>\n",
       "      <td>A002</td>\n",
       "      <td>R051</td>\n",
       "      <td>02-00-00</td>\n",
       "      <td>59 ST</td>\n",
       "      <td>2017-03-29</td>\n",
       "      <td>36679266</td>\n",
       "    </tr>\n",
       "    <tr>\n",
       "      <th>5</th>\n",
       "      <td>A002</td>\n",
       "      <td>R051</td>\n",
       "      <td>02-00-00</td>\n",
       "      <td>59 ST</td>\n",
       "      <td>2017-03-30</td>\n",
       "      <td>36689181</td>\n",
       "    </tr>\n",
       "    <tr>\n",
       "      <th>6</th>\n",
       "      <td>A002</td>\n",
       "      <td>R051</td>\n",
       "      <td>02-00-00</td>\n",
       "      <td>59 ST</td>\n",
       "      <td>2017-03-31</td>\n",
       "      <td>36698829</td>\n",
       "    </tr>\n",
       "    <tr>\n",
       "      <th>7</th>\n",
       "      <td>A002</td>\n",
       "      <td>R051</td>\n",
       "      <td>02-00-00</td>\n",
       "      <td>59 ST</td>\n",
       "      <td>2017-04-01</td>\n",
       "      <td>36706941</td>\n",
       "    </tr>\n",
       "    <tr>\n",
       "      <th>8</th>\n",
       "      <td>A002</td>\n",
       "      <td>R051</td>\n",
       "      <td>02-00-00</td>\n",
       "      <td>59 ST</td>\n",
       "      <td>2017-04-02</td>\n",
       "      <td>36712675</td>\n",
       "    </tr>\n",
       "    <tr>\n",
       "      <th>9</th>\n",
       "      <td>A002</td>\n",
       "      <td>R051</td>\n",
       "      <td>02-00-00</td>\n",
       "      <td>59 ST</td>\n",
       "      <td>2017-04-03</td>\n",
       "      <td>36718244</td>\n",
       "    </tr>\n",
       "    <tr>\n",
       "      <th>10</th>\n",
       "      <td>A002</td>\n",
       "      <td>R051</td>\n",
       "      <td>02-00-00</td>\n",
       "      <td>59 ST</td>\n",
       "      <td>2017-04-04</td>\n",
       "      <td>36727660</td>\n",
       "    </tr>\n",
       "    <tr>\n",
       "      <th>11</th>\n",
       "      <td>A002</td>\n",
       "      <td>R051</td>\n",
       "      <td>02-00-00</td>\n",
       "      <td>59 ST</td>\n",
       "      <td>2017-04-05</td>\n",
       "      <td>36736976</td>\n",
       "    </tr>\n",
       "    <tr>\n",
       "      <th>12</th>\n",
       "      <td>A002</td>\n",
       "      <td>R051</td>\n",
       "      <td>02-00-00</td>\n",
       "      <td>59 ST</td>\n",
       "      <td>2017-04-06</td>\n",
       "      <td>36746315</td>\n",
       "    </tr>\n",
       "    <tr>\n",
       "      <th>13</th>\n",
       "      <td>A002</td>\n",
       "      <td>R051</td>\n",
       "      <td>02-00-00</td>\n",
       "      <td>59 ST</td>\n",
       "      <td>2017-04-07</td>\n",
       "      <td>36755832</td>\n",
       "    </tr>\n",
       "    <tr>\n",
       "      <th>14</th>\n",
       "      <td>A002</td>\n",
       "      <td>R051</td>\n",
       "      <td>02-00-01</td>\n",
       "      <td>59 ST</td>\n",
       "      <td>2017-03-25</td>\n",
       "      <td>33294231</td>\n",
       "    </tr>\n",
       "    <tr>\n",
       "      <th>15</th>\n",
       "      <td>A002</td>\n",
       "      <td>R051</td>\n",
       "      <td>02-00-01</td>\n",
       "      <td>59 ST</td>\n",
       "      <td>2017-03-26</td>\n",
       "      <td>33297928</td>\n",
       "    </tr>\n",
       "    <tr>\n",
       "      <th>16</th>\n",
       "      <td>A002</td>\n",
       "      <td>R051</td>\n",
       "      <td>02-00-01</td>\n",
       "      <td>59 ST</td>\n",
       "      <td>2017-03-27</td>\n",
       "      <td>33301522</td>\n",
       "    </tr>\n",
       "    <tr>\n",
       "      <th>17</th>\n",
       "      <td>A002</td>\n",
       "      <td>R051</td>\n",
       "      <td>02-00-01</td>\n",
       "      <td>59 ST</td>\n",
       "      <td>2017-03-28</td>\n",
       "      <td>33308123</td>\n",
       "    </tr>\n",
       "    <tr>\n",
       "      <th>18</th>\n",
       "      <td>A002</td>\n",
       "      <td>R051</td>\n",
       "      <td>02-00-01</td>\n",
       "      <td>59 ST</td>\n",
       "      <td>2017-03-29</td>\n",
       "      <td>33315052</td>\n",
       "    </tr>\n",
       "    <tr>\n",
       "      <th>19</th>\n",
       "      <td>A002</td>\n",
       "      <td>R051</td>\n",
       "      <td>02-00-01</td>\n",
       "      <td>59 ST</td>\n",
       "      <td>2017-03-30</td>\n",
       "      <td>33322568</td>\n",
       "    </tr>\n",
       "  </tbody>\n",
       "</table>\n",
       "</div>"
      ],
      "text/plain": [
       "     c/a  unit       scp station        date   entries\n",
       "0   A002  R051  02-00-00   59 ST  2017-03-25  36651158\n",
       "1   A002  R051  02-00-00   59 ST  2017-03-26  36656063\n",
       "2   A002  R051  02-00-00   59 ST  2017-03-27  36660942\n",
       "3   A002  R051  02-00-00   59 ST  2017-03-28  36670134\n",
       "4   A002  R051  02-00-00   59 ST  2017-03-29  36679266\n",
       "5   A002  R051  02-00-00   59 ST  2017-03-30  36689181\n",
       "6   A002  R051  02-00-00   59 ST  2017-03-31  36698829\n",
       "7   A002  R051  02-00-00   59 ST  2017-04-01  36706941\n",
       "8   A002  R051  02-00-00   59 ST  2017-04-02  36712675\n",
       "9   A002  R051  02-00-00   59 ST  2017-04-03  36718244\n",
       "10  A002  R051  02-00-00   59 ST  2017-04-04  36727660\n",
       "11  A002  R051  02-00-00   59 ST  2017-04-05  36736976\n",
       "12  A002  R051  02-00-00   59 ST  2017-04-06  36746315\n",
       "13  A002  R051  02-00-00   59 ST  2017-04-07  36755832\n",
       "14  A002  R051  02-00-01   59 ST  2017-03-25  33294231\n",
       "15  A002  R051  02-00-01   59 ST  2017-03-26  33297928\n",
       "16  A002  R051  02-00-01   59 ST  2017-03-27  33301522\n",
       "17  A002  R051  02-00-01   59 ST  2017-03-28  33308123\n",
       "18  A002  R051  02-00-01   59 ST  2017-03-29  33315052\n",
       "19  A002  R051  02-00-01   59 ST  2017-03-30  33322568"
      ]
     },
     "execution_count": 14,
     "metadata": {},
     "output_type": "execute_result"
    }
   ],
   "source": [
    "d.daily_totals.head(20)"
   ]
  },
  {
   "cell_type": "markdown",
   "metadata": {},
   "source": [
    "---\n",
    "## Exercise 4\n",
    "- We will plot the daily time series for a turnstile.\n",
    "\n",
    "In ipython notebook, add this to the beginning of your next cell:    \n",
    "\n",
    "    %matplotlib inline\n",
    "\n",
    "This will make your matplotlib graphs integrate nicely with the notebook.\n",
    "To plot the time series, import matplotlib with \n",
    "\n",
    "    import matplotlib.pyplot as plt\n",
    "\n",
    "Take the list of [(date1, count1), (date2, count2), ...], for the turnstile and turn it into two lists:\n",
    "dates and counts. This should plot it:\n",
    "\n",
    "    plt.figure(figsize=(10,3))\n",
    "    plt.plot(dates,counts)\n"
   ]
  },
  {
   "cell_type": "code",
   "execution_count": 18,
   "metadata": {},
   "outputs": [
    {
     "data": {
      "image/png": "[encoded data removed]",
      "text/plain": [
       "<matplotlib.figure.Figure at 0x12429c668>"
      ]
     },
     "metadata": {},
     "output_type": "display_data"
    }
   ],
   "source": [
    "label_size = 14\n",
    "\n",
    "fig = plt.figure('Station 59 ST: Daily Turnstile Entries', figsize=(10, 3),\n",
    "                 facecolor='white', edgecolor='black')\n",
    "ax1 = plt.subplot2grid((1, 1), (0, 0))\n",
    "\n",
    "dt = daily_total[('A002', 'R051', '02-00-00', '59 ST')]\n",
    "dates = [x[0] for x in dt]\n",
    "entries = [x[1] for x in dt]\n",
    "\n",
    "ax1.plot_date(dates, entries, '^k-')\n",
    "\n",
    "plt.suptitle('Station: 59 ST', fontsize=24, y=1.16);\n",
    "plt.title('Control Area: A002 | Unit: R051 | Subunit Channel Position: 02-00-00',\n",
    "          fontsize=18, y=1.10);\n",
    "ax1.set_xlabel('Date', fontsize=label_size)\n",
    "ax1.set_ylabel('Turnstile Entries', fontsize=label_size)\n",
    "fig.autofmt_xdate();"
   ]
  },
  {
   "cell_type": "markdown",
   "metadata": {},
   "source": [
    "### Pandas Plot"
   ]
  },
  {
   "cell_type": "code",
   "execution_count": 15,
   "metadata": {},
   "outputs": [
    {
     "data": {
      "image/png": "[encoded data removed]",
      "text/plain": [
       "<matplotlib.figure.Figure at 0x12429c710>"
      ]
     },
     "metadata": {},
     "output_type": "display_data"
    }
   ],
   "source": [
    "label_size = 14\n",
    "\n",
    "fig = plt.figure('Station 59 ST: Daily Turnstile Entries', figsize=(10, 3),\n",
    "                 facecolor='white', edgecolor='black')\n",
    "ax1 = plt.subplot2grid((1, 1), (0, 0))\n",
    "\n",
    "dt = d.daily_totals\n",
    "selection = dt[(dt['c/a']=='A002') &\n",
    "               (dt.unit=='R051') &\n",
    "               (dt.scp=='02-00-00') &\n",
    "               (dt.station=='59 ST')]\n",
    "selection.plot(x='date', y='entries', color='IndianRed', ax=ax1)\n",
    "\n",
    "plt.suptitle('Station: 59 ST', fontsize=24, y=1.16);\n",
    "plt.title('Control Area: A002 | Unit: R051 | Subunit Channel Position: 02-00-00',\n",
    "          fontsize=18, y=1.10);\n",
    "ax1.set_xlabel('Date', fontsize=label_size)\n",
    "ax1.set_ylabel('Turnstile Entries', fontsize=label_size)\n",
    "fig.autofmt_xdate();"
   ]
  },
  {
   "cell_type": "markdown",
   "metadata": {},
   "source": [
    "---\n",
    "## Exercise 5\n",
    "- So far we've been operating on a single turnstile level, let's combine turnstiles in the same ControlArea/Unit/Station combo. There are some ControlArea/Unit/Station groups that have a single turnstile, but most have multiple turnstilea-- same value for the C/A, UNIT and STATION columns, different values for the SCP column.\n",
    "\n",
    "We want to combine the numbers together -- for each ControlArea/UNIT/STATION combo, for each day, add the counts from each turnstile belonging to that combo.\n"
   ]
  },
  {
   "cell_type": "code",
   "execution_count": null,
   "metadata": {
    "collapsed": true
   },
   "outputs": [],
   "source": []
  },
  {
   "cell_type": "markdown",
   "metadata": {},
   "source": [
    "---\n",
    "## Exercise 6\n",
    "- Similarly, combine everything in each station, and come up with a time series of `[(date1, count1),(date2,count2),...]` type of time series for each STATION, by adding up all the turnstiles in a station."
   ]
  },
  {
   "cell_type": "code",
   "execution_count": null,
   "metadata": {
    "collapsed": true
   },
   "outputs": [],
   "source": []
  },
  {
   "cell_type": "markdown",
   "metadata": {},
   "source": [
    "---\n",
    "## Exercise 7\n",
    "- Plot the time series for a station"
   ]
  },
  {
   "cell_type": "code",
   "execution_count": null,
   "metadata": {
    "collapsed": true
   },
   "outputs": [],
   "source": []
  },
  {
   "cell_type": "markdown",
   "metadata": {},
   "source": [
    "---\n",
    "## Exercise 8\n",
    "- Make one list of counts for **one** week for one station. Monday's count, Tuesday's count, etc. so it's a list of 7 counts.\n",
    "Make the same list for another week, and another week, and another week.\n",
    "`plt.plot(week_count_list)` for every `week_count_list` you created this way. You should get a rainbow plot of weekly commute numbers on top of each other.\n",
    "\n"
   ]
  },
  {
   "cell_type": "code",
   "execution_count": null,
   "metadata": {
    "collapsed": true
   },
   "outputs": [],
   "source": []
  },
  {
   "cell_type": "markdown",
   "metadata": {},
   "source": [
    "---\n",
    "## Exercise 9\n",
    "- Over multiple weeks, sum total ridership for each station and sort them, so you can find out the stations with the highest traffic during the time you investigate"
   ]
  },
  {
   "cell_type": "code",
   "execution_count": null,
   "metadata": {
    "collapsed": true
   },
   "outputs": [],
   "source": []
  },
  {
   "cell_type": "markdown",
   "metadata": {},
   "source": [
    "---\n",
    "## Exercise 10\n",
    "- Make a single list of these total ridership values and plot it with `plt.hist(total_ridership_counts)` to get an idea about the distribution of total ridership among different stations.   \n",
    "This should show you that most stations have a small traffic, and the histogram bins for large traffic volumes have small bars.\n",
    "\n",
    "*Additional Hint*:    \n",
    "If you want to see which stations take the meat of the traffic, you can sort the total ridership counts and make a `plt.bar` graph. For this, you want to have two lists: the indices of each bar, and the values. The indices can just be `0,1,2,3,...`, so you can do \n",
    "\n",
    "    indices = range(len(total_ridership_values))\n",
    "    plt.bar(indices, total_ridership_values)\n",
    "\n",
    "    "
   ]
  },
  {
   "cell_type": "code",
   "execution_count": null,
   "metadata": {
    "collapsed": true
   },
   "outputs": [],
   "source": []
  }
 ],
 "metadata": {
  "anaconda-cloud": {},
  "kernelspec": {
   "display_name": "Python 3",
   "language": "python",
   "name": "python3"
  },
  "language_info": {
   "codemirror_mode": {
    "name": "ipython",
    "version": 3
   },
   "file_extension": ".py",
   "mimetype": "text/x-python",
   "name": "python",
   "nbconvert_exporter": "python",
   "pygments_lexer": "ipython3",
   "version": "3.6.0"
  }
 },
 "nbformat": 4,
 "nbformat_minor": 1
}
