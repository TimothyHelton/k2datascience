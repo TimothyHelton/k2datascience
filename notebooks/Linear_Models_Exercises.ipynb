{
 "cells": [
  {
   "cell_type": "markdown",
   "metadata": {},
   "source": [
    "# Linear Models\n",
    "Timothy Helton\n",
    "\n",
    "---\n",
    "<br>\n",
    "<font color=\"red\">\n",
    "    NOTE:\n",
    "    <br>\n",
    "    This notebook uses code found in the\n",
    "    <a href=\"https://github.com/TimothyHelton/k2datascience/blob/master/k2datascience/regression.py\">\n",
    "    <strong>k2datascience.pca</strong></a> module.\n",
    "    To execute all the cells do one of the following items:\n",
    "    <ul>\n",
    "        <li>Install the k2datascience package to the active Python interpreter.</li>\n",
    "        <li>Add k2datascience/k2datascience to the PYTHON_PATH system variable.</li>\n",
    "        <li>\n",
    "            Create a link to the regression.py file in the same directory as this notebook.\n",
    "        </li>\n",
    "</font>"
   ]
  },
  {
   "cell_type": "markdown",
   "metadata": {},
   "source": [
    "---\n",
    "### Imports"
   ]
  },
  {
   "cell_type": "code",
   "execution_count": null,
   "metadata": {},
   "outputs": [],
   "source": [
    "import os\n",
    "import os.path as osp\n",
    "\n",
    "import matplotlib.pyplot as plt\n",
    "import numpy as np\n",
    "import pandas as pd\n",
    "import seaborn as sns\n",
    "import statsmodels.formula.api as smf\n",
    "\n",
    "from k2datascience.utils import ax_formatter, save_fig, size\n",
    "\n",
    "from IPython.core.interactiveshell import InteractiveShell\n",
    "InteractiveShell.ast_node_interactivity = \"all\"\n",
    "%matplotlib inline"
   ]
  },
  {
   "cell_type": "markdown",
   "metadata": {},
   "source": [
    "---\n",
    "### Load Data"
   ]
  },
  {
   "cell_type": "code",
   "execution_count": null,
   "metadata": {},
   "outputs": [],
   "source": [
    "data_dir = osp.realpath(osp.join(os.getcwd(), '..', 'data',\n",
    "                                 'linear_regression'))"
   ]
  },
  {
   "cell_type": "markdown",
   "metadata": {},
   "source": [
    "#### Batting"
   ]
  },
  {
   "cell_type": "code",
   "execution_count": null,
   "metadata": {},
   "outputs": [],
   "source": [
    "batting = pd.read_csv(osp.join(data_dir, 'batting.csv'))\n",
    "category_cols = (\n",
    "    'stint',\n",
    "    'league_id',\n",
    "    'triple',\n",
    "    'cs',\n",
    "    'ibb',\n",
    "    'hbp',\n",
    "    'sf',\n",
    "    'g_idp',\n",
    ")\n",
    "for col in category_cols:\n",
    "    batting.loc[:, col] = batting.loc[:, col].astype('category')\n",
    "\n",
    "batting.info()\n",
    "batting.head()\n",
    "batting.describe()"
   ]
  },
  {
   "cell_type": "markdown",
   "metadata": {},
   "source": [
    "#### Player"
   ]
  },
  {
   "cell_type": "code",
   "execution_count": null,
   "metadata": {},
   "outputs": [],
   "source": [
    "player = pd.read_csv(osp.join(data_dir, 'player.csv'))\n",
    "category_cols = (\n",
    "    'bats',\n",
    "    'birth_month',\n",
    "    'death_month',\n",
    "    'throws',\n",
    ")\n",
    "for col in category_cols:\n",
    "    player.loc[:, col] = player.loc[:, col].astype('category')\n",
    "\n",
    "player.info()\n",
    "player.head()\n",
    "player.describe()"
   ]
  },
  {
   "cell_type": "code",
   "execution_count": null,
   "metadata": {},
   "outputs": [],
   "source": [
    "salary = pd.read_csv(osp.join(data_dir, 'salary.csv'))\n",
    "category_cols = (\n",
    "    'team_id',\n",
    "    'league_id',\n",
    ")\n",
    "for col in category_cols:\n",
    "    salary.loc[:, col] = salary.loc[:, col].astype('category')\n",
    "\n",
    "salary.info()\n",
    "salary.head()\n",
    "salary.describe()"
   ]
  },
  {
   "cell_type": "code",
   "execution_count": null,
   "metadata": {},
   "outputs": [],
   "source": [
    "team = pd.read_csv(osp.join(data_dir, 'team.csv'))\n",
    "category_cols = (\n",
    "    'league_id',\n",
    "    'div_id',\n",
    "    'div_win',\n",
    "    'lg_win',\n",
    "    'rank',\n",
    "    'team_id',\n",
    "    'wc_win',\n",
    "    'ws_win',\n",
    ")\n",
    "for col in category_cols:\n",
    "    team.loc[:, col] = team.loc[:, col].astype('category')\n",
    "\n",
    "team.info()\n",
    "team.head()\n",
    "team.describe()"
   ]
  },
  {
   "cell_type": "markdown",
   "metadata": {},
   "source": [
    "## Exercise 1: \n",
    "1. Compute the correlation between mean salary and year.\n",
    "1. Generate a graph of mean salary per year."
   ]
  },
  {
   "cell_type": "code",
   "execution_count": null,
   "metadata": {},
   "outputs": [],
   "source": [
    "mean_salary = (salary\n",
    "               .groupby('year')\n",
    "               .mean()\n",
    "               .reset_index())\n",
    "mean_salary.corr()"
   ]
  },
  {
   "cell_type": "code",
   "execution_count": null,
   "metadata": {},
   "outputs": [],
   "source": [
    "ax = mean_salary.plot(x='year', y='salary', figsize=(8, 6),\n",
    "                      label='Mean Salary')\n",
    "\n",
    "ax.set_title('Mean Salary vs Year', fontsize=size['title'])\n",
    "ax.legend(fontsize=size['legend'])\n",
    "ax.set_xlabel('Year', fontsize=size['label'])\n",
    "ax.set_ylabel('Mean Salary (x $1000)', fontsize= size['label'])\n",
    "ax.yaxis.set_major_formatter(ax_formatter['thousands'])\n",
    "\n",
    "plt.show();"
   ]
  },
  {
   "cell_type": "markdown",
   "metadata": {},
   "source": [
    "## Exercise 2: \n",
    "1. Find the best line that approximates mean salary with respect to years. \n",
    "1. Plot this line together with the data from Exercise 1."
   ]
  },
  {
   "cell_type": "code",
   "execution_count": null,
   "metadata": {},
   "outputs": [],
   "source": [
    "lr = smf.ols(formula=f'salary ~ year', data=mean_salary).fit()\n",
    "lr.summary()"
   ]
  },
  {
   "cell_type": "code",
   "execution_count": null,
   "metadata": {},
   "outputs": [],
   "source": [
    "# Data\n",
    "ax = mean_salary.plot(x='year', y='salary',\n",
    "                      figsize=(8, 6), label='Mean Salary')\n",
    "\n",
    "# Regression Line\n",
    "ax.plot(mean_salary.year, lr.predict(mean_salary.year),\n",
    "        linestyle='--', label='Linear Regression')\n",
    "\n",
    "ax.set_title('Mean Salary vs Year', fontsize=size['title'])\n",
    "ax.legend(fontsize=size['legend'])\n",
    "ax.set_xlabel('Year', fontsize=size['label'])\n",
    "ax.set_ylabel('Mean Salary (x $1000)', fontsize= size['label'])\n",
    "ax.yaxis.set_major_formatter(ax_formatter['thousands'])\n",
    "\n",
    "plt.show();"
   ]
  },
  {
   "cell_type": "markdown",
   "metadata": {},
   "source": [
    "## Exercise 3: Create a box plot for salaries per year."
   ]
  },
  {
   "cell_type": "code",
   "execution_count": null,
   "metadata": {},
   "outputs": [],
   "source": [
    "fig = plt.figure('Salary Boxp Plot', figsize=(12, 12),\n",
    "                 facecolor='white', edgecolor='black')\n",
    "rows, cols = (1, 1)\n",
    "ax0 = plt.subplot2grid((rows, cols), (0, 0))\n",
    "\n",
    "sns.boxplot(x='year', y='salary', data=salary,\n",
    "            fliersize=2, ax=ax0)\n",
    "\n",
    "ax0.set_title('Salary vs Year', fontsize=size['title'])\n",
    "ax0.set_xlabel('Year', fontsize=size['label'])\n",
    "ax0.set_ylabel('Salary (x $1000)', fontsize=size['label'])\n",
    "ax0.yaxis.set_major_formatter(ax_formatter['thousands'])\n",
    "\n",
    "fig.autofmt_xdate()\n",
    "\n",
    "plt.show();"
   ]
  },
  {
   "cell_type": "markdown",
   "metadata": {},
   "source": [
    "## Exercise 4:\n",
    "1. From the previous graph we can see an increasing disparity in salaries as time increases. \n",
    "    1. How would you measure disparity in salaries? \n",
    "    1. Compute the correlation of disparity and years.\n",
    "    1. Find the best line that approximates disparity with respect to years."
   ]
  },
  {
   "cell_type": "markdown",
   "metadata": {},
   "source": [
    "The [Gini Coefficient](https://en.wikipedia.org/wiki/Gini_coefficient) is a means to represent the income or wealth distribution of a population.\n",
    "- The Gini coefficient measures the inequality among values of a frequency distribution.\n",
    "- G = 0 represents perfect equality\n",
    "- G = 1 expresses maximal inequality\n",
    "\n",
    "$$G = \\frac{2 \\sum_{i=1}^n i y_i}{n \\sum_{i=1}^n  y_i} - \\frac{n + 1}{n}$$"
   ]
  },
  {
   "cell_type": "code",
   "execution_count": null,
   "metadata": {},
   "outputs": [],
   "source": [
    "gini = {}\n",
    "for year in salary.year.unique():\n",
    "    salaries = (salary.query(f'year == {year}')\n",
    "                .salary\n",
    "                .sort_values())\n",
    "    n = salaries.size\n",
    "\n",
    "    gini[year] = ((2 * np.sum(salaries * (np.arange(n) + 1)))\n",
    "                  / (n * salaries.sum())\n",
    "                  - ((n + 1) / n))\n",
    "gini = (pd.Series(gini)\n",
    "        .reset_index()\n",
    "        .rename(columns={'index': 'year', 0: 'gini'}))"
   ]
  },
  {
   "cell_type": "code",
   "execution_count": null,
   "metadata": {},
   "outputs": [],
   "source": [
    "gini.corr()"
   ]
  },
  {
   "cell_type": "code",
   "execution_count": null,
   "metadata": {},
   "outputs": [],
   "source": [
    "ax = gini.plot(x='year', y='gini', figsize=(8, 6),\n",
    "               label='Gini Coefficient')\n",
    "\n",
    "ax.set_title('Gini Coefficient vs Year', fontsize=size['title'])\n",
    "ax.legend(fontsize=size['legend'])\n",
    "ax.set_xlabel('Year', fontsize=size['label'])\n",
    "ax.set_ylabel('Gini Coefficient', fontsize= size['label'])\n",
    "\n",
    "plt.show();"
   ]
  },
  {
   "cell_type": "code",
   "execution_count": null,
   "metadata": {},
   "outputs": [],
   "source": [
    "features = ' + '.join([f'np.power(year, {x + 1})' for x in range(5)])\n",
    "lr = smf.ols(formula=f'gini ~ {features}', data=gini).fit()\n",
    "lr.summary()"
   ]
  },
  {
   "cell_type": "code",
   "execution_count": null,
   "metadata": {},
   "outputs": [],
   "source": [
    "# Data\n",
    "ax = gini.plot(x='year', y='gini', figsize=(8, 6),\n",
    "               label='Gini Coefficient')\n",
    "\n",
    "# Regression Line\n",
    "ax.plot(gini.year, lr.predict(gini.year),\n",
    "        linestyle='--', label='Regression')\n",
    "\n",
    "ax.set_title('Gini Coefficient vs Year', fontsize=size['title'])\n",
    "ax.legend(fontsize=size['legend'])\n",
    "ax.set_xlabel('Year', fontsize=size['label'])\n",
    "ax.set_ylabel('Gini Coefficient', fontsize= size['label'])\n",
    "\n",
    "plt.show();"
   ]
  },
  {
   "cell_type": "code",
   "execution_count": null,
   "metadata": {},
   "outputs": [],
   "source": []
  },
  {
   "cell_type": "markdown",
   "metadata": {},
   "source": [
    "## Exercise 5: \n",
    "1. Build a predictive model for the amount of hits for a team given Games played, Wins, Walks by batters, At bats, Fielding  percentage, Outs Pitched (innings pitched x 3), Hits allowed, Earned runs allowed, Doubles. To solve this problem you will use team.csv. \n",
    "    1. How does your model measure accuracy?\n",
    "    1. What was the score for its accuracy?\n",
    "    1. Choose two features and create a 3d plot of feature1, feature2, h."
   ]
  },
  {
   "cell_type": "code",
   "execution_count": null,
   "metadata": {},
   "outputs": [],
   "source": []
  },
  {
   "cell_type": "markdown",
   "metadata": {},
   "source": [
    "## Exercise 6:\n",
    "1. Build a similar model to predict average hits per year based on Games played, at bats and whether a player is a left or right handed batter. Consider only those players who are either left or right handed batters and for the moment do not worry about missing data or ambidextrous batters. "
   ]
  },
  {
   "cell_type": "code",
   "execution_count": null,
   "metadata": {},
   "outputs": [],
   "source": []
  }
 ],
 "metadata": {
  "anaconda-cloud": {},
  "kernelspec": {
   "display_name": "Python 3",
   "language": "python",
   "name": "python3"
  },
  "language_info": {
   "codemirror_mode": {
    "name": "ipython",
    "version": 3
   },
   "file_extension": ".py",
   "mimetype": "text/x-python",
   "name": "python",
   "nbconvert_exporter": "python",
   "pygments_lexer": "ipython3",
   "version": "3.6.1"
  }
 },
 "nbformat": 4,
 "nbformat_minor": 1
}
