{
 "cells": [
  {
   "cell_type": "markdown",
   "metadata": {},
   "source": [
    "# Linear Models\n",
    "Timothy Helton\n",
    "\n",
    "---\n",
    "<br>\n",
    "<font color=\"red\">\n",
    "    NOTE:\n",
    "    <br>\n",
    "    This notebook uses code found in the\n",
    "    <a href=\"https://github.com/TimothyHelton/k2datascience/blob/master/k2datascience/regression.py\">\n",
    "    <strong>k2datascience.pca</strong></a> module.\n",
    "    To execute all the cells do one of the following items:\n",
    "    <ul>\n",
    "        <li>Install the k2datascience package to the active Python interpreter.</li>\n",
    "        <li>Add k2datascience/k2datascience to the PYTHON_PATH system variable.</li>\n",
    "        <li>\n",
    "            Create a link to the regression.py file in the same directory as this notebook.\n",
    "        </li>\n",
    "</font>"
   ]
  },
  {
   "cell_type": "markdown",
   "metadata": {},
   "source": [
    "---\n",
    "### Imports"
   ]
  },
  {
   "cell_type": "code",
   "execution_count": null,
   "metadata": {},
   "outputs": [],
   "source": [
    "import os\n",
    "import os.path as osp\n",
    "\n",
    "import matplotlib.pyplot as plt\n",
    "from mpl_toolkits.mplot3d import Axes3D\n",
    "import numpy as np\n",
    "import pandas as pd\n",
    "import seaborn as sns\n",
    "import statsmodels.formula.api as smf\n",
    "from statsmodels.graphics.regressionplots import influence_plot\n",
    "from statsmodels.sandbox.regression.predstd import wls_prediction_std\n",
    "\n",
    "from k2datascience.utils import ax_formatter, save_fig, size\n",
    "\n",
    "from IPython.core.interactiveshell import InteractiveShell\n",
    "InteractiveShell.ast_node_interactivity = \"all\"\n",
    "%matplotlib inline"
   ]
  },
  {
   "cell_type": "markdown",
   "metadata": {},
   "source": [
    "---\n",
    "### Load Data"
   ]
  },
  {
   "cell_type": "code",
   "execution_count": null,
   "metadata": {},
   "outputs": [],
   "source": [
    "data_dir = osp.realpath(osp.join(os.getcwd(), '..', 'data',\n",
    "                                 'linear_regression'))"
   ]
  },
  {
   "cell_type": "markdown",
   "metadata": {},
   "source": [
    "#### Batting"
   ]
  },
  {
   "cell_type": "code",
   "execution_count": null,
   "metadata": {},
   "outputs": [],
   "source": [
    "batting = pd.read_csv(osp.join(data_dir, 'batting.csv'))\n",
    "category_cols = (\n",
    "    'stint',\n",
    "    'league_id',\n",
    "    'triple',\n",
    "    'cs',\n",
    "    'ibb',\n",
    "    'hbp',\n",
    "    'sf',\n",
    "    'g_idp',\n",
    ")\n",
    "for col in category_cols:\n",
    "    batting.loc[:, col] = batting.loc[:, col].astype('category')\n",
    "\n",
    "batting.info()\n",
    "batting.head()\n",
    "batting.describe()"
   ]
  },
  {
   "cell_type": "markdown",
   "metadata": {},
   "source": [
    "#### Player"
   ]
  },
  {
   "cell_type": "code",
   "execution_count": null,
   "metadata": {},
   "outputs": [],
   "source": [
    "player = pd.read_csv(osp.join(data_dir, 'player.csv'))\n",
    "category_cols = (\n",
    "    'bats',\n",
    "    'birth_month',\n",
    "    'death_month',\n",
    "    'throws',\n",
    ")\n",
    "for col in category_cols:\n",
    "    player.loc[:, col] = player.loc[:, col].astype('category')\n",
    "\n",
    "player.info()\n",
    "player.head()\n",
    "player.describe()"
   ]
  },
  {
   "cell_type": "code",
   "execution_count": null,
   "metadata": {},
   "outputs": [],
   "source": [
    "salary = pd.read_csv(osp.join(data_dir, 'salary.csv'))\n",
    "category_cols = (\n",
    "    'team_id',\n",
    "    'league_id',\n",
    ")\n",
    "for col in category_cols:\n",
    "    salary.loc[:, col] = salary.loc[:, col].astype('category')\n",
    "\n",
    "salary.info()\n",
    "salary.head()\n",
    "salary.describe()"
   ]
  },
  {
   "cell_type": "code",
   "execution_count": null,
   "metadata": {},
   "outputs": [],
   "source": [
    "team = pd.read_csv(osp.join(data_dir, 'team.csv'))\n",
    "category_cols = (\n",
    "    'league_id',\n",
    "    'div_id',\n",
    "    'div_win',\n",
    "    'lg_win',\n",
    "    'rank',\n",
    "    'team_id',\n",
    "    'wc_win',\n",
    "    'ws_win',\n",
    ")\n",
    "for col in category_cols:\n",
    "    team.loc[:, col] = team.loc[:, col].astype('category')\n",
    "\n",
    "team.info()\n",
    "team.head()\n",
    "team.describe()"
   ]
  },
  {
   "cell_type": "markdown",
   "metadata": {},
   "source": [
    "## Exercise 1: \n",
    "1. Compute the correlation between mean salary and year.\n",
    "1. Generate a graph of mean salary per year."
   ]
  },
  {
   "cell_type": "code",
   "execution_count": null,
   "metadata": {},
   "outputs": [],
   "source": [
    "mean_salary = (salary\n",
    "               .groupby('year')\n",
    "               .mean()\n",
    "               .reset_index())\n",
    "mean_salary.corr()"
   ]
  },
  {
   "cell_type": "code",
   "execution_count": null,
   "metadata": {},
   "outputs": [],
   "source": [
    "ax = mean_salary.plot(x='year', y='salary', figsize=(8, 6),\n",
    "                      label='Mean Salary')\n",
    "\n",
    "ax.set_title('Mean Salary vs Year', fontsize=size['title'])\n",
    "ax.legend(fontsize=size['legend'])\n",
    "ax.set_xlabel('Year', fontsize=size['label'])\n",
    "ax.set_ylabel('Mean Salary (x $1000)', fontsize= size['label'])\n",
    "ax.yaxis.set_major_formatter(ax_formatter['thousands'])\n",
    "\n",
    "plt.show();"
   ]
  },
  {
   "cell_type": "markdown",
   "metadata": {},
   "source": [
    "## Exercise 2: \n",
    "1. Find the best line that approximates mean salary with respect to years. \n",
    "1. Plot this line together with the data from Exercise 1."
   ]
  },
  {
   "cell_type": "code",
   "execution_count": null,
   "metadata": {},
   "outputs": [],
   "source": [
    "lr = smf.ols(formula=f'salary ~ year', data=mean_salary).fit()\n",
    "lr.summary()"
   ]
  },
  {
   "cell_type": "code",
   "execution_count": null,
   "metadata": {},
   "outputs": [],
   "source": [
    "# Data\n",
    "ax = mean_salary.plot(x='year', y='salary',\n",
    "                      figsize=(8, 6), label='Mean Salary')\n",
    "\n",
    "# Regression Line\n",
    "ax.plot(mean_salary.year, lr.predict(mean_salary.year),\n",
    "        linestyle='--', label='Linear Regression')\n",
    "\n",
    "# Confidence Intervals\n",
    "std, upper, lower = wls_prediction_std(lr)\n",
    "ax.plot(mean_salary.year, lower, alpha=0.5, color='black',\n",
    "        label='Confidence Interval', linestyle='-.')\n",
    "ax.plot(mean_salary.year, upper, alpha=0.5, color='black',\n",
    "        linestyle='-.')\n",
    "\n",
    "ax.set_title('Mean Salary vs Year', fontsize=size['title'])\n",
    "ax.legend(fontsize=size['legend'])\n",
    "ax.set_xlabel('Year', fontsize=size['label'])\n",
    "ax.set_ylabel('Mean Salary (x $1000)', fontsize= size['label'])\n",
    "ax.yaxis.set_major_formatter(ax_formatter['thousands'])\n",
    "\n",
    "plt.show();"
   ]
  },
  {
   "cell_type": "markdown",
   "metadata": {},
   "source": [
    "## Exercise 3: Create a box plot for salaries per year."
   ]
  },
  {
   "cell_type": "code",
   "execution_count": null,
   "metadata": {},
   "outputs": [],
   "source": [
    "fig = plt.figure('Salary Boxp Plot', figsize=(12, 12),\n",
    "                 facecolor='white', edgecolor='black')\n",
    "rows, cols = (1, 1)\n",
    "ax0 = plt.subplot2grid((rows, cols), (0, 0))\n",
    "\n",
    "sns.boxplot(x='year', y='salary', data=salary,\n",
    "            fliersize=2, ax=ax0)\n",
    "\n",
    "ax0.set_title('Salary vs Year', fontsize=size['title'])\n",
    "ax0.set_xlabel('Year', fontsize=size['label'])\n",
    "ax0.set_ylabel('Salary (x $1000)', fontsize=size['label'])\n",
    "ax0.yaxis.set_major_formatter(ax_formatter['thousands'])\n",
    "\n",
    "fig.autofmt_xdate()\n",
    "\n",
    "plt.show();"
   ]
  },
  {
   "cell_type": "markdown",
   "metadata": {},
   "source": [
    "## Exercise 4:\n",
    "1. From the previous graph we can see an increasing disparity in salaries as time increases. \n",
    "    1. How would you measure disparity in salaries? \n",
    "    1. Compute the correlation of disparity and years.\n",
    "    1. Find the best line that approximates disparity with respect to years."
   ]
  },
  {
   "cell_type": "markdown",
   "metadata": {},
   "source": [
    "The [Gini Coefficient](https://en.wikipedia.org/wiki/Gini_coefficient) is a means to represent the income or wealth distribution of a population.\n",
    "- The Gini coefficient measures the inequality among values of a frequency distribution.\n",
    "- G = 0 represents perfect equality\n",
    "- G = 1 expresses maximal inequality\n",
    "\n",
    "$$G = \\frac{2 \\sum_{i=1}^n i y_i}{n \\sum_{i=1}^n  y_i} - \\frac{n + 1}{n}$$"
   ]
  },
  {
   "cell_type": "code",
   "execution_count": null,
   "metadata": {},
   "outputs": [],
   "source": [
    "gini = {}\n",
    "for year in salary.year.unique():\n",
    "    salaries = (salary.query(f'year == {year}')\n",
    "                .salary\n",
    "                .sort_values())\n",
    "    n = salaries.size\n",
    "\n",
    "    gini[year] = ((2 * np.sum(salaries * (np.arange(n) + 1)))\n",
    "                  / (n * salaries.sum())\n",
    "                  - ((n + 1) / n))\n",
    "gini = (pd.Series(gini)\n",
    "        .reset_index()\n",
    "        .rename(columns={'index': 'year', 0: 'gini'}))"
   ]
  },
  {
   "cell_type": "code",
   "execution_count": null,
   "metadata": {},
   "outputs": [],
   "source": [
    "gini.corr()"
   ]
  },
  {
   "cell_type": "code",
   "execution_count": null,
   "metadata": {},
   "outputs": [],
   "source": [
    "ax = gini.plot(x='year', y='gini', figsize=(8, 6),\n",
    "               label='Gini Coefficient')\n",
    "\n",
    "ax.set_title('Gini Coefficient vs Year', fontsize=size['title'])\n",
    "ax.legend(fontsize=size['legend'])\n",
    "ax.set_xlabel('Year', fontsize=size['label'])\n",
    "ax.set_ylabel('Gini Coefficient', fontsize= size['label'])\n",
    "\n",
    "plt.show();"
   ]
  },
  {
   "cell_type": "code",
   "execution_count": null,
   "metadata": {},
   "outputs": [],
   "source": [
    "features = ' + '.join([f'np.power(year, {x + 1})' for x in range(2)])\n",
    "quadratic_model = smf.ols(formula=f'gini ~ {features}', data=gini).fit()\n",
    "quadratic_model.summary()\n",
    "\n",
    "log_model = smf.ols(formula='gini ~ np.log(year) * year', data=gini).fit()\n",
    "log_model.summary()"
   ]
  },
  {
   "cell_type": "code",
   "execution_count": null,
   "metadata": {},
   "outputs": [],
   "source": [
    "fig = plt.figure('Regression Plot', figsize=(10, 5),\n",
    "                 facecolor='white', edgecolor='black')\n",
    "rows, cols = (1, 2)\n",
    "ax0 = plt.subplot2grid((rows, cols), (0, 0))\n",
    "ax1 = plt.subplot2grid((rows, cols), (0, 1), sharey=ax0)\n",
    "\n",
    "# Regression Lines\n",
    "ax0.plot(gini.year, quadratic_model.predict(gini.year),\n",
    "         color='red', linestyle='-.',\n",
    "         label='Quadratic Regression')\n",
    "std0, upper, lower = wls_prediction_std(quadratic_model)\n",
    "ax0.plot(gini.year, lower, alpha=0.5, color='black',\n",
    "         label='Confidence Interval', linestyle='-.')\n",
    "ax0.plot(gini.year, upper, alpha=0.5, color='black',\n",
    "         linestyle='-.')\n",
    "\n",
    "ax1.plot(gini.year, log_model.predict(gini.year),\n",
    "         color='red', linestyle='--',\n",
    "         label='Logrithmic Regression')\n",
    "std, upper, lower = wls_prediction_std(log_model)\n",
    "ax1.plot(gini.year, lower, alpha=0.5, color='black',\n",
    "         label='Confidence Interval', linestyle='-.')\n",
    "ax1.plot(gini.year, upper, alpha=0.5, color='black',\n",
    "         linestyle='-.')\n",
    "\n",
    "# Data\n",
    "for ax in (ax0, ax1):\n",
    "    gini.plot(x='year', y='gini', label='Gini Coefficient', ax=ax)\n",
    "    ax.legend(fontsize=size['legend'])\n",
    "    ax.set_xlabel('Year', fontsize=size['label'])\n",
    "    ax.set_ylabel('Gini Coefficient', fontsize= size['label'])\n",
    "\n",
    "fig.autofmt_xdate()\n",
    "plt.tight_layout()\n",
    "plt.suptitle('Gini Coefficient vs Year',\n",
    "             fontsize=size['super_title'], y=1.05)\n",
    "\n",
    "plt.show();"
   ]
  },
  {
   "cell_type": "code",
   "execution_count": null,
   "metadata": {},
   "outputs": [],
   "source": [
    "fig = plt.figure('Residual Plot', figsize=(12, 5),\n",
    "                 facecolor='white', edgecolor='black')\n",
    "rows, cols = (1, 2)\n",
    "ax0 = plt.subplot2grid((rows, cols), (0, 0))\n",
    "ax1 = plt.subplot2grid((rows, cols), (0, 1))\n",
    "\n",
    "# Quadratic Model\n",
    "ax0.scatter(quadratic_model.fittedvalues, quadratic_model.resid)\n",
    "\n",
    "ax0.set_title('Quadratic Model', fontsize=size['title'])\n",
    "\n",
    "# Logrithmic Model\n",
    "ax1.scatter(log_model.fittedvalues, log_model.resid)\n",
    "\n",
    "ax1.set_title('Logrithmic Model', fontsize=size['title'])\n",
    "\n",
    "for ax in (ax0, ax1):\n",
    "    ax.set_xlabel('Fitted Values', fontsize=size['label'])\n",
    "    ax.set_ylabel('Raw Residuals', fontsize=size['label'])\n",
    "    \n",
    "plt.show();"
   ]
  },
  {
   "cell_type": "code",
   "execution_count": null,
   "metadata": {},
   "outputs": [],
   "source": [
    "fig = plt.figure('Influence Plot', figsize=(10, 10),\n",
    "                 facecolor='white', edgecolor='black')\n",
    "rows, cols = (1, 2)\n",
    "ax0 = plt.subplot2grid((rows, cols), (0, 0))\n",
    "ax1 = plt.subplot2grid((rows, cols), (0, 1))\n",
    "\n",
    "# Quadradic Model\n",
    "influence = influence_plot(quadratic_model, ax=ax0)\n",
    "\n",
    "ax0.set_title('Quadratic Model',\n",
    "              fontsize=size['title'])\n",
    "\n",
    "# Logrithmic Model\n",
    "influence = influence_plot(log_model, ax=ax1)\n",
    "\n",
    "ax1.set_title('Logrithmic Model',\n",
    "              fontsize=size['title'])\n",
    "\n",
    "for ax in (ax0, ax1):\n",
    "    ax.set_xlabel('H Leverage',\n",
    "                  fontsize=size['label'])\n",
    "    ax.set_ylabel('Studentized Residuals',\n",
    "                  fontsize=size['label'])\n",
    "\n",
    "plt.show();"
   ]
  },
  {
   "cell_type": "markdown",
   "metadata": {},
   "source": [
    "#### Findings\n",
    "- Adding a cubic term yeilded similar results as the quadratic regression.\n",
    "- Both models appear to be overfitting at the end of the data.\n",
    "- The quadratic model does not fit the data as well as the logrithmic model.\n",
    "- The quadratic model has a far smaller confidence interval than the logrithmic model.\n",
    "- A small handful of data points are having a large impact on both models."
   ]
  },
  {
   "cell_type": "markdown",
   "metadata": {},
   "source": [
    "## Exercise 5: \n",
    "1. Build a predictive model for the amount of hits for a team given Games played, Wins, Walks by batters, At bats, Fielding  percentage, Outs Pitched (innings pitched x 3), Hits allowed, Earned runs allowed, Doubles. To solve this problem you will use team.csv. \n",
    "    1. How does your model measure accuracy?\n",
    "    1. What was the score for its accuracy?\n",
    "    1. Choose two features and create a 3d plot of feature1, feature2, h."
   ]
  },
  {
   "cell_type": "code",
   "execution_count": null,
   "metadata": {},
   "outputs": [],
   "source": [
    "fig = plt.figure('Team Heatmap', figsize=(10, 8),\n",
    "                 facecolor='white', edgecolor='black')\n",
    "rows, cols = (1, 1)\n",
    "ax0 = plt.subplot2grid((rows, cols), (0, 0))\n",
    "\n",
    "sns.heatmap(team.corr(),\n",
    "            annot=False, cbar_kws={'orientation': 'vertical'},\n",
    "            fmt='.2f', linewidths=1, vmin=-1, vmax=1, ax=ax0)\n",
    "\n",
    "ax0.set_title('Team Dataset', fontsize=size['title'])\n",
    "ax0.set_xticklabels(ax0.xaxis.get_majorticklabels(),\n",
    "                    fontsize=size['label'], rotation=80)\n",
    "ax0.set_yticklabels(ax0.yaxis.get_majorticklabels(),\n",
    "                    fontsize=size['label'], rotation=0)\n",
    "\n",
    "plt.show();"
   ]
  },
  {
   "cell_type": "code",
   "execution_count": null,
   "metadata": {},
   "outputs": [],
   "source": [
    "features = [\n",
    "    'g',\n",
    "    'w',\n",
    "    'bb',\n",
    "    'ab',\n",
    "    'fp',\n",
    "    'ipouts',\n",
    "    'ha',\n",
    "    'er',\n",
    "    'double',\n",
    "]\n",
    "model = ' + '.join(features)\n",
    "team_model = smf.ols(formula=f'h ~ {model}', data=team).fit()\n",
    "team_model.summary()"
   ]
  },
  {
   "cell_type": "markdown",
   "metadata": {},
   "source": [
    "##### Findings\n",
    "- The feature bb (walks) is not statistically relevent and will be removed."
   ]
  },
  {
   "cell_type": "code",
   "execution_count": null,
   "metadata": {},
   "outputs": [],
   "source": [
    "features.remove('bb')"
   ]
  },
  {
   "cell_type": "code",
   "execution_count": null,
   "metadata": {},
   "outputs": [],
   "source": [
    "new_model = ' + '.join(features)\n",
    "team_model = smf.ols(formula=f'h ~ {new_model}', data=team).fit()\n",
    "team_model.summary()"
   ]
  },
  {
   "cell_type": "code",
   "execution_count": null,
   "metadata": {},
   "outputs": [],
   "source": [
    "fig = plt.figure('Residual Plot', figsize=(8, 6),\n",
    "                 facecolor='white', edgecolor='black')\n",
    "rows, cols = (1, 1)\n",
    "ax0 = plt.subplot2grid((rows, cols), (0, 0))\n",
    "\n",
    "# Model\n",
    "ax0.scatter(team_model.fittedvalues, team_model.resid)\n",
    "\n",
    "ax0.set_title('Team Model', fontsize=size['title'])\n",
    "\n",
    "ax0.set_xlabel('Fitted Values', fontsize=size['label'])\n",
    "ax0.set_ylabel('Raw Residuals', fontsize=size['label'])\n",
    "    \n",
    "plt.show();"
   ]
  },
  {
   "cell_type": "code",
   "execution_count": null,
   "metadata": {},
   "outputs": [],
   "source": [
    "fig = plt.figure('Influence Plot', figsize=(10, 10),\n",
    "                 facecolor='white', edgecolor='black')\n",
    "rows, cols = (1, 1)\n",
    "ax0 = plt.subplot2grid((rows, cols), (0, 0))\n",
    "\n",
    "# Team Model\n",
    "influence = influence_plot(team_model, ax=ax0)\n",
    "\n",
    "ax0.set_title('Team Model',\n",
    "              fontsize=size['title'])\n",
    "\n",
    "ax.set_xlabel('H Leverage',\n",
    "              fontsize=size['label'])\n",
    "ax.set_ylabel('Studentized Residuals',\n",
    "              fontsize=size['label'])\n",
    "\n",
    "plt.show();"
   ]
  },
  {
   "cell_type": "code",
   "execution_count": null,
   "metadata": {},
   "outputs": [],
   "source": [
    "with sns.axes_style(\"white\"):\n",
    "    fig = plt.figure('Team At Bats, Wins, Hits Scatter',\n",
    "                     figsize=(10, 8), facecolor='white',\n",
    "                     edgecolor='black')\n",
    "    ax = Axes3D(fig)\n",
    "\n",
    "    sc = ax.scatter(team.ab, team.w, team.g,\n",
    "                    c=team.h, cmap='gnuplot',\n",
    "                    vmin=team.h.min(), vmax=team.h.max())\n",
    "    plt.colorbar(sc)\n",
    "\n",
    "ax.set_title(f'Data Colored by Hits',\n",
    "             fontsize=size['title'], y=1.02)\n",
    "ax.set_xlabel('At Bats', fontsize=size['label'])\n",
    "ax.set_ylabel('Wins', fontsize=size['label'])\n",
    "ax.set_zlabel('Games Played', fontsize=size['label'])\n",
    "\n",
    "plt.suptitle('Team At Bats vs Wins vs Games Played',\n",
    "             fontsize=size['super_title'], x=0.4, y=1.04)\n",
    "\n",
    "plt.show();"
   ]
  },
  {
   "cell_type": "markdown",
   "metadata": {},
   "source": [
    "##### Findings\n",
    "- The F-statistic is not equal to zero, so a relationship exists between hits and at least one of the features.\n",
    "    - This is confirmed by the P-values for all features being zero.\n",
    "        - All included features exhibit a relationship to hits.\n",
    "    - The featrues with the largest coefficient confidence are:\n",
    "        - At Bats\n",
    "        - Wins\n",
    "        - Hits Allowed\n",
    "- The model has an $R^2$ value of 0.957.\n",
    "- Numerous outliers are present in the data.\n",
    "- The leverage values to not indicate any specific points having a disproportionate impact on the data.\n",
    "- This model is an appropriate representation of the data and may be used to make predictions."
   ]
  },
  {
   "cell_type": "markdown",
   "metadata": {},
   "source": [
    "## Exercise 6:\n",
    "1. Build a similar model to predict average hits per year based on Games played, at bats and whether a player is a left or right handed batter. Consider only those players who are either left or right handed batters and for the moment do not worry about missing data or ambidextrous batters. "
   ]
  },
  {
   "cell_type": "code",
   "execution_count": null,
   "metadata": {},
   "outputs": [],
   "source": []
  }
 ],
 "metadata": {
  "anaconda-cloud": {},
  "kernelspec": {
   "display_name": "Python 3",
   "language": "python",
   "name": "python3"
  },
  "language_info": {
   "codemirror_mode": {
    "name": "ipython",
    "version": 3
   },
   "file_extension": ".py",
   "mimetype": "text/x-python",
   "name": "python",
   "nbconvert_exporter": "python",
   "pygments_lexer": "ipython3",
   "version": "3.6.1"
  }
 },
 "nbformat": 4,
 "nbformat_minor": 1
}
