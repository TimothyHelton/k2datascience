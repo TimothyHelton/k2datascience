{
 "cells": [
  {
   "cell_type": "markdown",
   "metadata": {},
   "source": [
    "# Unsupervised Learning - Clustering and PCA\n",
    "Timothy Helton\n",
    "\n",
    "---\n",
    "<br>\n",
    "<font color=\"red\">\n",
    "    NOTE:\n",
    "    <br>\n",
    "    This notebook uses code found in the\n",
    "    <a href=\"https://github.com/TimothyHelton/k2datascience/blob/master/k2datascience/cluster.py\">\n",
    "    <strong>k2datascience.cluster</strong></a> module.\n",
    "    To execute all the cells do one of the following items:\n",
    "    <ul>\n",
    "        <li>Install the k2datascience package to the active Python interpreter.</li>\n",
    "        <li>Add k2datascience/k2datascience to the PYTHON_PATH system variable.</li>\n",
    "        <li>Create a link to the cluster.py file in the same directory as this notebook.</li>\n",
    "</font>"
   ]
  },
  {
   "cell_type": "markdown",
   "metadata": {},
   "source": [
    "---\n",
    "### Imports"
   ]
  },
  {
   "cell_type": "code",
   "execution_count": null,
   "metadata": {},
   "outputs": [],
   "source": [
    "from bokeh.plotting import figure, show\n",
    "import bokeh.io as bkio\n",
    "import pandas as pd\n",
    "\n",
    "from k2datascience import cluster\n",
    "from k2datascience import plotting\n",
    "\n",
    "from IPython.core.interactiveshell import InteractiveShell\n",
    "InteractiveShell.ast_node_interactivity = \"all\"\n",
    "bkio.output_notebook()\n",
    "%matplotlib inline"
   ]
  },
  {
   "cell_type": "markdown",
   "metadata": {},
   "source": [
    "---\n",
    "### Load Data"
   ]
  },
  {
   "cell_type": "markdown",
   "metadata": {},
   "source": [
    "##### US Arrests Dataset"
   ]
  },
  {
   "cell_type": "code",
   "execution_count": null,
   "metadata": {},
   "outputs": [],
   "source": [
    "arrests = cluster.Arrests()\n",
    "arrests.data.info()\n",
    "arrests.data.head()\n",
    "arrests.data.describe()"
   ]
  },
  {
   "cell_type": "code",
   "execution_count": null,
   "metadata": {},
   "outputs": [],
   "source": [
    "plotting.correlation_heatmap_plot(arrests.data)"
   ]
  },
  {
   "cell_type": "code",
   "execution_count": null,
   "metadata": {},
   "outputs": [],
   "source": [
    "plotting.correlation_pair_plot(arrests.data)"
   ]
  },
  {
   "cell_type": "markdown",
   "metadata": {},
   "source": [
    "##### Genes Dataset"
   ]
  },
  {
   "cell_type": "code",
   "execution_count": null,
   "metadata": {},
   "outputs": [],
   "source": [
    "genes = cluster.Genes()\n",
    "genes.data.info()\n",
    "genes.data.head()\n",
    "genes.data.describe()"
   ]
  },
  {
   "cell_type": "markdown",
   "metadata": {},
   "source": [
    "-----------------"
   ]
  },
  {
   "cell_type": "markdown",
   "metadata": {},
   "source": [
    "## Exercise 1\n",
    "\n",
    "We mentioned the use of correlation-based distance and Euclidean distance as dissimilarity measures for hierarchical clustering. It turns out that these two measures are almost equivalent: if each observation has been centered to have mean zero and standard deviation one, and if we let $r_{ij}$ denote the correlation between the ith and jth observations, then the quantity $1−r_{ij}$ is proportional to the squared Euclidean distance between the ith and jth observations. On the `USArrests` data, show that this proportionality holds."
   ]
  },
  {
   "cell_type": "markdown",
   "metadata": {},
   "source": [
    "##### Correlation\n",
    "$$ r_{xy} = \\frac{\\sum_i^n (x_i - \\overline{x}) (y_i - \\overline{y})}{\\sigma_x \\sigma_y} $$\n",
    "\n",
    "##### Euclidean Distance\n",
    "$$ d(x,y) = \\sqrt{ \\sum_i^n (x_i - y_i)^2 } $$\n",
    "$$ d^2(x,y) = \\sum_i^n (x_i - y_i)^2 $$\n",
    "$$ d^2(x,y) = \\sum_i^n x_i^2 - 2\\sum_i^n x_i y_i + \\sum_i^n y_i^2 $$\n",
    "\n",
    "###### When the data is scaled so the mean is zero and standard deviation is 1.\n",
    "$$ r_{xy} = \\sum_i^n x_i y_i $$\n",
    "\n",
    "$$ d^2(x,y) = n - 2\\sum_i^n x_i y_i + n $$\n",
    "$$ d^2(x,y) = 2n - 2\\sum_i^n x_i y_i $$\n",
    "$$ d^2(x,y) = 1 - \\frac{\\sum_i^n x_i y_i}{n} $$\n",
    "\n",
    "$$ d^2(x,y) = 1 - \\frac{r}{n} $$\n"
   ]
  },
  {
   "cell_type": "markdown",
   "metadata": {},
   "source": [
    "## Exercise 2\n",
    "\n",
    "A formula for calculating PVE is given below. PVE can also be obtained by accessing the `explained_variance_ratio_` attribute of the `PCA` function. On the `USArrests` data, calculate PVE in two ways:\n",
    "\n",
    "![pve](pve.png)\n",
    "\n",
    "1. By accessing the `explained_variance_ratio_` attribute of the `PCA` function.\n",
    "2. By applying the Equation directly. That is, use the `PCA` function to compute the principal component loadings. Then, use those loadings in the Equation to obtain the PVE."
   ]
  },
  {
   "cell_type": "markdown",
   "metadata": {},
   "source": [
    "1) By accessing the `explained_variance_ratio_` attribute of the `PCA` function."
   ]
  },
  {
   "cell_type": "code",
   "execution_count": null,
   "metadata": {},
   "outputs": [],
   "source": [
    "arrests.n_components=4\n",
    "arrests.calc_pca()\n",
    "arrests.var_pct"
   ]
  },
  {
   "cell_type": "code",
   "execution_count": null,
   "metadata": {},
   "outputs": [],
   "source": [
    "plotting.pca_variance(arrests.var_pct)"
   ]
  },
  {
   "cell_type": "markdown",
   "metadata": {},
   "source": [
    "2) By applying the Equation directly. That is, use the `PCA` function to compute the principal component loadings. Then, use those loadings in the Equation to obtain the PVE."
   ]
  },
  {
   "cell_type": "code",
   "execution_count": null,
   "metadata": {},
   "outputs": [],
   "source": [
    "arrests.calc_pca_eq()"
   ]
  },
  {
   "cell_type": "markdown",
   "metadata": {},
   "source": [
    "## Exercise 3\n",
    "\n",
    "Consider the “USArrests” data. We will now perform hierarchical clustering on the states.\n",
    "1. Using hierarchical clustering with complete linkage and Euclidean distance, cluster the states.\n",
    "2. Cut the dendrogram at a height that results in three distinct clusters. Which states belong to which clusters?\n",
    "3. Hierachically cluster the states using complete linkage and Euclidean distance, after scaling the variables to have standard deviation one.\n",
    "4. What effect does scaling the variables have on the hierarchical clustering obtained? In your opinion, should the variables be scaled before the inter-observation dissimilarities are computed? Provide a justification for your answer."
   ]
  },
  {
   "cell_type": "markdown",
   "metadata": {},
   "source": [
    "1) Using hierarchical clustering with complete linkage and Euclidean distance, cluster the states."
   ]
  },
  {
   "cell_type": "code",
   "execution_count": null,
   "metadata": {},
   "outputs": [],
   "source": [
    "plotting.agglomerative_dendrogram_plot(\n",
    "    data=arrests.data,\n",
    "    labels=arrests.data.index,\n",
    "    title='US Arrests',\n",
    "    method='complete',\n",
    "    metric='euclidean',\n",
    ")"
   ]
  },
  {
   "cell_type": "markdown",
   "metadata": {},
   "source": [
    "2) Cut the dendrogram at a height that results in three distinct clusters. Which states belong to which clusters?"
   ]
  },
  {
   "cell_type": "code",
   "execution_count": null,
   "metadata": {},
   "outputs": [],
   "source": [
    "arrests.hierarchical_cluster(n_clusters=3,\n",
    "                             criterion='maxclust',\n",
    "                             method='complete',\n",
    "                             metric='euclidean')\n",
    "arrests.us_map_clusters()"
   ]
  },
  {
   "cell_type": "markdown",
   "metadata": {},
   "source": [
    "3) Hierachically cluster the states using complete linkage and Euclidean distance, after scaling the variables to have standard deviation one."
   ]
  },
  {
   "cell_type": "code",
   "execution_count": null,
   "metadata": {},
   "outputs": [],
   "source": [
    "plotting.agglomerative_dendrogram_plot(\n",
    "    data=arrests.std_x,\n",
    "    labels=arrests.data.index,\n",
    "    title='US Arrests',\n",
    "    method='complete',\n",
    "    metric='euclidean',\n",
    ")"
   ]
  },
  {
   "cell_type": "code",
   "execution_count": null,
   "metadata": {},
   "outputs": [],
   "source": [
    "original_data = arrests.data\n",
    "arrests.data = pd.DataFrame(arrests.std_x, index=arrests.data.index)\n",
    "arrests.hierarchical_cluster(n_clusters=3,\n",
    "                             criterion='maxclust',\n",
    "                             method='complete',\n",
    "                             metric='euclidean')\n",
    "arrests.us_map_clusters()\n",
    "arrests.data = original_data"
   ]
  },
  {
   "cell_type": "markdown",
   "metadata": {},
   "source": [
    "4) What effect does scaling the variables have on the hierarchical clustering obtained? In your opinion, should the variables be scaled before the inter-observation dissimilarities are computed? Provide a justification for your answer."
   ]
  },
  {
   "cell_type": "markdown",
   "metadata": {},
   "source": [
    "##### FINDINGS\n",
    "- The data is able to be sectioned into more uniform clusters once standardized.\n",
    "- The data should be standardized to reduce the effect of a single response dominating the cluster only due to larger magnitude values."
   ]
  },
  {
   "cell_type": "markdown",
   "metadata": {},
   "source": [
    "## Exercise 4\n",
    "\n",
    "In this problem, you will generate simulated data, and then perform PCA and K-means clustering on the data.\n",
    "1. Generate a simulated data set with 20 observations in each of three classes (i.e. 60 observations total), and 50 variables.\n",
    "2. Perform PCA on the 60 observations and plot the first two principal component score vectors. Use a different color to indicate the observations in each of the three classes. If the three classes appear separated in this plot, then continue on to part (3). If not, the return to part (1) and modify the simulation so that there is greater separation between the three classes. Do not continue to part (3) until the three classes show at least some separation in the first two principal component score vectors.\n",
    "3. Perform K-means clustering of the observations with `K = 3`. How well do the clusters that you obtained in K-means clustering compare to the true class labels?\n",
    "4. Perform K-means clustering with `K = 2`. Describe your results.\n",
    "5. Now perform K-means clustering with `K = 4`, and describe your results.\n",
    "6. Now perform K-means clustering with `K = 3` on the first two principal component score vectors, rather than on the raw data. That is, perform K-means clustering on the 60x2 matrix of which the first column is the first principal component score vector, and the second column is the second principal component score vector. Comment on the results.\n",
    "7. Using the `scale()` function, perform K-means clustering with `K = 3` on the data after scaling each variable to have standard deviation one. How do these results compare to those obtained in (2)? Explain."
   ]
  },
  {
   "cell_type": "markdown",
   "metadata": {},
   "source": [
    "1) Generate a simulated data set with 20 observations in each of three classes (i.e. 60 observations total), and 50 variables."
   ]
  },
  {
   "cell_type": "code",
   "execution_count": null,
   "metadata": {},
   "outputs": [],
   "source": [
    "sim = cluster.Simulated()\n",
    "sim.data.head()\n",
    "sim.data.describe()"
   ]
  },
  {
   "cell_type": "markdown",
   "metadata": {},
   "source": [
    "2) Perform PCA on the 60 observations and plot the first two principal component score vectors. Use a different color to indicate the observations in each of the three classes. If the three classes appear separated in this plot, then continue on to part (3). If not, the return to part (1) and modify the simulation so that there is greater separation between the three classes. Do not continue to part (3) until the three classes show at least some separation in the first two principal component score vectors."
   ]
  },
  {
   "cell_type": "code",
   "execution_count": null,
   "metadata": {},
   "outputs": [],
   "source": [
    "sim.calc_pca()\n",
    "plotting.pca_variance(sim.var_pct)"
   ]
  },
  {
   "cell_type": "code",
   "execution_count": null,
   "metadata": {},
   "outputs": [],
   "source": [
    "sim.plot_pca()"
   ]
  },
  {
   "cell_type": "markdown",
   "metadata": {},
   "source": [
    "3) Perform K-means clustering of the observations with `K = 3`. How well do the clusters that you obtained in K-means clustering compare to the true class labels?"
   ]
  },
  {
   "cell_type": "code",
   "execution_count": null,
   "metadata": {},
   "outputs": [],
   "source": [
    "sim.calc_kmeans(sim.data, n_clusters=3)"
   ]
  },
  {
   "cell_type": "markdown",
   "metadata": {},
   "source": [
    "4) Perform K-means clustering with `K = 2`. Describe your results."
   ]
  },
  {
   "cell_type": "code",
   "execution_count": null,
   "metadata": {},
   "outputs": [],
   "source": [
    "sim.calc_kmeans(sim.data, n_clusters=2)"
   ]
  },
  {
   "cell_type": "markdown",
   "metadata": {},
   "source": [
    "5) Now perform K-means clustering with `K = 4`, and describe your results."
   ]
  },
  {
   "cell_type": "code",
   "execution_count": null,
   "metadata": {},
   "outputs": [],
   "source": [
    "sim.calc_kmeans(sim.data, n_clusters=4)"
   ]
  },
  {
   "cell_type": "markdown",
   "metadata": {},
   "source": [
    "6) Now perform K-means clustering with `K = 3` on the first two principal component score vectors, rather than on the raw data. That is, perform K-means clustering on the 60x2 matrix of which the first column is the first principal component score vector, and the second column is the second principal component score vector. Comment on the results."
   ]
  },
  {
   "cell_type": "code",
   "execution_count": null,
   "metadata": {},
   "outputs": [],
   "source": [
    "sim.calc_kmeans(sim.trans[:, [0, 1]], n_clusters=3)"
   ]
  },
  {
   "cell_type": "markdown",
   "metadata": {},
   "source": [
    "7) Using the `scale()` function, perform K-means clustering with `K = 3` on the data after scaling each variable to have standard deviation one. How do these results compare to those obtained in (2)? Explain."
   ]
  },
  {
   "cell_type": "code",
   "execution_count": null,
   "metadata": {},
   "outputs": [],
   "source": [
    "sim.calc_kmeans(sim.std_x, n_clusters=3)"
   ]
  },
  {
   "cell_type": "markdown",
   "metadata": {},
   "source": [
    "## Exercise 5\n",
    "\n",
    "We will use a gene expression data set that consists of 40 tissue samples with measurements on 1000 genes. The first 20 samples are from healthy patients, while the second 20 are from a diseased group.\n",
    "1. Load the data.\n",
    "2. Apply hierarchical clustering to the samples using correlation-based distance, and plot the dendrogram. Do the genes separate the samples into two groups? Do your results depend on the type of linkage used?\n",
    "3. Your collaborator wants to know which genes differ the most across the two groups. Suggest a way to answer this question, and apply it here."
   ]
  },
  {
   "cell_type": "markdown",
   "metadata": {},
   "source": [
    "1) Load the data."
   ]
  },
  {
   "cell_type": "markdown",
   "metadata": {},
   "source": [
    "##### Completed Above"
   ]
  },
  {
   "cell_type": "markdown",
   "metadata": {},
   "source": [
    "2) Apply hierarchical clustering to the samples using correlation-based distance, and plot the dendrogram. Do the genes separate the samples into two groups? Do your results depend on the type of linkage used?"
   ]
  },
  {
   "cell_type": "code",
   "execution_count": null,
   "metadata": {},
   "outputs": [],
   "source": [
    "plotting.agglomerative_dendrogram_plot(\n",
    "    data=genes.data,\n",
    "    labels=list(range(1, 41)),\n",
    "    title='Genes (Complete)',\n",
    "    method='complete',\n",
    "    metric='correlation',\n",
    ")"
   ]
  },
  {
   "cell_type": "code",
   "execution_count": null,
   "metadata": {},
   "outputs": [],
   "source": [
    "plotting.agglomerative_dendrogram_plot(\n",
    "    data=genes.data,\n",
    "    labels=list(range(1, 41)),\n",
    "    title='Genes (Average)',\n",
    "    method='average',\n",
    "    metric='correlation',\n",
    ")"
   ]
  },
  {
   "cell_type": "code",
   "execution_count": null,
   "metadata": {},
   "outputs": [],
   "source": [
    "plotting.agglomerative_dendrogram_plot(\n",
    "    data=genes.data,\n",
    "    labels=list(range(1, 41)),\n",
    "    title='Genes (Single)',\n",
    "    method='single',\n",
    "    metric='correlation',\n",
    ")"
   ]
  },
  {
   "cell_type": "code",
   "execution_count": null,
   "metadata": {},
   "outputs": [],
   "source": [
    "plotting.agglomerative_dendrogram_plot(\n",
    "    data=genes.data,\n",
    "    labels=list(range(1, 41)),\n",
    "    title='Genes',\n",
    "    method='ward',\n",
    "    metric='euclidean',\n",
    ")"
   ]
  },
  {
   "cell_type": "markdown",
   "metadata": {},
   "source": [
    "3) Your collaborator wants to know which genes differ the most across the two groups. Suggest a way to answer this question, and apply it here."
   ]
  },
  {
   "cell_type": "code",
   "execution_count": null,
   "metadata": {},
   "outputs": [],
   "source": [
    "genes.std_x = genes.data\n",
    "genes.n_components = None\n",
    "genes.calc_pca()\n",
    "\n",
    "genes.var_pct.head()"
   ]
  },
  {
   "cell_type": "code",
   "execution_count": null,
   "metadata": {},
   "outputs": [],
   "source": [
    "genes.unique_genes()"
   ]
  }
 ],
 "metadata": {
  "anaconda-cloud": {},
  "kernelspec": {
   "display_name": "Python 3",
   "language": "python",
   "name": "python3"
  },
  "language_info": {
   "codemirror_mode": {
    "name": "ipython",
    "version": 3
   },
   "file_extension": ".py",
   "mimetype": "text/x-python",
   "name": "python",
   "nbconvert_exporter": "python",
   "pygments_lexer": "ipython3",
   "version": "3.6.2"
  }
 },
 "nbformat": 4,
 "nbformat_minor": 2
}
