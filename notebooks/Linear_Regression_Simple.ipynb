{
 "cells": [
  {
   "cell_type": "markdown",
   "metadata": {},
   "source": [
    "# Linear Regression\n",
    "\n",
    "The goal of this assignment is to build a simple linear regression algorithm from scratch. Linear regression is a very useful and simple to understand predicting values, given a set of training data. The outcome of regression is a best fitting line function, which, by definition, is the line that minimizes the sum of the squared errors. When plotted on a 2 dimensional coordinate system, the errors are the distance between the actual Y' and predicted Y' of the line. In machine learning, this line equation Y' = b(x) + A is solved using gradient descent to gradually approach to it. **We will be using the statistical approach here that directly solves this line equation without using an iterative algorithm.**"
   ]
  },
  {
   "cell_type": "markdown",
   "metadata": {},
   "source": [
    "---\n",
    "### Imports"
   ]
  },
  {
   "cell_type": "code",
   "execution_count": null,
   "metadata": {},
   "outputs": [],
   "source": [
    "from k2datascience import linear_regression\n",
    "\n",
    "from IPython.core.interactiveshell import InteractiveShell\n",
    "InteractiveShell.ast_node_interactivity = \"all\"\n",
    "%matplotlib inline"
   ]
  },
  {
   "cell_type": "markdown",
   "metadata": {},
   "source": [
    "---\n",
    "### Load Data"
   ]
  },
  {
   "cell_type": "code",
   "execution_count": null,
   "metadata": {},
   "outputs": [],
   "source": [
    "ad = linear_regression.AdvertisingSimple()"
   ]
  },
  {
   "cell_type": "markdown",
   "metadata": {},
   "source": [
    "## Exercise 1 - Explore the Data\n",
    "\n",
    "The `Advertising` data set consists of the sales of that product in 200 different\n",
    "markets, along with advertising budgets for the product in each of those\n",
    "markets for three different media: TV, radio, and newspaper. Explore the data and decide on which variable you would like to use to predict `Sales`."
   ]
  },
  {
   "cell_type": "code",
   "execution_count": null,
   "metadata": {},
   "outputs": [],
   "source": [
    "ad.data.info()\n",
    "ad.data.head()\n",
    "ad.data.describe()"
   ]
  },
  {
   "cell_type": "code",
   "execution_count": null,
   "metadata": {},
   "outputs": [],
   "source": [
    "ad.plot_correlation_joint_plots()"
   ]
  },
  {
   "cell_type": "code",
   "execution_count": null,
   "metadata": {},
   "outputs": [],
   "source": [
    "ad.plot_correlation_heatmap()"
   ]
  },
  {
   "cell_type": "markdown",
   "metadata": {},
   "source": [
    "#### Findings\n",
    "- TV advertizing has the largest correlation to sales, and will be used for prediction."
   ]
  },
  {
   "cell_type": "markdown",
   "metadata": {},
   "source": [
    "## Exercise 2 - Build a Simple Linear Regression Class\n",
    "\n",
    "The derivation can be [found here on Wikipedia](https://en.wikipedia.org/wiki/Simple_linear_regression).\n",
    "\n",
    "The general steps are:\n",
    "- Calculate mean and variance\n",
    "- Calculate covariance\n",
    "- Estimate coefficients\n",
    "- Make predictions on out-of-sample data\n",
    "\n",
    "The class should do the following:\n",
    "- Fit a set of x,y points\n",
    "- Predict the value a new x values based on the coefficients\n",
    "- Can plot the best fit line on the points\n",
    "- Return the coefficient and intercept\n",
    "- Return the coefficient of determination (R^2)"
   ]
  },
  {
   "cell_type": "markdown",
   "metadata": {},
   "source": [
    "## Exercise 3 - Try it out on the Advertising Data Set"
   ]
  },
  {
   "cell_type": "code",
   "execution_count": null,
   "metadata": {},
   "outputs": [],
   "source": [
    "ad.simple_stats_fit()\n",
    "f'Coefficient: {ad.coefficients[0]:.4f}'\n",
    "f'Intercept: {ad.intercept:.4f}'\n",
    "f'R-Squared Value: {ad.r2:.3f}'"
   ]
  },
  {
   "cell_type": "code",
   "execution_count": null,
   "metadata": {},
   "outputs": [],
   "source": [
    "ad.plot_simple_stats()"
   ]
  },
  {
   "cell_type": "markdown",
   "metadata": {},
   "source": [
    " "
   ]
  },
  {
   "cell_type": "markdown",
   "metadata": {},
   "source": [
    "## Exercise 4 - Check via Statsmodels and Scikit-learn"
   ]
  },
  {
   "cell_type": "code",
   "execution_count": null,
   "metadata": {},
   "outputs": [],
   "source": [
    "import statsmodels.api as sm\n",
    "\n",
    "X = ad.data.tv\n",
    "y = ad.data.sales\n",
    "\n",
    "X = sm.add_constant(X)\n",
    "model = sm.OLS(y, X)\n",
    "ln_reg = model.fit()\n",
    "\n",
    "ln_reg.summary()"
   ]
  },
  {
   "cell_type": "code",
   "execution_count": null,
   "metadata": {},
   "outputs": [],
   "source": [
    "import matplotlib.pyplot as plt\n",
    "import numpy as np\n",
    "from sklearn import linear_model\n",
    "\n",
    "advertising_X = ad.data.tv[:, np.newaxis]\n",
    "ad_X_train = advertising_X[:-20]\n",
    "ad_X_test = advertising_X[-20:]\n",
    "\n",
    "ad_y_train = ad.data.sales[:-20]\n",
    "ad_y_test = ad.data.sales[-20:]\n",
    "\n",
    "ln_reg = linear_model.LinearRegression()\n",
    "ln_reg.fit(ad_X_train, ad_y_train)\n",
    "\n",
    "f'Coefficients: {ln_reg.coef_}'\n",
    "f'Intercept: {ln_reg.intercept_}'\n",
    "mse = np.mean((ln_reg.predict(ad_X_test) - ad_y_test)**2)\n",
    "f'Mean Squared Error: {mse:.2f}'\n",
    "variance = ln_reg.score(ad_X_test, ad_y_test)\n",
    "f'Variance Score: {variance:.2f}'"
   ]
  },
  {
   "cell_type": "code",
   "execution_count": null,
   "metadata": {},
   "outputs": [],
   "source": [
    "fig = plt.figure('Correlation Heatmap', figsize=(8, 6),\n",
    "                 facecolor='white', edgecolor='black')\n",
    "rows, cols = (1, 1)\n",
    "ax = plt.subplot2grid((rows, cols), (0, 0))\n",
    "\n",
    "test_sort = np.argsort(ad_X_test.flatten())\n",
    "\n",
    "ax.scatter(ad_X_test, ad_y_test, alpha=0.5, marker='d')\n",
    "ax.plot(ad_X_test[test_sort], ln_reg.predict(ad_X_test)[test_sort],\n",
    "        color='black', linestyle='--')\n",
    "\n",
    "ax.set_title('Sales vs TV Advertising', fontsize=20)\n",
    "ax.set_xlabel('TV Advertising', fontsize=14)\n",
    "ax.set_ylabel('Sales', fontsize=14)\n",
    "\n",
    "plt.show();"
   ]
  },
  {
   "cell_type": "markdown",
   "metadata": {},
   "source": [
    "#### Findings\n",
    "- Statsmodels and SciKit-Learn both use state they are using Ordinary Least Squares to perform the linear regression, but the coefficient and intercept values are slightly different.\n",
    "    - Ths is due to the fact the Statsmodels uses the entire data set to create the fit, while SciKit-Learn uses a training subset."
   ]
  },
  {
   "cell_type": "markdown",
   "metadata": {},
   "source": [
    "# Additional Optional Exercises\n",
    "\n",
    "- Train / test split with RMSE calculation\n",
    "- Proper documentation for class methods and attributes\n",
    "- Build with NumPy methods and compare computation time\n",
    "- Multiple Linear Regression (SGD covered in Advanced Regression Unit)"
   ]
  }
 ],
 "metadata": {
  "anaconda-cloud": {},
  "kernelspec": {
   "display_name": "Python 3",
   "language": "python",
   "name": "python3"
  },
  "language_info": {
   "codemirror_mode": {
    "name": "ipython",
    "version": 3
   },
   "file_extension": ".py",
   "mimetype": "text/x-python",
   "name": "python",
   "nbconvert_exporter": "python",
   "pygments_lexer": "ipython3",
   "version": "3.6.1"
  }
 },
 "nbformat": 4,
 "nbformat_minor": 1
}
