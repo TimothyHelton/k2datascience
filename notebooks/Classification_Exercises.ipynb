{
 "cells": [
  {
   "cell_type": "markdown",
   "metadata": {},
   "source": [
    "# Classification "
   ]
  },
  {
   "cell_type": "markdown",
   "metadata": {},
   "source": [
    "-------------"
   ]
  },
  {
   "cell_type": "markdown",
   "metadata": {},
   "source": [
    "## Exercise\n",
    "\n",
    "This question should be answered using the `Weekly` data set. This data is similar in nature to the `Smarket` data from earlier, except that it contains 1,089\n",
    "weekly returns for 21 years, from the beginning of 1990 to the end of\n",
    "2010.\n",
    "\n",
    "1. Produce some numerical and graphical summaries of the `Weekly`\n",
    "data. Do there appear to be any patterns?\n",
    "\n",
    "2. Use the full data set to perform a logistic regression with\n",
    "`Direction` as the response and the five lag variables plus `Volume`\n",
    "as predictors. Use the summary function to print the results. Do\n",
    "any of the predictors appear to be statistically significant? If so,\n",
    "which ones?\n",
    "\n",
    "3. Compute the confusion matrix and overall fraction of correct\n",
    "predictions. Explain what the confusion matrix is telling you\n",
    "about the types of mistakes made by logistic regression.\n",
    "\n",
    "4. Now fit the logistic regression model using a training data period\n",
    "from 1990 to 2008, with `Lag2` as the only predictor. Compute the\n",
    "confusion matrix and the overall fraction of correct predictions\n",
    "for the held out data (that is, the data from 2009 and 2010).\n",
    "\n",
    "5. Repeat (4) using LDA.\n",
    "6. Repeat (4) using QDA.\n",
    "7. Repeat (4) using KNN with K = 1.\n",
    "8. Which of these methods appears to provide the best results on\n",
    "this data?\n",
    "\n",
    "9. Experiment with different combinations of predictors, including\n",
    "possible transformations and interactions, for each of the\n",
    "methods. Report the variables, method, and associated confusion\n",
    "matrix that appears to provide the best results on the held\n",
    "out data. Note that you should"
   ]
  },
  {
   "cell_type": "code",
   "execution_count": null,
   "metadata": {},
   "outputs": [],
   "source": []
  },
  {
   "cell_type": "markdown",
   "metadata": {},
   "source": [
    "## Exercise \n",
    "\n",
    "In this problem, you will develop a model to predict whether a given\n",
    "car gets high or low gas mileage based on the Auto data set.\n",
    "\n",
    "1. Create a binary variable, `mpg01`, that contains a 1 if `mpg` contains\n",
    "a value above its median, and a 0 if `mpg` contains a value below\n",
    "its median. \n",
    "\n",
    "2. Explore the data graphically in order to investigate the association\n",
    "between `mpg01` and the other features. Which of the other\n",
    "features seem most likely to be useful in predicting `mpg01`? Scatterplots\n",
    "and boxplots may be useful tools to answer this question.\n",
    "Describe your findings.\n",
    "\n",
    "3. Split the data into a training set and a test set.\n",
    "\n",
    "4. Perform LDA on the training data in order to predict `mpg01`\n",
    "using the variables that seemed most associated with `mpg01` in\n",
    "(2). What is the test error of the model obtained?\n",
    "\n",
    "5. Perform QDA on the training data in order to predict `mpg01`\n",
    "using the variables that seemed most associated with `mpg01` in\n",
    "(2). What is the test error of the model obtained?\n",
    "\n",
    "6. Perform logistic regression on the training data in order to predict\n",
    "`mpg01` using the variables that seemed most associated with\n",
    "`mpg01` in (2). What is the test error of the model obtained?\n",
    "\n",
    "7. Perform KNN on the training data, with several values of K, in\n",
    "order to predict `mpg01`. Use only the variables that seemed most\n",
    "associated with `mpg01` in (2). What test errors do you obtain?\n",
    "Which value of K seems to perform the best on this data set?"
   ]
  },
  {
   "cell_type": "code",
   "execution_count": null,
   "metadata": {},
   "outputs": [],
   "source": []
  },
  {
   "cell_type": "markdown",
   "metadata": {},
   "source": [
    "## Excercise\n",
    "\n",
    "Using the `Boston` data set, fit classification models in order to predict\n",
    "whether a given suburb has a crime rate above or below the median.\n",
    "Explore logistic regression, LDA, and KNN models using various subsets\n",
    "of the predictors. Describe your findings."
   ]
  },
  {
   "cell_type": "code",
   "execution_count": null,
   "metadata": {},
   "outputs": [],
   "source": []
  }
 ],
 "metadata": {
  "anaconda-cloud": {},
  "kernelspec": {
   "display_name": "Python 3",
   "language": "python",
   "name": "python3"
  },
  "language_info": {
   "codemirror_mode": {
    "name": "ipython",
    "version": 3.0
   },
   "file_extension": ".py",
   "mimetype": "text/x-python",
   "name": "python",
   "nbconvert_exporter": "python",
   "pygments_lexer": "ipython3",
   "version": "3.6.1"
  }
 },
 "nbformat": 4,
 "nbformat_minor": 0
}
