{
 "cells": [
  {
   "cell_type": "markdown",
   "metadata": {},
   "source": [
    "# Classification \n",
    "Timothy Helton\n",
    "\n",
    "---\n",
    "<br>\n",
    "<font color=\"red\">\n",
    "    NOTE:\n",
    "    <br>\n",
    "    This notebook uses code found in the\n",
    "    <a href=\"https://github.com/TimothyHelton/k2datascience/blob/master/k2datascience/classification.py\">\n",
    "    <strong>k2datascience.classification</strong></a> module.\n",
    "    To execute all the cells do one of the following items:\n",
    "    <ul>\n",
    "        <li>Install the k2datascience package to the active Python interpreter.</li>\n",
    "        <li>Add k2datascience/k2datascience to the PYTHON_PATH system variable.</li>\n",
    "        <li>Create a link to the classification.py file in the same directory as this notebook.</li>\n",
    "</font>"
   ]
  },
  {
   "cell_type": "markdown",
   "metadata": {},
   "source": [
    "---\n",
    "### Imports"
   ]
  },
  {
   "cell_type": "code",
   "execution_count": null,
   "metadata": {},
   "outputs": [],
   "source": [
    "from k2datascience import classification\n",
    "from k2datascience import plotting\n",
    "\n",
    "from IPython.core.interactiveshell import InteractiveShell\n",
    "InteractiveShell.ast_node_interactivity = \"all\"\n",
    "%matplotlib inline"
   ]
  },
  {
   "cell_type": "markdown",
   "metadata": {},
   "source": [
    "-------------"
   ]
  },
  {
   "cell_type": "markdown",
   "metadata": {},
   "source": [
    "## Exercise 1\n",
    "\n",
    "This question should be answered using the `Weekly` data set. This data is similar in nature to the `Smarket` data from earlier, except that it contains 1,089\n",
    "weekly returns for 21 years, from the beginning of 1990 to the end of\n",
    "2010.\n",
    "\n",
    "1. Produce some numerical and graphical summaries of the `Weekly`\n",
    "data. Do there appear to be any patterns?\n",
    "\n",
    "2. Use the full data set to perform a logistic regression with\n",
    "`Direction` as the response and the five lag variables plus `Volume`\n",
    "as predictors. Use the summary function to print the results. Do\n",
    "any of the predictors appear to be statistically significant? If so,\n",
    "which ones?\n",
    "\n",
    "3. Compute the confusion matrix and overall fraction of correct\n",
    "predictions. Explain what the confusion matrix is telling you\n",
    "about the types of mistakes made by logistic regression.\n",
    "\n",
    "4. Now fit the logistic regression model using a training data period\n",
    "from 1990 to 2008, with `Lag2` as the only predictor. Compute the\n",
    "confusion matrix and the overall fraction of correct predictions\n",
    "for the held out data (that is, the data from 2009 and 2010).\n",
    "\n",
    "5. Repeat (4) using LDA.\n",
    "6. Repeat (4) using QDA.\n",
    "7. Repeat (4) using KNN with K = 1.\n",
    "8. Which of these methods appears to provide the best results on\n",
    "this data?\n",
    "\n",
    "9. Experiment with different combinations of predictors, including\n",
    "possible transformations and interactions, for each of the\n",
    "methods. Report the variables, method, and associated confusion\n",
    "matrix that appears to provide the best results on the held\n",
    "out data. Note that you should"
   ]
  },
  {
   "cell_type": "markdown",
   "metadata": {},
   "source": [
    "1\\. Produce some numerical and graphical summaries of the `Weekly`\n",
    "data. Do there appear to be any patterns?"
   ]
  },
  {
   "cell_type": "code",
   "execution_count": null,
   "metadata": {},
   "outputs": [],
   "source": [
    "weekly = classification.Weekly()\n",
    "weekly.data.info()\n",
    "weekly.data.describe()\n",
    "weekly.data.head()"
   ]
  },
  {
   "cell_type": "code",
   "execution_count": null,
   "metadata": {},
   "outputs": [],
   "source": [
    "plotting.correlation_heatmap_plot(\n",
    "    data=weekly.data, title='Weekly Stockmarket')"
   ]
  },
  {
   "cell_type": "code",
   "execution_count": null,
   "metadata": {},
   "outputs": [],
   "source": [
    "plotting.correlation_pair_plot(\n",
    "    weekly.data, title='Weekly Stockmarket')"
   ]
  },
  {
   "cell_type": "markdown",
   "metadata": {},
   "source": [
    "##### FINDINGS\n",
    "- There does not appear to be noticable patterns in dataset.\n",
    "- All field variables except **volume** appear to follow a Gausian distribution."
   ]
  },
  {
   "cell_type": "markdown",
   "metadata": {},
   "source": [
    "2\\. Use the full data set to perform a logistic regression with\n",
    "`Direction` as the response and the five lag variables plus `Volume`\n",
    "as predictors. Use the summary function to print the results. Do\n",
    "any of the predictors appear to be statistically significant? If so,\n",
    "which ones?"
   ]
  },
  {
   "cell_type": "code",
   "execution_count": null,
   "metadata": {},
   "outputs": [],
   "source": [
    "weekly.logistic_regression(data=weekly.data)\n",
    "weekly.logistic_model.summary()"
   ]
  },
  {
   "cell_type": "markdown",
   "metadata": {},
   "source": [
    "##### FINDINGS\n",
    "- The intercept and lag2 features have P-values below the 0.05 threshold and appear statistically significant."
   ]
  },
  {
   "cell_type": "markdown",
   "metadata": {},
   "source": [
    "3\\. Compute the confusion matrix and overall fraction of correct"
   ]
  },
  {
   "cell_type": "code",
   "execution_count": null,
   "metadata": {},
   "outputs": [],
   "source": [
    "weekly.confusion\n",
    "print(weekly.classification)"
   ]
  },
  {
   "cell_type": "markdown",
   "metadata": {},
   "source": [
    "##### FINDINGS\n",
    "- The model is not well suited to the data.\n",
    "    - The **Precision** measures the accuracy of the **Positive** predictions.\n",
    "    $$\\frac{T_p}{T_p - F_p}$$\n",
    "    - The **Recall** measures the fraction of the model correctly **identified**.\n",
    "    $$\\frac{T_p}{T_p + F_n}$$\n",
    "    - The **F1-score** is the harmonic mean of the precision and recall.\n",
    "        - **Harmonic Mean** is used when the *average* of *rates* is desired.\n",
    "    $$\\frac{2 \\times Precision \\times Recall}{Precision + Recall}$$\n",
    "    - The **Support** is the total number of each class.\n",
    "        - The sum each row of the confusion matrix."
   ]
  },
  {
   "cell_type": "markdown",
   "metadata": {},
   "source": [
    "4\\. Now fit the logistic regression model using a training data period"
   ]
  },
  {
   "cell_type": "code",
   "execution_count": null,
   "metadata": {},
   "outputs": [],
   "source": [
    "weekly.logistic_regression(data=weekly.x_train)\n",
    "weekly.logistic_model.summary()"
   ]
  },
  {
   "cell_type": "code",
   "execution_count": null,
   "metadata": {},
   "outputs": [],
   "source": [
    "weekly.confusion\n",
    "print(weekly.classification)"
   ]
  },
  {
   "cell_type": "markdown",
   "metadata": {},
   "source": [
    "##### FINDINGS\n",
    "- Using 80% of the data as a training set did not improve the models accuracy."
   ]
  },
  {
   "cell_type": "code",
   "execution_count": null,
   "metadata": {},
   "outputs": [],
   "source": [
    "weekly.categorize(weekly.x_test)\n",
    "weekly.calc_prediction(weekly.y_test, weekly.prediction_nom)\n",
    "weekly.confusion\n",
    "print(weekly.classification)"
   ]
  },
  {
   "cell_type": "markdown",
   "metadata": {},
   "source": [
    "##### FINDINGS\n",
    "- Testing the model on the remaining 20% of the data yield a result worse than just randomly guessing."
   ]
  },
  {
   "cell_type": "markdown",
   "metadata": {},
   "source": [
    "5\\. Repeat (4) using LDA."
   ]
  },
  {
   "cell_type": "code",
   "execution_count": null,
   "metadata": {},
   "outputs": [],
   "source": [
    "weekly.lda()\n",
    "weekly.confusion\n",
    "print(weekly.classification)"
   ]
  },
  {
   "cell_type": "markdown",
   "metadata": {},
   "source": [
    "##### FINDINGS\n",
    "- This model is extremely acurate."
   ]
  },
  {
   "cell_type": "markdown",
   "metadata": {},
   "source": [
    "6\\. Repeat (4) using QDA."
   ]
  },
  {
   "cell_type": "code",
   "execution_count": null,
   "metadata": {},
   "outputs": [],
   "source": [
    "weekly.qda()\n",
    "weekly.confusion\n",
    "print(weekly.classification)"
   ]
  },
  {
   "cell_type": "markdown",
   "metadata": {},
   "source": [
    "##### FINDINGS\n",
    "- This model is better than the logistic regression, but not as good as the LDA model."
   ]
  },
  {
   "cell_type": "markdown",
   "metadata": {},
   "source": [
    "7\\. Repeat (4) using KNN with K = 1."
   ]
  },
  {
   "cell_type": "code",
   "execution_count": null,
   "metadata": {},
   "outputs": [],
   "source": [
    "weekly.knn()\n",
    "weekly.confusion\n",
    "print(weekly.classification)"
   ]
  },
  {
   "cell_type": "markdown",
   "metadata": {},
   "source": [
    "##### FINDINGS\n",
    "- This model is better than the logistic regression, but not as good as the QDA."
   ]
  },
  {
   "cell_type": "markdown",
   "metadata": {},
   "source": [
    "8\\.Which of these methods appears to provide the best results on\n",
    "this data?"
   ]
  },
  {
   "cell_type": "markdown",
   "metadata": {},
   "source": [
    "The model acuracy in decending order is the following:\n",
    "\n",
    "1. Linear Discriminate Analysis\n",
    "1. Quadradic Discriminate Analysis\n",
    "1. K-Nearest Neighbors\n",
    "1. Logistic Regression"
   ]
  },
  {
   "cell_type": "markdown",
   "metadata": {},
   "source": [
    "9\\. Experiment with different combinations of predictors, including\n",
    "possible transformations and interactions, for each of the\n",
    "methods. Report the variables, method, and associated confusion\n",
    "matrix that appears to provide the best results on the held\n",
    "out data. Note that you should"
   ]
  },
  {
   "cell_type": "code",
   "execution_count": null,
   "metadata": {},
   "outputs": [],
   "source": []
  },
  {
   "cell_type": "markdown",
   "metadata": {},
   "source": [
    "## Exercise 2\n",
    "\n",
    "In this problem, you will develop a model to predict whether a given\n",
    "car gets high or low gas mileage based on the Auto data set.\n",
    "\n",
    "1. Create a binary variable, `mpg01`, that contains a 1 if `mpg` contains\n",
    "a value above its median, and a 0 if `mpg` contains a value below\n",
    "its median. \n",
    "\n",
    "2. Explore the data graphically in order to investigate the association\n",
    "between `mpg01` and the other features. Which of the other\n",
    "features seem most likely to be useful in predicting `mpg01`? Scatterplots\n",
    "and boxplots may be useful tools to answer this question.\n",
    "Describe your findings.\n",
    "\n",
    "3. Split the data into a training set and a test set.\n",
    "\n",
    "4. Perform LDA on the training data in order to predict `mpg01`\n",
    "using the variables that seemed most associated with `mpg01` in\n",
    "(2). What is the test error of the model obtained?\n",
    "\n",
    "5. Perform QDA on the training data in order to predict `mpg01`\n",
    "using the variables that seemed most associated with `mpg01` in\n",
    "(2). What is the test error of the model obtained?\n",
    "\n",
    "6. Perform logistic regression on the training data in order to predict\n",
    "`mpg01` using the variables that seemed most associated with\n",
    "`mpg01` in (2). What is the test error of the model obtained?\n",
    "\n",
    "7. Perform KNN on the training data, with several values of K, in\n",
    "order to predict `mpg01`. Use only the variables that seemed most\n",
    "associated with `mpg01` in (2). What test errors do you obtain?\n",
    "Which value of K seems to perform the best on this data set?"
   ]
  },
  {
   "cell_type": "markdown",
   "metadata": {},
   "source": [
    "1\\. Create a binary variable, `mpg01`, that contains a 1 if `mpg` contains\n",
    "a value above its median, and a 0 if `mpg` contains a value below\n",
    "its median."
   ]
  },
  {
   "cell_type": "code",
   "execution_count": null,
   "metadata": {},
   "outputs": [],
   "source": [
    "auto = classification.Auto()\n",
    "auto.data.info()\n",
    "auto.data.describe()\n",
    "auto.data.head()"
   ]
  },
  {
   "cell_type": "markdown",
   "metadata": {},
   "source": [
    "2\\. Explore the data graphically in order to investigate the association\n",
    "between `mpg01` and the other features. Which of the other\n",
    "features seem most likely to be useful in predicting `mpg01`? Scatterplots\n",
    "and boxplots may be useful tools to answer this question.\n",
    "Describe your findings."
   ]
  },
  {
   "cell_type": "code",
   "execution_count": null,
   "metadata": {},
   "outputs": [],
   "source": [
    "plotting.correlation_heatmap_plot(\n",
    "    data=auto.data, title='Auto')"
   ]
  },
  {
   "cell_type": "code",
   "execution_count": null,
   "metadata": {},
   "outputs": [],
   "source": [
    "plotting.correlation_pair_plot(\n",
    "    data=auto.data, title='Auto')"
   ]
  },
  {
   "cell_type": "code",
   "execution_count": null,
   "metadata": {},
   "outputs": [],
   "source": [
    "auto.box_plots()"
   ]
  },
  {
   "cell_type": "markdown",
   "metadata": {},
   "source": [
    "##### FINDINGS\n",
    "- The following features appear to have a direct impact on the vehicles gas milage.\n",
    "    - Displacement\n",
    "        - Cylinders are related to Displacement and will not be included.\n",
    "    - Horsepower\n",
    "    - Weight\n",
    "    - Origin"
   ]
  },
  {
   "cell_type": "markdown",
   "metadata": {},
   "source": [
    "3\\. Split the data into a training set and a test set."
   ]
  },
  {
   "cell_type": "code",
   "execution_count": null,
   "metadata": {},
   "outputs": [],
   "source": [
    "auto.x_train.info()\n",
    "auto.y_train.head()\n",
    "auto.x_test.info()\n",
    "auto.y_test.head()"
   ]
  },
  {
   "cell_type": "markdown",
   "metadata": {},
   "source": [
    "4\\. Perform LDA on the training data in order to predict `mpg01`\n",
    "using the variables that seemed most associated with `mpg01` in\n",
    "(2). What is the test error of the model obtained?"
   ]
  },
  {
   "cell_type": "code",
   "execution_count": null,
   "metadata": {},
   "outputs": [],
   "source": [
    "auto.classify(model='LDA')\n",
    "auto.confusion\n",
    "print(auto.classification)"
   ]
  },
  {
   "cell_type": "markdown",
   "metadata": {},
   "source": [
    "5\\. Perform QDA on the training data in order to predict `mpg01`\n",
    "using the variables that seemed most associated with `mpg01` in\n",
    "(2). What is the test error of the model obtained?"
   ]
  },
  {
   "cell_type": "code",
   "execution_count": null,
   "metadata": {},
   "outputs": [],
   "source": [
    "auto.classify(model='QDA')\n",
    "auto.confusion\n",
    "print(auto.classification)"
   ]
  },
  {
   "cell_type": "markdown",
   "metadata": {},
   "source": [
    "6\\. Perform logistic regression on the training data in order to predict\n",
    "`mpg01` using the variables that seemed most associated with\n",
    "`mpg01` in (2). What is the test error of the model obtained?"
   ]
  },
  {
   "cell_type": "code",
   "execution_count": null,
   "metadata": {},
   "outputs": [],
   "source": [
    "auto.classify(model='LR')\n",
    "auto.confusion\n",
    "print(auto.classification)"
   ]
  },
  {
   "cell_type": "markdown",
   "metadata": {},
   "source": [
    "7\\. Perform KNN on the training data, with several values of K, in\n",
    "order to predict `mpg01`. Use only the variables that seemed most\n",
    "associated with `mpg01` in (2). What test errors do you obtain?\n",
    "Which value of K seems to perform the best on this data set?"
   ]
  },
  {
   "cell_type": "code",
   "execution_count": null,
   "metadata": {},
   "outputs": [],
   "source": [
    "auto.accuracy_vs_k()"
   ]
  },
  {
   "cell_type": "code",
   "execution_count": null,
   "metadata": {},
   "outputs": [],
   "source": [
    "auto.classify(model='KNN', n=13)\n",
    "auto.confusion\n",
    "print(auto.classification)"
   ]
  },
  {
   "cell_type": "markdown",
   "metadata": {},
   "source": [
    "##### FINDINGS\n",
    "- The most accurate model representing this dataset is the Quadratic Discriminant."
   ]
  },
  {
   "cell_type": "markdown",
   "metadata": {},
   "source": [
    "## Excercise 3\n",
    "\n",
    "Using the `Boston` data set, fit classification models in order to predict\n",
    "whether a given suburb has a crime rate above or below the median.\n",
    "Explore logistic regression, LDA, and KNN models using various subsets\n",
    "of the predictors. Describe your findings."
   ]
  },
  {
   "cell_type": "code",
   "execution_count": null,
   "metadata": {},
   "outputs": [],
   "source": []
  }
 ],
 "metadata": {
  "anaconda-cloud": {},
  "kernelspec": {
   "display_name": "Python 3",
   "language": "python",
   "name": "python3"
  },
  "language_info": {
   "codemirror_mode": {
    "name": "ipython",
    "version": 3
   },
   "file_extension": ".py",
   "mimetype": "text/x-python",
   "name": "python",
   "nbconvert_exporter": "python",
   "pygments_lexer": "ipython3",
   "version": "3.6.1"
  }
 },
 "nbformat": 4,
 "nbformat_minor": 1
}
