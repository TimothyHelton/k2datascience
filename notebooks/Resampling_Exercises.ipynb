{
 "cells": [
  {
   "cell_type": "markdown",
   "metadata": {},
   "source": [
    "# Resampling Methods\n",
    "Timothy Helton\n",
    "\n",
    "---\n",
    "\n",
    "The goal of predictive modeling is to create models that make good predictions on new data. We\n",
    "don't have access to this new data at the time of training, so we must use statistical methods to estimate the performance of a model on new data. This class of methods are called resampling methods, as they resampling your available training data.\n",
    "\n",
    "---\n",
    "<br>\n",
    "<font color=\"red\">\n",
    "    NOTE:\n",
    "    <br>\n",
    "    This notebook uses code found in the\n",
    "    <a href=\"https://github.com/TimothyHelton/k2datascience/blob/master/k2datascience/preprocessing.py\">\n",
    "    <strong>k2datascience.preprocessing</strong></a> module.\n",
    "    To execute all the cells do one of the following items:\n",
    "    <ul>\n",
    "        <li>Install the k2datascience package to the active Python interpreter.</li>\n",
    "        <li>Add k2datascience/k2datascience to the PYTHON_PATH system variable.</li>\n",
    "        <li>Create a link to the preprocessing.py file in the same directory as this notebook.</li>\n",
    "</font>"
   ]
  },
  {
   "cell_type": "markdown",
   "metadata": {},
   "source": [
    "---\n",
    "### Imports"
   ]
  },
  {
   "cell_type": "code",
   "execution_count": null,
   "metadata": {},
   "outputs": [],
   "source": [
    "import pandas as pd\n",
    "import numpy as np\n",
    "import scipy as sp\n",
    "\n",
    "from k2datascience import plotting\n",
    "from k2datascience import preprocessing\n",
    "\n",
    "from IPython.core.interactiveshell import InteractiveShell\n",
    "InteractiveShell.ast_node_interactivity = \"all\"\n",
    "%matplotlib inline"
   ]
  },
  {
   "cell_type": "markdown",
   "metadata": {},
   "source": [
    "------"
   ]
  },
  {
   "cell_type": "markdown",
   "metadata": {},
   "source": [
    "# Theory"
   ]
  },
  {
   "cell_type": "markdown",
   "metadata": {},
   "source": [
    "## Exercise 1\n",
    "\n",
    "We will now derive the probability that a given observation is part\n",
    "of a bootstrap sample. Suppose that we obtain a bootstrap sample\n",
    "from a set of n observations.\n",
    "\n",
    "(a) What is the probability that the first bootstrap observation is\n",
    "not the jth observation from the original sample? Justify your\n",
    "answer.\n",
    "\n",
    "(b) What is the probability that the second bootstrap observation\n",
    "is not the jth observation from the original sample?\n",
    "\n",
    "(c) Argue that the probability that the jth observation is not in the\n",
    "bootstrap sample is $(1 − 1/n) ^ n$.\n",
    "\n",
    "(d) When n = 5, what is the probability that the jth observation is\n",
    "in the bootstrap sample?\n",
    "\n",
    "(e) When n = 100, what is the probability that the jth observation\n",
    "is in the bootstrap sample?\n",
    "\n",
    "(f)When n = 10,000, what is the probability that the jth observation\n",
    "is in the bootstrap sample?\n"
   ]
  },
  {
   "cell_type": "markdown",
   "metadata": {},
   "source": [
    "(a) What is the probability that the first bootstrap observation is\n",
    "not the jth observation from the original sample? Justify your\n",
    "answer."
   ]
  },
  {
   "cell_type": "markdown",
   "metadata": {},
   "source": [
    "$$P = \\frac{n-1}{n}$$"
   ]
  },
  {
   "cell_type": "markdown",
   "metadata": {},
   "source": [
    "(b) What is the probability that the second bootstrap observation\n",
    "is not the jth observation from the original sample?"
   ]
  },
  {
   "cell_type": "markdown",
   "metadata": {},
   "source": [
    "- Samples may be selected multiple times.\n",
    "- Same Probability as (a), since the bootstrap does **not** remove a sample.\n",
    "    \n",
    "$$P = \\frac{n-1}{n}$$"
   ]
  },
  {
   "cell_type": "markdown",
   "metadata": {},
   "source": [
    "(c) Argue that the probability that the jth observation is not in the\n",
    "bootstrap sample is $(1 − 1/n) ^ n$."
   ]
  },
  {
   "cell_type": "markdown",
   "metadata": {},
   "source": [
    "- The probablility of the $j^{th}$ sample not being in any bootstrap is the equal to the probablility of the $j^{th}$ sample not being in a single bootstrap for all n observations."
   ]
  },
  {
   "cell_type": "markdown",
   "metadata": {},
   "source": [
    "(d) When n = 5, what is the probability that the jth observation is\n",
    "in the bootstrap sample?"
   ]
  },
  {
   "cell_type": "code",
   "execution_count": null,
   "metadata": {},
   "outputs": [],
   "source": [
    "print(f'{preprocessing.prob_bootstrap(5):.3f}')"
   ]
  },
  {
   "cell_type": "markdown",
   "metadata": {},
   "source": [
    "(e) When n = 100, what is the probability that the jth observation\n",
    "is in the bootstrap sample?"
   ]
  },
  {
   "cell_type": "code",
   "execution_count": null,
   "metadata": {},
   "outputs": [],
   "source": [
    "print(f'{preprocessing.prob_bootstrap(100):.3f}')"
   ]
  },
  {
   "cell_type": "markdown",
   "metadata": {},
   "source": [
    "(f)When n = 10,000, what is the probability that the jth observation\n",
    "is in the bootstrap sample?"
   ]
  },
  {
   "cell_type": "code",
   "execution_count": null,
   "metadata": {},
   "outputs": [],
   "source": [
    "print(f'{preprocessing.prob_bootstrap(1e4):.3f}')"
   ]
  },
  {
   "cell_type": "markdown",
   "metadata": {},
   "source": [
    "## Exercise 2\n",
    "\n",
    "We now review k-fold cross-validation.\n",
    "\n",
    "(a) Explain how k-fold cross-validation is implemented.\n",
    "\n",
    "(b) What are the advantages and disadvantages of k-fold crossvalidation\n",
    "relative to:\n",
    "1. The validation set approach?\n",
    "1. LOOCV?"
   ]
  },
  {
   "cell_type": "markdown",
   "metadata": {},
   "source": [
    "(a) Explain how k-fold cross-validation is implemented."
   ]
  },
  {
   "cell_type": "markdown",
   "metadata": {},
   "source": [
    "1. The data set is partitioned into k folds.\n",
    "1. A model is fit to k - 1 folds \n",
    "1. The error is calculated between the predicted values from the model and remaining unused fold.\n",
    "1. Repeat the previous steps k times, so each fold is used as the test sample.\n",
    "1. Average the results of all the models."
   ]
  },
  {
   "cell_type": "markdown",
   "metadata": {},
   "source": [
    "(b) What are the advantages and disadvantages of k-fold crossvalidation\n",
    "relative to:\n",
    "1. The validation set approach?\n",
    "1. LOOCV?"
   ]
  },
  {
   "cell_type": "markdown",
   "metadata": {},
   "source": [
    "1. K-Fold vs Validation set CV\n",
    "    1. K-Fold method uses all the data to create a model.\n",
    "    1. K-Fold is less likely to overfit.\n",
    "1. K-Fold vs LOOCV\n",
    "    1. K-Fold is faster\n",
    "    1. LOOCV has less bias\n",
    "    1. K-Fold has less variance\n",
    "    1. LOOCV has many sets that are collinear (resulting in higher variance)."
   ]
  },
  {
   "cell_type": "markdown",
   "metadata": {},
   "source": [
    "## Exercise 3\n",
    "\n",
    "Suppose that we use some statistical learning method to make a prediction\n",
    "for the response Y for a particular value of the predictor X.\n",
    "Carefully describe how we might estimate the standard deviation of\n",
    "our prediction."
   ]
  },
  {
   "cell_type": "markdown",
   "metadata": {},
   "source": [
    "- Calculate the standard deviation of the test metric."
   ]
  },
  {
   "cell_type": "markdown",
   "metadata": {},
   "source": [
    "# Practical"
   ]
  },
  {
   "cell_type": "markdown",
   "metadata": {},
   "source": [
    "## Exercise 4 - Credit Card Default Data Set\n",
    "\n",
    "We previously used logistic regression to predict the probability of `default` using `income` and `balance` on the `Default` data set. We will now estimate the test error of this logistic regression model using the validation set approach."
   ]
  },
  {
   "cell_type": "markdown",
   "metadata": {},
   "source": [
    "**Task** - Fit a logistic regression model that uses `income` and `balance` to predict `default`. Compare the error of the scikit-learn and statsmodel implementations without the validation set."
   ]
  },
  {
   "cell_type": "code",
   "execution_count": null,
   "metadata": {},
   "outputs": [],
   "source": [
    "loan = preprocessing.LoanDefault()\n",
    "loan.data.info()\n",
    "loan.data.head()"
   ]
  },
  {
   "cell_type": "code",
   "execution_count": null,
   "metadata": {},
   "outputs": [],
   "source": [
    "data = loan.data\n",
    "title = 'Loan'\n",
    "plotting.correlation_heatmap_plot(data, title=title)\n",
    "plotting.correlation_pair_plot(data, title=title)"
   ]
  },
  {
   "cell_type": "code",
   "execution_count": null,
   "metadata": {},
   "outputs": [],
   "source": [
    "loan.validation_split()\n",
    "loan.logistic_summary()"
   ]
  },
  {
   "cell_type": "markdown",
   "metadata": {},
   "source": [
    "**Task** - Using the validation set approach, estimate the test error of this model. In order to do this, you must perform the following steps:\n",
    "\n",
    "1. Split the sample set into a training set and a validation set.\n",
    "2. Fit a multiple logistic regression model using only the training observations.\n",
    "3. Obtain a prediction of default status for each individual in the validation set by computing the posterior probability of default for that individual, and classifying the individual to the `default` category if the posterior probability is greater than 0.5.\n",
    "4. Compute the validation set error, which is the fraction of the observations in the validation set that are misclassified.\n",
    "5. Repeat the process in (b) three times, using three different splits of the observations into a training set and a validation set. Comment on the results obtained.\n",
    "6. Now consider a logistic regression model that predicts the probability of `default` using `income`, `balance`, and a dummy variable for `student`. Estimate the test error for this model using the validation set approach. Comment on whether or not including a dummy variable for `student` leads to a reduction in the test error rate."
   ]
  },
  {
   "cell_type": "code",
   "execution_count": null,
   "metadata": {},
   "outputs": [],
   "source": [
    "loan = preprocessing.LoanDefault()\n",
    "loan.logistic_bootstrap(3)"
   ]
  },
  {
   "cell_type": "code",
   "execution_count": null,
   "metadata": {},
   "outputs": [],
   "source": [
    "loan.features = (pd.concat([loan.data.loc[:, ['balance', 'income']],\n",
    "                            loan.data.student.cat.codes],\n",
    "                           axis=1)\n",
    "                 .rename(columns={0: 'student'}))\n",
    "loan.validation_split()\n",
    "loan.logistic_summary()"
   ]
  },
  {
   "cell_type": "markdown",
   "metadata": {},
   "source": [
    "##### FINDINGS\n",
    "- The Logistic Regression models have error rates repeatably below 3%.\n",
    "- Adding the student variable did not reduce the error rate."
   ]
  },
  {
   "cell_type": "markdown",
   "metadata": {},
   "source": [
    "**Task** - Compute estimates for the standard errors of the `income` and `balance` logistic regression coefficients by using the bootrap and logistic regression functions.\n",
    "\n",
    "1. Use the summary() method on the logistic regression statsmodel instance.\n",
    "2. Implement your own bootstrap method and run the model 100 times\n",
    "3. Comment on the estimated standard errors obtained using statsmodels and your bootstrap."
   ]
  },
  {
   "cell_type": "code",
   "execution_count": null,
   "metadata": {},
   "outputs": [],
   "source": [
    "loan = preprocessing.LoanDefault()\n",
    "loan.logistic_bootstrap(100)"
   ]
  },
  {
   "cell_type": "markdown",
   "metadata": {},
   "source": [
    "## Exercise 5 -  Stock Market Data\n",
    "\n",
    "**Task** - We will compute the LOOCV error for a simple logistic regression model on the `SMarket` data set.  \n",
    "\n",
    "1. Read in the stock market data set\n",
    "2. Fit a logistic regression model that predicts `Direction` using `Lag1` and `Lag2`.\n",
    "3. Fit a logistic regression model that predicts `Direction` using `Lag1` and `Lag2` using all but the first observation.\n",
    "4. Use the model from (3) to predict the direction of the first observation. You can do this by predicting that the first observation will go up if $P(\\mbox{direction = Up} | Lag1,Lag2 ) > 0.5$. Was this observation correctly classified?\n",
    "5. Write a loop from `i=1` to `i=n`, where n is the number of observations in the data set, that performs each of the following steps:\n",
    "    - Fit a logistic regression model using all but the ith observation to predict `Direction` using `Lag1` and `Lag2`.\n",
    "    - Compute the posterior probability of the market moving up for the ith observation.\n",
    "    - Use the posterior probability for the ith observation in order to predict whether or not the market moves up.\n",
    "    - Determine whether or not an error was made in predicting the direction for the ith observation. If an error was made, then indicate this as a 1, and otherwise indicate it as a 0.\n",
    "6. Take the average of the n numbers obtained in (5) in order to obtain the LOOCV estimate for the test error. Comment on the results."
   ]
  },
  {
   "cell_type": "markdown",
   "metadata": {},
   "source": [
    "1. Read in the stock market data set"
   ]
  },
  {
   "cell_type": "code",
   "execution_count": null,
   "metadata": {},
   "outputs": [],
   "source": [
    "sm = preprocessing.StockMarket()\n",
    "sm.data.info()\n",
    "sm.data.head()"
   ]
  },
  {
   "cell_type": "code",
   "execution_count": null,
   "metadata": {},
   "outputs": [],
   "source": [
    "data = sm.data\n",
    "title = 'Stock Market'\n",
    "plotting.correlation_heatmap_plot(data, title=title)\n",
    "plotting.correlation_pair_plot(data, title=title)"
   ]
  },
  {
   "cell_type": "markdown",
   "metadata": {},
   "source": [
    "2\\. Fit a logistic regression model that predicts `Direction` using `Lag1` and `Lag2`."
   ]
  },
  {
   "cell_type": "code",
   "execution_count": null,
   "metadata": {},
   "outputs": [],
   "source": [
    "sm.logistic_summary()"
   ]
  },
  {
   "cell_type": "markdown",
   "metadata": {},
   "source": [
    "3\\. Fit a logistic regression model that predicts `Direction` using `Lag1` and `Lag2` using all but the first observation."
   ]
  },
  {
   "cell_type": "code",
   "execution_count": null,
   "metadata": {},
   "outputs": [],
   "source": [
    "sm.data = sm.data.iloc[1:]\n",
    "sm.logistic_summary()"
   ]
  },
  {
   "cell_type": "markdown",
   "metadata": {},
   "source": [
    "4\\. Use the model from (3) to predict the direction of the first observation. You can do this by predicting that the first observation will go up if $P(\\mbox{direction = Up} | Lag1,Lag2 ) > 0.5$. Was this observation correctly classified?"
   ]
  },
  {
   "cell_type": "code",
   "execution_count": null,
   "metadata": {},
   "outputs": [],
   "source": [
    "sm.data.iloc[0]\n",
    "sm.data.direction.cat.categories\n",
    "sm.predict[0]"
   ]
  },
  {
   "cell_type": "markdown",
   "metadata": {},
   "source": [
    "##### FINDINGS\n",
    "- The model correctly predicted the model would go up."
   ]
  },
  {
   "cell_type": "markdown",
   "metadata": {},
   "source": [
    "5\\. Write a loop from `i=1` to `i=n`, where n is the number of observations in the data set, that performs each of the following steps:\n",
    "\n",
    "- Fit a logistic regression model using all but the ith observation to predict `Direction` using `Lag1` and `Lag2`.\n",
    "- Compute the posterior probability of the market moving up for the ith observation.\n",
    "- Use the posterior probability for the ith observation in order to predict whether or not the market moves up.\n",
    "- Determine whether or not an error was made in predicting the direction for the ith observation. If an error was made, then indicate this as a 1, and otherwise indicate it as a 0."
   ]
  },
  {
   "cell_type": "code",
   "execution_count": null,
   "metadata": {},
   "outputs": [],
   "source": [
    "sm = preprocessing.StockMarket()\n",
    "sm.logistic_leave_one_out()"
   ]
  },
  {
   "cell_type": "code",
   "execution_count": null,
   "metadata": {},
   "outputs": [],
   "source": [
    "sm.logistic_leave_one_out()"
   ]
  },
  {
   "cell_type": "markdown",
   "metadata": {},
   "source": [
    "6\\. Take the average of the n numbers obtained in (5) in order to obtain the LOOCV estimate for the test error. Comment on the results."
   ]
  },
  {
   "cell_type": "markdown",
   "metadata": {},
   "source": [
    "##### FINDINGS\n",
    "- For this dataset the Leave One Out cross validation did not reduce the error rate."
   ]
  },
  {
   "cell_type": "markdown",
   "metadata": {},
   "source": [
    "## Exercise 6 - Simulated Data"
   ]
  },
  {
   "cell_type": "markdown",
   "metadata": {},
   "source": [
    "**Task** - We will now perform cross-validation on a simulated data set.\n",
    "\n",
    "1. Create a scatterplot of X against Y. Comment on what you find.\n",
    "2. Compute the LOOCV errors that result from fitting the following four models using least squares: Linear, Quadratic, Cubic and Quartic.\n",
    "3. Repeat (2) using another random seed, and report your results. Are your results the same as what you got in (2)? Why?\n",
    "4. Which of the models in (3) had the smallest LOOCV error? Is this what you expected? Explain your answer.\n",
    "5. Comment on the statistical significance of the coefficient estimates that results from fitting each of the models in (2) using least squares. Do these results agree with the conclusions drawn based on the cross-validation results?"
   ]
  },
  {
   "cell_type": "markdown",
   "metadata": {},
   "source": [
    "1\\. Create a scatterplot of X against Y. Comment on what you find."
   ]
  },
  {
   "cell_type": "code",
   "execution_count": null,
   "metadata": {},
   "outputs": [],
   "source": [
    "sim = preprocessing.Simulated()\n",
    "sim.data.info()\n",
    "sim.data.head()"
   ]
  },
  {
   "cell_type": "code",
   "execution_count": null,
   "metadata": {},
   "outputs": [],
   "source": [
    "sim.scatter_plot()"
   ]
  },
  {
   "cell_type": "markdown",
   "metadata": {},
   "source": [
    "2\\. Compute the LOOCV errors that result from fitting the following four models using least squares: Linear, Quadratic, Cubic and Quartic."
   ]
  },
  {
   "cell_type": "code",
   "execution_count": null,
   "metadata": {},
   "outputs": [],
   "source": [
    "for deg in range(1, 5):\n",
    "    print('{}\\nPolynomial Model Degree: {}\\n'.format('*' * 80, deg))\n",
    "    sim.linear_leave_one_out(degree=deg)"
   ]
  },
  {
   "cell_type": "markdown",
   "metadata": {},
   "source": [
    "3\\. Repeat (2) using another random seed, and report your results. Are your results the same as what you got in (2)? Why?"
   ]
  },
  {
   "cell_type": "code",
   "execution_count": null,
   "metadata": {},
   "outputs": [],
   "source": [
    "sim.random_seed = 2\n",
    "sim.load_data()\n",
    "sim.validation_split()\n",
    "sim.single_feature()\n",
    "\n",
    "for deg in range(1, 5):\n",
    "    print('{}\\nPolynomial Model Degree: {}\\n'.format('*' * 80, deg))\n",
    "    sim.linear_leave_one_out(degree=deg)"
   ]
  },
  {
   "cell_type": "markdown",
   "metadata": {},
   "source": [
    "##### FINDINGS\n",
    "- The answers are identical.\n",
    "    - Unclear if this is an optimization in Scikit Learn or a bug."
   ]
  },
  {
   "cell_type": "markdown",
   "metadata": {},
   "source": [
    "4\\. Which of the models in (3) had the smallest LOOCV error? Is this what you expected? Explain your answer."
   ]
  },
  {
   "cell_type": "markdown",
   "metadata": {},
   "source": [
    "- The Quadradic model has the best fit.\n",
    "- This is reasonable, since the data take a quadradic form.\n",
    "- The two hirer order models probably suffer from overfitting."
   ]
  },
  {
   "cell_type": "markdown",
   "metadata": {},
   "source": [
    "5\\. Comment on the statistical significance of the coefficient estimates that results from fitting each of the models in (2) using least squares. Do these results agree with the conclusions drawn based on the cross-validation results?"
   ]
  },
  {
   "cell_type": "markdown",
   "metadata": {},
   "source": [
    "## Exercise 7 - Boston Housing Data"
   ]
  },
  {
   "cell_type": "markdown",
   "metadata": {},
   "source": [
    "**Task** - We will now consider the `Boston` housing data set that we have used previously.\n",
    "\n",
    "1. Based on this data set, provide an estimate for the population mean of `medv`. Call this estimate $\\hat{\\mu}$.\n",
    "2. Provide an estimate of the standard error of $\\hat{\\mu}$. Interpret this result.\n",
    "3. Now estimate the standard error of $\\hat{\\mu}$ using the bootstrap. How does this compare to your answer from (2)?\n",
    "4. Based on your bootstrap estimate from (3), provide a 95% confidence interval for the mean of `medv`. Compare it to the results obtained from a t.test on `medv`.\n",
    "5. Based on this data set, provide an estimate, $\\hat{\\mu}$ med, for the median value of `medv` in the population.\n",
    "6. We now would like to estimate the standard error of $\\hat{\\mu}$ med. Unfortunately, there is no simple formula for computing the standard error of the median. Instead, estimate the standard error of the median using the bootstrap. Comment on your findings.\n",
    "7. Based on this data set, provide an estimate for the tenth percentile of `medv` in Boston suburbs. Call this quantity $\\hat{\\mu}$ 0.1.\n",
    "8. Use the bootstrap to estimate the standard error of $\\hat{\\mu}$ 0.1. Comment on your findings."
   ]
  },
  {
   "cell_type": "markdown",
   "metadata": {},
   "source": [
    "1\\. Based on this data set, provide an estimate for the population mean of `medv`. Call this estimate $\\hat{\\mu}$.\n"
   ]
  },
  {
   "cell_type": "code",
   "execution_count": null,
   "metadata": {},
   "outputs": [],
   "source": [
    "bh = preprocessing.BostonHousing()\n",
    "mu = bh.data.medv.mean()\n",
    "mu"
   ]
  },
  {
   "cell_type": "markdown",
   "metadata": {},
   "source": [
    "2\\. Provide an estimate of the standard error of $\\hat{\\mu}$. Interpret this result."
   ]
  },
  {
   "cell_type": "code",
   "execution_count": null,
   "metadata": {},
   "outputs": [],
   "source": [
    "mu_se = sp.stats.sem(bh.data.medv)\n",
    "mu_se"
   ]
  },
  {
   "cell_type": "markdown",
   "metadata": {},
   "source": [
    "3\\. Now estimate the standard error of $\\hat{\\mu}$ using the bootstrap. How does this compare to your answer from (2)?"
   ]
  },
  {
   "cell_type": "code",
   "execution_count": null,
   "metadata": {},
   "outputs": [],
   "source": [
    "std_errors = []\n",
    "sample_size = int(bh.data.shape[0] * 0.7)\n",
    "for n in range(1000):\n",
    "    new_sample = bh.data.medv.sample(n=sample_size)\n",
    "    std_errors.append(sp.stats.sem(new_sample))\n",
    "se_bootstrap = np.mean(std_errors)\n",
    "se_bootstrap"
   ]
  },
  {
   "cell_type": "markdown",
   "metadata": {},
   "source": [
    "4\\. Based on your bootstrap estimate from (3), provide a 95% confidence interval for the mean of `medv`. Compare it to the results obtained from a t.test on `medv`."
   ]
  },
  {
   "cell_type": "code",
   "execution_count": null,
   "metadata": {},
   "outputs": [],
   "source": [
    "offset = 2 * se_bootstrap\n",
    "bh.data.medv.mean() - offset, bh.data.medv.mean() + offset"
   ]
  },
  {
   "cell_type": "code",
   "execution_count": null,
   "metadata": {},
   "outputs": [],
   "source": [
    "sp.stats.t.interval(0.95, bh.data.shape[0] - 1,\n",
    "                    loc=np.mean(bh.data.medv),\n",
    "                    scale=sp.stats.sem(bh.data.medv))"
   ]
  },
  {
   "cell_type": "markdown",
   "metadata": {},
   "source": [
    "5\\. Based on this data set, provide an estimate, $\\hat{\\mu}$ med, for the median value of `medv` in the population."
   ]
  },
  {
   "cell_type": "code",
   "execution_count": null,
   "metadata": {},
   "outputs": [],
   "source": [
    "bh.data.medv.median()"
   ]
  },
  {
   "cell_type": "markdown",
   "metadata": {},
   "source": [
    "6\\. We now would like to estimate the standard error of $\\hat{\\mu}$ med. Unfortunately, there is no simple formula for computing the standard error of the median. Instead, estimate the standard error of the median using the bootstrap. Comment on your findings."
   ]
  },
  {
   "cell_type": "code",
   "execution_count": null,
   "metadata": {},
   "outputs": [],
   "source": [
    "medians = [(bh.data.medv\n",
    "            .sample(n=bh.data.shape[0], replace=True)\n",
    "            .median())\n",
    "           for _ in range(1000)]\n",
    "print(f'Average Median: {np.mean(medians)}')\n",
    "print(f'Standard Error: {np.std(medians)}')"
   ]
  },
  {
   "cell_type": "markdown",
   "metadata": {},
   "source": [
    "7\\. Based on this data set, provide an estimate for the tenth percentile of `medv` in Boston suburbs. Call this quantity $\\hat{\\mu}$ 0.1."
   ]
  },
  {
   "cell_type": "code",
   "execution_count": null,
   "metadata": {},
   "outputs": [],
   "source": [
    "bh.data.medv.quantile(0.1)"
   ]
  },
  {
   "cell_type": "markdown",
   "metadata": {},
   "source": [
    "8\\. Use the bootstrap to estimate the standard error of $\\hat{\\mu}$ 0.1. Comment on your findings."
   ]
  },
  {
   "cell_type": "code",
   "execution_count": null,
   "metadata": {},
   "outputs": [],
   "source": [
    "quantiles = [(bh.data.medv\n",
    "              .sample(bh.data.shape[0], replace=True)\n",
    "              .quantile(0.1))\n",
    "             for _ in range(1000)]\n",
    "print(f'Average 10th Percentile: {np.mean(quantiles):.3f}')\n",
    "print(f'Standard Error: {np.std(quantiles):.3f}')"
   ]
  }
 ],
 "metadata": {
  "anaconda-cloud": {},
  "kernelspec": {
   "display_name": "Python 3",
   "language": "python",
   "name": "python3"
  },
  "language_info": {
   "codemirror_mode": {
    "name": "ipython",
    "version": 3
   },
   "file_extension": ".py",
   "mimetype": "text/x-python",
   "name": "python",
   "nbconvert_exporter": "python",
   "pygments_lexer": "ipython3",
   "version": "3.6.1"
  }
 },
 "nbformat": 4,
 "nbformat_minor": 1
}
