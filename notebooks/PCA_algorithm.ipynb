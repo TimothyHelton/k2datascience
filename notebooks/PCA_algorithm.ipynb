{
 "cells": [
  {
   "cell_type": "markdown",
   "metadata": {},
   "source": [
    "# Dimensionality Reduction\n",
    "\n",
    "The sheer size of data in the modern age is not only a challenge for computer hardware but also a main bottleneck for the performance of many machine learning algorithms. The main goal of a PCA analysis is to identify patterns in data; PCA aims to detect the correlation between variables. If a strong correlation between variables exists, the attempt to reduce the dimensionality only makes sense. In a nutshell, this is what PCA is all about: Finding the directions of maximum variance in high-dimensional data and project it onto a smaller dimensional subspace while retaining most of the information."
   ]
  },
  {
   "cell_type": "markdown",
   "metadata": {},
   "source": [
    "---\n",
    "### Imports"
   ]
  },
  {
   "cell_type": "code",
   "execution_count": null,
   "metadata": {},
   "outputs": [],
   "source": [
    "import io\n",
    "\n",
    "import matplotlib.pyplot as plt\n",
    "from matplotlib.ticker import FuncFormatter\n",
    "import numpy as np\n",
    "import pandas as pd\n",
    "import seaborn as sns\n",
    "from sklearn import datasets\n",
    "from sklearn.decomposition import PCA\n",
    "\n",
    "from IPython.core.interactiveshell import InteractiveShell\n",
    "InteractiveShell.ast_node_interactivity = \"all\"\n",
    "%matplotlib inline"
   ]
  },
  {
   "cell_type": "markdown",
   "metadata": {},
   "source": [
    "---\n",
    "### Load Data"
   ]
  },
  {
   "cell_type": "code",
   "execution_count": null,
   "metadata": {},
   "outputs": [],
   "source": [
    "iris = sns.load_dataset('iris')\n",
    "                      \n",
    "iris.info()\n",
    "iris.head()"
   ]
  },
  {
   "cell_type": "markdown",
   "metadata": {},
   "source": [
    "---\n",
    "### Framework"
   ]
  },
  {
   "cell_type": "code",
   "execution_count": null,
   "metadata": {},
   "outputs": [],
   "source": [
    "ax_formatter = {\n",
    "    'billions': FuncFormatter(lambda x, position: f'{x * 1e-9:.0f}'),\n",
    "    'millions': FuncFormatter(lambda x, position: f'{x * 1e-6:.0f}'),\n",
    "    'percent_convert': FuncFormatter(lambda x, position: f'{x * 100:.0f}%'),\n",
    "    'percent': FuncFormatter(lambda x, position: f'{x:.0f}%'),\n",
    "    'thousands': FuncFormatter(lambda x, position: f'{x * 1e-3:.0f}'),\n",
    "}\n",
    "\n",
    "names = (\n",
    "    'Sepal Length',\n",
    "    'Sepal Width',\n",
    "    'Petal Length',\n",
    "    'Petal Width',\n",
    ")\n",
    "\n",
    "column_names = [x.replace(' ', '_').lower()\n",
    "                for x in names]\n",
    "\n",
    "size = {\n",
    "    'label': 14,\n",
    "    'legend': 12,\n",
    "    'title': 20,\n",
    "    'super_title': 24,\n",
    "}"
   ]
  },
  {
   "cell_type": "markdown",
   "metadata": {},
   "source": [
    "---\n",
    "## Principal Components Analysis\n",
    "\n",
    "Often, the desired goal is to reduce the dimensions of a **d**-dimensional dataset by projecting it onto a (**k**)-dimensional subspace (where **k** < **d**) in order to increase the computational efficiency while retaining most of the information. An important question is “what is the size of **k** that represents the data ‘well’?”\n",
    "\n",
    "Later, we will compute eigenvectors (the principal components) of a dataset and collect them in a projection matrix. Each of those eigenvectors is associated with an eigenvalue which can be interpreted as the “length” or “magnitude” of the corresponding eigenvector. If some eigenvalues have a significantly larger magnitude than others that the reduction of the dataset via PCA onto a smaller dimensional subspace by dropping the “less informative” eigenpairs is reasonable."
   ]
  },
  {
   "cell_type": "markdown",
   "metadata": {},
   "source": [
    "---\n",
    "## Exercise 1 - Explore the Iris Data Set\n",
    "\n",
    "[Original Data](https://archive.ics.uci.edu/ml/datasets/Iris). [Background Info](https://en.wikipedia.org/wiki/Iris_flower_data_set)."
   ]
  },
  {
   "cell_type": "code",
   "execution_count": null,
   "metadata": {},
   "outputs": [],
   "source": [
    "fig = plt.figure('Iris Violin Plot',\n",
    "                 figsize=(12, 5), facecolor='white',\n",
    "                 edgecolor='black')\n",
    "rows, cols = (1, 2)\n",
    "ax0 = plt.subplot2grid((rows, cols), (0, 0))\n",
    "ax1 = plt.subplot2grid((rows, cols), (0, 1), sharey=ax0)\n",
    "\n",
    "sns.boxplot(data=iris, width=0.4, ax=ax0)\n",
    "sns.violinplot(data=iris, inner='quartile', ax=ax1)\n",
    "\n",
    "for ax in (ax0, ax1):\n",
    "    ax.set_xlabel('Characteristics', fontsize=size['label'])\n",
    "    ax.set_xticklabels(names)\n",
    "    ax.set_ylabel('Centimeters $(cm)$', fontsize=size['label'])\n",
    "\n",
    "plt.suptitle('Iris Dataset', fontsize=size['title']);"
   ]
  },
  {
   "cell_type": "code",
   "execution_count": null,
   "metadata": {},
   "outputs": [],
   "source": [
    "fig = plt.figure('Iris Data Distribution Plots', figsize=(10, 15),\n",
    "                 facecolor='white', edgecolor='black')\n",
    "rows, cols = (4, 2)\n",
    "ax0 = plt.subplot2grid((rows, cols), (0, 0))\n",
    "ax1 = plt.subplot2grid((rows, cols), (0, 1))\n",
    "ax2 = plt.subplot2grid((rows, cols), (1, 0))\n",
    "ax3 = plt.subplot2grid((rows, cols), (1, 1))\n",
    "ax4 = plt.subplot2grid((rows, cols), (2, 0))\n",
    "ax5 = plt.subplot2grid((rows, cols), (2, 1))\n",
    "ax6 = plt.subplot2grid((rows, cols), (3, 0))\n",
    "ax7 = plt.subplot2grid((rows, cols), (3, 1))\n",
    "\n",
    "n_bins = 40\n",
    "\n",
    "for n, ax, data in zip(range(4), (ax0, ax2, ax4, ax6), column_names):\n",
    "    iris[data].plot(kind='hist', alpha=0.5, bins=n_bins, color=f'C{n}',\n",
    "                    edgecolor='black', label='_nolegend_', ax=ax)\n",
    "    ax.axvline(iris[data].mean(), color='crimson', label='Mean',\n",
    "               linestyle='--')\n",
    "    ax.axvline(iris[data].median(), color='black', label='Median',\n",
    "               linestyle='-.')\n",
    "    ax.set_title(names[n])\n",
    "    ax.set_ylabel('Count', fontsize=size['label'])\n",
    "\n",
    "for n, ax, data in zip(range(4), (ax1, ax3, ax5, ax7), column_names):\n",
    "    sns.distplot(iris[data], axlabel=False, bins=n_bins,\n",
    "                 hist_kws={'alpha': 0.5, 'color': f'C{n}',\n",
    "                           'edgecolor': 'black'},\n",
    "                 kde_kws={'color': 'darkblue', 'label': 'KDE'},\n",
    "                 ax=ax)\n",
    "    ax.set_title(names[n])\n",
    "    ax.set_ylabel('Density', fontsize=size['label'])\n",
    "\n",
    "for ax in (ax0, ax1, ax2, ax3, ax4, ax5, ax6, ax7):\n",
    "    ax.legend(fontsize=size['legend'])\n",
    "    ax.set_xlabel('Centimeters ($cm$)', fontsize=size['label'])\n",
    "\n",
    "plt.tight_layout()\n",
    "plt.suptitle('Iris Data Distribution Plots',\n",
    "             fontsize=size['super_title'], y=1.03);"
   ]
  },
  {
   "cell_type": "code",
   "execution_count": null,
   "metadata": {},
   "outputs": [],
   "source": [
    "grid = sns.pairplot(iris,\n",
    "                    diag_kws={'alpha': 0.5, 'edgecolor': 'black'},\n",
    "                    hue='species', markers=['o', 's', 'D'],\n",
    "                    plot_kws={'alpha': 0.7})\n",
    "\n",
    "grid.fig.suptitle('Iris Dataset Correlation',\n",
    "                  fontsize=size['super_title'], y=1.03)\n",
    "handles = grid._legend_data.values()\n",
    "labels = grid._legend_data.keys()\n",
    "grid._legend.remove()\n",
    "grid.fig.legend(bbox_to_anchor=(1.02, 0.5), fontsize=size['legend'],\n",
    "                handles=handles,\n",
    "                labels=[x.capitalize() for x in labels],\n",
    "                loc='center right')\n",
    "\n",
    "for n in range(4):\n",
    "    grid.axes[3, n].set_xlabel(names[n], fontsize=size['label'])\n",
    "    grid.axes[n, 0].set_ylabel(names[n], fontsize=size['label'])"
   ]
  },
  {
   "cell_type": "markdown",
   "metadata": {},
   "source": [
    "---\n",
    "## Exercise 2 - Build a PCA Class\n",
    "\n",
    "General Steps for PCA ([walkthrough in R if you get stuck](http://alexhwoods.com/pca/)):\n",
    "1. Standardize the data.\n",
    "2. Obtain the Eigenvectors and Eigenvalues from the covariance matrix or correlation matrix, or perform Singular Vector Decomposition.\n",
    "3. Sort eigenvalues in descending order and choose the **k** eigenvectors that correspond to the **k** largest eigenvalues where **k** is the number of dimensions of the new feature subspace (**k ≤ d**).\n",
    "4. Construct the projection matrix **W** from the selected **k** eigenvectors.\n",
    "5. Transform the original dataset **X** via **W** to obtain a **k**-dimensional feature subspace **Y**.\n",
    "\n",
    "The class should be able to:\n",
    "- Calculate the principal components with an optional parameter\n",
    "- Project onto a 2-dimensional feature space"
   ]
  },
  {
   "cell_type": "code",
   "execution_count": null,
   "metadata": {},
   "outputs": [],
   "source": []
  },
  {
   "cell_type": "markdown",
   "metadata": {},
   "source": [
    "---\n",
    "## Exercise 3 - Try it out on the Iris Data Set\n",
    "\n",
    "1. Plot the individual explained variance vs. cumulative explained variance.\n",
    "2. Plot the Iris data set on the new 2-dimensional feature subspace.\n"
   ]
  },
  {
   "cell_type": "code",
   "execution_count": null,
   "metadata": {},
   "outputs": [],
   "source": []
  },
  {
   "cell_type": "markdown",
   "metadata": {},
   "source": [
    "---\n",
    "## Exercise 4 - Check via Scikit-Learn\n",
    "\n",
    "This exercise was purely academic. You will always use an optimized version of PCA in practice."
   ]
  },
  {
   "cell_type": "code",
   "execution_count": null,
   "metadata": {},
   "outputs": [],
   "source": []
  }
 ],
 "metadata": {
  "anaconda-cloud": {},
  "kernelspec": {
   "display_name": "Python 3",
   "language": "python",
   "name": "python3"
  },
  "language_info": {
   "codemirror_mode": {
    "name": "ipython",
    "version": 3
   },
   "file_extension": ".py",
   "mimetype": "text/x-python",
   "name": "python",
   "nbconvert_exporter": "python",
   "pygments_lexer": "ipython3",
   "version": "3.6.1"
  }
 },
 "nbformat": 4,
 "nbformat_minor": 1
}
