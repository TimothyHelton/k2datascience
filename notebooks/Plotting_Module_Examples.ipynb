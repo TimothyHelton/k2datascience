{
 "cells": [
  {
   "cell_type": "markdown",
   "metadata": {
    "deletable": true,
    "editable": true
   },
   "source": [
    "# Plotting Module Examples\n",
    "---\n",
    "Timothy Helton"
   ]
  },
  {
   "cell_type": "markdown",
   "metadata": {
    "deletable": true,
    "editable": true
   },
   "source": [
    "### Imports"
   ]
  },
  {
   "cell_type": "code",
   "execution_count": null,
   "metadata": {
    "deletable": true,
    "editable": true
   },
   "outputs": [],
   "source": [
    "import numpy as np\n",
    "import pandas as pd\n",
    "\n",
    "from k2datascience import plotting as k2plot\n",
    "\n",
    "from IPython.core.interactiveshell import InteractiveShell\n",
    "InteractiveShell.ast_node_interactivity = \"all\"\n",
    "%matplotlib inline"
   ]
  },
  {
   "cell_type": "markdown",
   "metadata": {},
   "source": [
    "### Distribution Plot"
   ]
  },
  {
   "cell_type": "code",
   "execution_count": null,
   "metadata": {
    "deletable": true,
    "editable": true
   },
   "outputs": [],
   "source": [
    "transaction_data = pd.Series(np.random.weibull(25, size=1000) * 100)\n",
    "k2stats.distribution_plot(data=transaction_data,\n",
    "                          title='E-Commerce Transaction Data',\n",
    "                          x_label='US Dollars')"
   ]
  },
  {
   "cell_type": "markdown",
   "metadata": {
    "deletable": true,
    "editable": true
   },
   "source": [
    "### Pies Plot"
   ]
  },
  {
   "cell_type": "code",
   "execution_count": null,
   "metadata": {},
   "outputs": [],
   "source": [
    "cities = {\n",
    "    'Austin': ('TX', 93, 47),\n",
    "    'Dallas': ('TX', 100, 39),\n",
    "    'Denver': ('CO', 94, 43),\n",
    "    'Portland': ('OR', 23, 9),\n",
    "    'Raleigh': ('NC', 30, 24),\n",
    "    'Seattle': ('WA', 353, 181),\n",
    "}\n",
    "cols = ['state', 'data_science', 'data_scientist']\n",
    "data = pd.DataFrame([cities[x] for x in cities],\n",
    "                    index=pd.Index(data=cities.keys(), name='City'),\n",
    "                    columns=pd.Index(data=cols, name='Jobs'))\n",
    "data.sort_index(inplace=True)\n",
    "data['total'] = data[['data_science', 'data_scientist']].sum(axis=1)"
   ]
  },
  {
   "cell_type": "code",
   "execution_count": null,
   "metadata": {},
   "outputs": [],
   "source": [
    "jobs = data[['data_science', 'data_scientist']]\n",
    "k2stats.pies_plot(data=jobs, title='Job Distribution',\n",
    "                  subtitle=('Data Science', 'Data Scientist'))"
   ]
  }
 ],
 "metadata": {
  "kernelspec": {
   "display_name": "Python 3",
   "language": "python",
   "name": "python3"
  },
  "language_info": {
   "codemirror_mode": {
    "name": "ipython",
    "version": 3.0
   },
   "file_extension": ".py",
   "mimetype": "text/x-python",
   "name": "python",
   "nbconvert_exporter": "python",
   "pygments_lexer": "ipython3",
   "version": "3.6.0"
  }
 },
 "nbformat": 4,
 "nbformat_minor": 0
}
